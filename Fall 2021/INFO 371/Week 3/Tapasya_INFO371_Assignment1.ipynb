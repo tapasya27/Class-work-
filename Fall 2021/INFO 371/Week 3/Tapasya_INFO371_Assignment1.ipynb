{
 "cells": [
  {
   "cell_type": "markdown",
   "metadata": {
    "id": "85Z_qr_HpWBn"
   },
   "source": [
    "<h1 style=\"text-align:center\"> Drexel University </h1>\n",
    "<h2 style = \"text-align:center\"> College of Computing and Informatics</h2>\n",
    "<h2 style = \"text-align:center\">INFO 371: Data Mining Applications</h2>\n",
    "<h3 style = \"text-align:center\">Assignment 1</h3>\n",
    "<div style=\"text-align:center; border-style:solid; padding: 10px\">\n",
    "<div style=\"font-weight:bold\">Due Date: Sunday, Oct. 3, 2021</div>\n",
    "This assignment counts for 15% of the final grade\n",
    "</div>\n",
    "\n",
    "## **DON'T FORGET TO PUT YOUR NAME BELOW**\n",
    "\n",
    "## **NAME:** Tapasya Sharma \n",
    "\n",
    "\n",
    "### A. What to Hand In\n",
    "\t\n",
    "1. A completed this Jupyter notebook.\n",
    "2. Any data sets used in the assignment.\n",
    "3. Any multimedia and images used in the assignment. \n",
    "\n",
    "### B. How to Hand In\n",
    "\n",
    "Submit your files through the course website in the Blackboard Learn system.\n",
    "\n",
    "### C. When to Hand In\n",
    "\n",
    "1. Submit your assignment no later than 11:59pm in the due date.\n",
    "2. There will be a 10% (absolute value) deduction for each day of lateness, to a maximum of 3 days; assignments will not be accepted beyond that point. Missing work will earn a zero grade.\n",
    "\n",
    "### D. Answer the following questions"
   ]
  },
  {
   "cell_type": "markdown",
   "metadata": {
    "id": "z5Fc-AXLpWBu"
   },
   "source": [
    "## Question 1 [20 marks]:\n",
    "Using Markdown to organize your personal information in paragraphs and lists. You must implement the following minimum requirements:\n",
    "* Create at least 3 sections, *background*, *interests*, and *courses*.\n",
    "* Use headings for section titles.\n",
    "* Include an ordered list.\n",
    "* Include an unordered list.\n",
    "* Include hyperlinks pointing to external Web pages. \n",
    "* Embed some images.\n",
    "* Use **bold** and *italic* fonts.\n"
   ]
  },
  {
   "cell_type": "markdown",
   "metadata": {
    "id": "gOg-Vos8uL1v"
   },
   "source": [
    "## Background\n",
    "\n",
    "Hello! My name is **Tapasya Sharma** and I'm a **4th year** Data Science **major** with a **minor** in Psychology. I'm an international student from India and I'm 21 years old. I *love* dogs . I've had two co-ops till date and an internship. I've worked at PECO and CSL Behring for my co-ops and I've had an internship at Microsoft. I'm doing a second internship at Microsoft in Summer '22 as a Software Engineer Intern. *I also really enjoying playing Table Tennis and squash in my free time!*"
   ]
  },
  {
   "cell_type": "markdown",
   "metadata": {
    "id": "IgYjIVuCuUhe"
   },
   "source": [
    "##Interests\n",
    "\n",
    "Here are a couple of my other interests apart from TT and Squash: \n",
    "\n",
    "- Painting (I love to paint but more casually and as a habit)\n",
    "- Trying out adventure sports (I haven't done too many of them just [parasailing](https://www.bing.com/images/search?view=detailV2&ccid=AdkCRBgp&id=8BE7FEA61FF0972596124C5EB5004FE0A6DA05AF&thid=OIP.AdkCRBgpKWfG9KEU4hnovAHaE7&mediaurl=https%3a%2f%2fwww.wanakaparasailing.co.nz%2fwp-content%2fuploads%2f2019%2f08%2fHDR-4.jpg&cdnurl=https%3a%2f%2fth.bing.com%2fth%2fid%2fR.01d9024418292967c6f4a114e219e8bc%3frik%3drwXapuBPALVeTA%26pid%3dImgRaw%26r%3d0&exph=2591&expw=3887&q=parasailing&simid=607999229882271684&FORM=IRPRST&ck=4DC17C23A4BFAEFFB88E37BDC7E8C317&selectedIndex=29&ajaxhist=0&ajaxserp=0) and just into some lakes and rivers from great heights but I still love them!)"
   ]
  },
  {
   "cell_type": "markdown",
   "metadata": {
    "id": "RnMDvjmGuWmV"
   },
   "source": [
    "# Courses \n",
    "\n",
    "I'm mainly taking my minor courses this time (Psychology)\n",
    "1. PSY 330 - Cognitive Psychology\n",
    "2. PSY 120 - Developmental Psychology\n",
    "3. PSY 370 - [Forensic Psychology](https://www.psychology.org/careers/what-is-forensic-psychology/)\n",
    "\n",
    "![Image describing the day in the life of forensic psychologist](https://www.thebalancecareers.com/thmb/sDBqLy-OBUmX1bsCPDdFLoEA570=/3000x2000/filters:fill(auto,1)/forensic-psychologist-career-profile-974489-Final-5f092a82158e4eedbafe8c69990f6c3e.png)\n",
    "Credits - https://www.thebalancecareers.com/forensic-psychologist-career-profile-974489\n",
    "\n",
    "4. PSY 245 - Sports Psychology\n",
    "5. INFO 371 - This class! \n",
    "6. INFO 250 - Data Visualization\n",
    "\n",
    "I'm also TA'ing INFO 101 with Professor Tarbutton!\n"
   ]
  },
  {
   "cell_type": "markdown",
   "metadata": {
    "id": "jBsbkcbYOzCB"
   },
   "source": [
    "## Question 2 [20 marks]:\n",
    "1. Prepare a small data set in CSV format. While you can create any data of your own interest, here are some requirements on what you should have in the data:\n",
    " * The data should have three (and only three) attributes: two numeric (numbers) attributes and one nominal (categorical) with 2 different values (2 classes); \n",
    " * The data set should have at least 40 instances.\n",
    "2. Load the data as a Pandas DataFrame.\n",
    "3. Show the descriptive statistics of the data.\n",
    "4. Use matplotlib to visualize your data: x-axis and y-axis corresponding to the two numeric attribues; coloring the points with the nominal attribute.\n"
   ]
  },
  {
   "cell_type": "code",
   "execution_count": 1,
   "metadata": {
    "id": "0OcnE_Sp0Guq"
   },
   "outputs": [],
   "source": [
    "import pandas as pd\n",
    "import matplotlib.pyplot as plt \n",
    "from sklearn.model_selection import train_test_split"
   ]
  },
  {
   "cell_type": "code",
   "execution_count": 2,
   "metadata": {
    "id": "bdx-gEf7RdTs"
   },
   "outputs": [],
   "source": [
    "placement = 'Placement_Data_Full_Class.csv'\n",
    "placement_df = pd.read_csv(placement)"
   ]
  },
  {
   "cell_type": "code",
   "execution_count": 3,
   "metadata": {
    "colab": {
     "base_uri": "https://localhost:8080/"
    },
    "id": "Inr86TLT1F6W",
    "outputId": "fa0e9022-7a24-4192-d627-14bba07fabfe"
   },
   "outputs": [
    {
     "data": {
      "text/plain": [
       "pandas.core.frame.DataFrame"
      ]
     },
     "execution_count": 3,
     "metadata": {},
     "output_type": "execute_result"
    }
   ],
   "source": [
    "#uploaded the csv as a DataFrame\n",
    "type(placement_df)"
   ]
  },
  {
   "cell_type": "code",
   "execution_count": 4,
   "metadata": {
    "colab": {
     "base_uri": "https://localhost:8080/"
    },
    "id": "DgSgWWNC_KsI",
    "outputId": "48414ea5-579d-4b8f-fdef-00417e709e1b"
   },
   "outputs": [
    {
     "data": {
      "text/plain": [
       "Index(['High School Percentage', 'Bachelors Percentage', 'Placed/Not Placed'], dtype='object')"
      ]
     },
     "execution_count": 4,
     "metadata": {},
     "output_type": "execute_result"
    }
   ],
   "source": [
    "placement_df.columns"
   ]
  },
  {
   "cell_type": "code",
   "execution_count": 5,
   "metadata": {
    "colab": {
     "base_uri": "https://localhost:8080/",
     "height": 357
    },
    "id": "GbWU9gig1eze",
    "outputId": "a875d3c6-7aa5-4421-b9aa-27b195480fa2"
   },
   "outputs": [
    {
     "data": {
      "text/html": [
       "<div>\n",
       "<style scoped>\n",
       "    .dataframe tbody tr th:only-of-type {\n",
       "        vertical-align: middle;\n",
       "    }\n",
       "\n",
       "    .dataframe tbody tr th {\n",
       "        vertical-align: top;\n",
       "    }\n",
       "\n",
       "    .dataframe thead th {\n",
       "        text-align: right;\n",
       "    }\n",
       "</style>\n",
       "<table border=\"1\" class=\"dataframe\">\n",
       "  <thead>\n",
       "    <tr style=\"text-align: right;\">\n",
       "      <th></th>\n",
       "      <th>High School Percentage</th>\n",
       "      <th>Bachelors Percentage</th>\n",
       "      <th>Placed/Not Placed</th>\n",
       "    </tr>\n",
       "  </thead>\n",
       "  <tbody>\n",
       "    <tr>\n",
       "      <th>0</th>\n",
       "      <td>91.00</td>\n",
       "      <td>58.00</td>\n",
       "      <td>Placed</td>\n",
       "    </tr>\n",
       "    <tr>\n",
       "      <th>1</th>\n",
       "      <td>78.33</td>\n",
       "      <td>77.48</td>\n",
       "      <td>Placed</td>\n",
       "    </tr>\n",
       "    <tr>\n",
       "      <th>2</th>\n",
       "      <td>68.00</td>\n",
       "      <td>64.00</td>\n",
       "      <td>Placed</td>\n",
       "    </tr>\n",
       "    <tr>\n",
       "      <th>3</th>\n",
       "      <td>52.00</td>\n",
       "      <td>52.00</td>\n",
       "      <td>Not Placed</td>\n",
       "    </tr>\n",
       "    <tr>\n",
       "      <th>4</th>\n",
       "      <td>73.60</td>\n",
       "      <td>73.30</td>\n",
       "      <td>Placed</td>\n",
       "    </tr>\n",
       "    <tr>\n",
       "      <th>5</th>\n",
       "      <td>49.80</td>\n",
       "      <td>67.25</td>\n",
       "      <td>Not Placed</td>\n",
       "    </tr>\n",
       "    <tr>\n",
       "      <th>6</th>\n",
       "      <td>49.20</td>\n",
       "      <td>79.00</td>\n",
       "      <td>Not Placed</td>\n",
       "    </tr>\n",
       "    <tr>\n",
       "      <th>7</th>\n",
       "      <td>64.00</td>\n",
       "      <td>66.00</td>\n",
       "      <td>Placed</td>\n",
       "    </tr>\n",
       "    <tr>\n",
       "      <th>8</th>\n",
       "      <td>79.00</td>\n",
       "      <td>72.00</td>\n",
       "      <td>Placed</td>\n",
       "    </tr>\n",
       "    <tr>\n",
       "      <th>9</th>\n",
       "      <td>70.00</td>\n",
       "      <td>61.00</td>\n",
       "      <td>Not Placed</td>\n",
       "    </tr>\n",
       "  </tbody>\n",
       "</table>\n",
       "</div>"
      ],
      "text/plain": [
       "   High School Percentage  Bachelors Percentage Placed/Not Placed\n",
       "0                   91.00                 58.00            Placed\n",
       "1                   78.33                 77.48            Placed\n",
       "2                   68.00                 64.00            Placed\n",
       "3                   52.00                 52.00        Not Placed\n",
       "4                   73.60                 73.30            Placed\n",
       "5                   49.80                 67.25        Not Placed\n",
       "6                   49.20                 79.00        Not Placed\n",
       "7                   64.00                 66.00            Placed\n",
       "8                   79.00                 72.00            Placed\n",
       "9                   70.00                 61.00        Not Placed"
      ]
     },
     "execution_count": 5,
     "metadata": {},
     "output_type": "execute_result"
    }
   ],
   "source": [
    "#Top 10 instances of the dataframe\n",
    "placement_df.head(10)"
   ]
  },
  {
   "cell_type": "code",
   "execution_count": 6,
   "metadata": {
    "colab": {
     "base_uri": "https://localhost:8080/",
     "height": 357
    },
    "id": "M_vYJH0s1iPF",
    "outputId": "bd7bd579-deff-4096-9df3-ac353b625476"
   },
   "outputs": [
    {
     "data": {
      "text/html": [
       "<div>\n",
       "<style scoped>\n",
       "    .dataframe tbody tr th:only-of-type {\n",
       "        vertical-align: middle;\n",
       "    }\n",
       "\n",
       "    .dataframe tbody tr th {\n",
       "        vertical-align: top;\n",
       "    }\n",
       "\n",
       "    .dataframe thead th {\n",
       "        text-align: right;\n",
       "    }\n",
       "</style>\n",
       "<table border=\"1\" class=\"dataframe\">\n",
       "  <thead>\n",
       "    <tr style=\"text-align: right;\">\n",
       "      <th></th>\n",
       "      <th>High School Percentage</th>\n",
       "      <th>Bachelors Percentage</th>\n",
       "      <th>Placed/Not Placed</th>\n",
       "    </tr>\n",
       "  </thead>\n",
       "  <tbody>\n",
       "    <tr>\n",
       "      <th>205</th>\n",
       "      <td>62.0</td>\n",
       "      <td>65.0</td>\n",
       "      <td>Placed</td>\n",
       "    </tr>\n",
       "    <tr>\n",
       "      <th>206</th>\n",
       "      <td>42.0</td>\n",
       "      <td>60.0</td>\n",
       "      <td>Not Placed</td>\n",
       "    </tr>\n",
       "    <tr>\n",
       "      <th>207</th>\n",
       "      <td>78.0</td>\n",
       "      <td>61.0</td>\n",
       "      <td>Placed</td>\n",
       "    </tr>\n",
       "    <tr>\n",
       "      <th>208</th>\n",
       "      <td>60.0</td>\n",
       "      <td>65.0</td>\n",
       "      <td>Not Placed</td>\n",
       "    </tr>\n",
       "    <tr>\n",
       "      <th>209</th>\n",
       "      <td>72.0</td>\n",
       "      <td>65.0</td>\n",
       "      <td>Placed</td>\n",
       "    </tr>\n",
       "    <tr>\n",
       "      <th>210</th>\n",
       "      <td>82.0</td>\n",
       "      <td>77.6</td>\n",
       "      <td>Placed</td>\n",
       "    </tr>\n",
       "    <tr>\n",
       "      <th>211</th>\n",
       "      <td>60.0</td>\n",
       "      <td>72.0</td>\n",
       "      <td>Placed</td>\n",
       "    </tr>\n",
       "    <tr>\n",
       "      <th>212</th>\n",
       "      <td>67.0</td>\n",
       "      <td>73.0</td>\n",
       "      <td>Placed</td>\n",
       "    </tr>\n",
       "    <tr>\n",
       "      <th>213</th>\n",
       "      <td>66.0</td>\n",
       "      <td>58.0</td>\n",
       "      <td>Placed</td>\n",
       "    </tr>\n",
       "    <tr>\n",
       "      <th>214</th>\n",
       "      <td>58.0</td>\n",
       "      <td>53.0</td>\n",
       "      <td>Not Placed</td>\n",
       "    </tr>\n",
       "  </tbody>\n",
       "</table>\n",
       "</div>"
      ],
      "text/plain": [
       "     High School Percentage  Bachelors Percentage Placed/Not Placed\n",
       "205                    62.0                  65.0            Placed\n",
       "206                    42.0                  60.0        Not Placed\n",
       "207                    78.0                  61.0            Placed\n",
       "208                    60.0                  65.0        Not Placed\n",
       "209                    72.0                  65.0            Placed\n",
       "210                    82.0                  77.6            Placed\n",
       "211                    60.0                  72.0            Placed\n",
       "212                    67.0                  73.0            Placed\n",
       "213                    66.0                  58.0            Placed\n",
       "214                    58.0                  53.0        Not Placed"
      ]
     },
     "execution_count": 6,
     "metadata": {},
     "output_type": "execute_result"
    }
   ],
   "source": [
    "#The df has more than 40 instances\n",
    "placement_df.tail(10)"
   ]
  },
  {
   "cell_type": "code",
   "execution_count": 7,
   "metadata": {
    "colab": {
     "base_uri": "https://localhost:8080/"
    },
    "id": "5p8Tyuh918mR",
    "outputId": "ccf79658-d5c9-4613-ca9c-57acb2cb52bb"
   },
   "outputs": [
    {
     "name": "stdout",
     "output_type": "stream",
     "text": [
      "<class 'pandas.core.frame.DataFrame'>\n",
      "RangeIndex: 215 entries, 0 to 214\n",
      "Data columns (total 3 columns):\n",
      " #   Column                  Non-Null Count  Dtype  \n",
      "---  ------                  --------------  -----  \n",
      " 0   High School Percentage  215 non-null    float64\n",
      " 1   Bachelors Percentage    215 non-null    float64\n",
      " 2   Placed/Not Placed       215 non-null    object \n",
      "dtypes: float64(2), object(1)\n",
      "memory usage: 5.2+ KB\n"
     ]
    }
   ],
   "source": [
    "placement_df.info()"
   ]
  },
  {
   "cell_type": "code",
   "execution_count": 8,
   "metadata": {
    "colab": {
     "base_uri": "https://localhost:8080/",
     "height": 295
    },
    "id": "dGmzf4w_1-sx",
    "outputId": "67ec4623-f529-49e0-bc9c-f9219119c966"
   },
   "outputs": [
    {
     "data": {
      "text/html": [
       "<div>\n",
       "<style scoped>\n",
       "    .dataframe tbody tr th:only-of-type {\n",
       "        vertical-align: middle;\n",
       "    }\n",
       "\n",
       "    .dataframe tbody tr th {\n",
       "        vertical-align: top;\n",
       "    }\n",
       "\n",
       "    .dataframe thead th {\n",
       "        text-align: right;\n",
       "    }\n",
       "</style>\n",
       "<table border=\"1\" class=\"dataframe\">\n",
       "  <thead>\n",
       "    <tr style=\"text-align: right;\">\n",
       "      <th></th>\n",
       "      <th>High School Percentage</th>\n",
       "      <th>Bachelors Percentage</th>\n",
       "    </tr>\n",
       "  </thead>\n",
       "  <tbody>\n",
       "    <tr>\n",
       "      <th>count</th>\n",
       "      <td>215.000000</td>\n",
       "      <td>215.000000</td>\n",
       "    </tr>\n",
       "    <tr>\n",
       "      <th>mean</th>\n",
       "      <td>66.333163</td>\n",
       "      <td>66.370186</td>\n",
       "    </tr>\n",
       "    <tr>\n",
       "      <th>std</th>\n",
       "      <td>10.897509</td>\n",
       "      <td>7.358743</td>\n",
       "    </tr>\n",
       "    <tr>\n",
       "      <th>min</th>\n",
       "      <td>37.000000</td>\n",
       "      <td>50.000000</td>\n",
       "    </tr>\n",
       "    <tr>\n",
       "      <th>25%</th>\n",
       "      <td>60.900000</td>\n",
       "      <td>61.000000</td>\n",
       "    </tr>\n",
       "    <tr>\n",
       "      <th>50%</th>\n",
       "      <td>65.000000</td>\n",
       "      <td>66.000000</td>\n",
       "    </tr>\n",
       "    <tr>\n",
       "      <th>75%</th>\n",
       "      <td>73.000000</td>\n",
       "      <td>72.000000</td>\n",
       "    </tr>\n",
       "    <tr>\n",
       "      <th>max</th>\n",
       "      <td>97.700000</td>\n",
       "      <td>91.000000</td>\n",
       "    </tr>\n",
       "  </tbody>\n",
       "</table>\n",
       "</div>"
      ],
      "text/plain": [
       "       High School Percentage  Bachelors Percentage\n",
       "count              215.000000            215.000000\n",
       "mean                66.333163             66.370186\n",
       "std                 10.897509              7.358743\n",
       "min                 37.000000             50.000000\n",
       "25%                 60.900000             61.000000\n",
       "50%                 65.000000             66.000000\n",
       "75%                 73.000000             72.000000\n",
       "max                 97.700000             91.000000"
      ]
     },
     "execution_count": 8,
     "metadata": {},
     "output_type": "execute_result"
    }
   ],
   "source": [
    "placement_df.describe()"
   ]
  },
  {
   "cell_type": "code",
   "execution_count": 9,
   "metadata": {
    "colab": {
     "base_uri": "https://localhost:8080/"
    },
    "id": "z-k9MFwF25BK",
    "outputId": "6a98f5b6-3bf9-4630-d15a-2ff762eb42d2"
   },
   "outputs": [
    {
     "data": {
      "text/plain": [
       "Index(['High School Percentage', 'Bachelors Percentage', 'Placed/Not Placed'], dtype='object')"
      ]
     },
     "execution_count": 9,
     "metadata": {},
     "output_type": "execute_result"
    }
   ],
   "source": [
    "placement_df.columns"
   ]
  },
  {
   "cell_type": "code",
   "execution_count": 10,
   "metadata": {
    "id": "WZeHs3gUUbxR"
   },
   "outputs": [],
   "source": [
    "#Creating a map that corresponds place/not placed to color\n",
    "mapping = {\"Not Placed\":0, \"Placed\":1}\n",
    "colors = placement_df[\"Placed/Not Placed\"].map(mapping)"
   ]
  },
  {
   "cell_type": "code",
   "execution_count": 32,
   "metadata": {
    "colab": {
     "base_uri": "https://localhost:8080/",
     "height": 295
    },
    "id": "ygfqimLJ2SYV",
    "outputId": "17a27fa4-b4cc-4123-dc31-fb78dfabd413"
   },
   "outputs": [
    {
     "data": {
      "image/png": "[encoded data removed]",
      "text/plain": [
       "<Figure size 1440x288 with 2 Axes>"
      ]
     },
     "metadata": {
      "needs_background": "light"
     },
     "output_type": "display_data"
    }
   ],
   "source": [
    "#Distribution of students being placed/not placed into a job based on their bachelor and high school percentage\n",
    "plt.figure(figsize=(20,4))\n",
    "plt.scatter(placement_df['Bachelors Percentage'],placement_df['High School Percentage'], c= colors)\n",
    "cbar = plt.colorbar()\n",
    "cbar.set_ticks([1,0])\n",
    "plt.xlabel(\"Bachelor Degree Percentage\")\n",
    "plt.ylabel(\"High School Percentage\")\n",
    "plt.title(\"Distribution of students being placed/not placed into a job based on their bachelor and high school percentage\")\n",
    "plt.show()"
   ]
  },
  {
   "cell_type": "markdown",
   "metadata": {
    "id": "dlTtYdM1SRew"
   },
   "source": [
    "## Question 3 [60 marks] Use the data set you created in Question 2:\n",
    "1. Import KNeighborsClassifier from Scikit-Learn\n",
    "2. Import accuracy_score from Scikit-Learn\n",
    "3. Extract the two numerical attributes as training data X and the categorical attribute as target y\n",
    "4. Fit a K Nearest Neighbor classifier on X and y\n",
    "5. Predict the target labels of the training data X\n",
    "6. Compute and show the accurcy score of the KNN classifier on the training data X\n",
    "7. By default, how many nearest neighbors are used in the model?\n",
    "8. Use different number of nearest neighbors; test K = 1, 2, 3 and show the accuracy results.\n",
    "9. Does the value of K affect the performance? Why or Why not?"
   ]
  },
  {
   "cell_type": "code",
   "execution_count": 12,
   "metadata": {
    "id": "PaJZd7leUqzW"
   },
   "outputs": [],
   "source": [
    "\"\"\"\n",
    "1. Import KNeighborsClassifier from Scikit-Learn\n",
    "2. Import accuracy_score from Scikit-Learn\n",
    "\n",
    "\"\"\"\n",
    "from sklearn.neighbors import KNeighborsClassifier\n",
    "from sklearn.metrics import accuracy_score\n",
    "from sklearn.model_selection import train_test_split"
   ]
  },
  {
   "cell_type": "code",
   "execution_count": 13,
   "metadata": {
    "colab": {
     "base_uri": "https://localhost:8080/",
     "height": 203
    },
    "id": "Jk2P7lHduzwx",
    "outputId": "292c6978-b6bb-46f1-b9e1-846ee3cc5eea"
   },
   "outputs": [
    {
     "data": {
      "text/html": [
       "<div>\n",
       "<style scoped>\n",
       "    .dataframe tbody tr th:only-of-type {\n",
       "        vertical-align: middle;\n",
       "    }\n",
       "\n",
       "    .dataframe tbody tr th {\n",
       "        vertical-align: top;\n",
       "    }\n",
       "\n",
       "    .dataframe thead th {\n",
       "        text-align: right;\n",
       "    }\n",
       "</style>\n",
       "<table border=\"1\" class=\"dataframe\">\n",
       "  <thead>\n",
       "    <tr style=\"text-align: right;\">\n",
       "      <th></th>\n",
       "      <th>High School Percentage</th>\n",
       "      <th>Bachelors Percentage</th>\n",
       "      <th>Placed/Not Placed</th>\n",
       "    </tr>\n",
       "  </thead>\n",
       "  <tbody>\n",
       "    <tr>\n",
       "      <th>0</th>\n",
       "      <td>91.00</td>\n",
       "      <td>58.00</td>\n",
       "      <td>Placed</td>\n",
       "    </tr>\n",
       "    <tr>\n",
       "      <th>1</th>\n",
       "      <td>78.33</td>\n",
       "      <td>77.48</td>\n",
       "      <td>Placed</td>\n",
       "    </tr>\n",
       "    <tr>\n",
       "      <th>2</th>\n",
       "      <td>68.00</td>\n",
       "      <td>64.00</td>\n",
       "      <td>Placed</td>\n",
       "    </tr>\n",
       "    <tr>\n",
       "      <th>3</th>\n",
       "      <td>52.00</td>\n",
       "      <td>52.00</td>\n",
       "      <td>Not Placed</td>\n",
       "    </tr>\n",
       "    <tr>\n",
       "      <th>4</th>\n",
       "      <td>73.60</td>\n",
       "      <td>73.30</td>\n",
       "      <td>Placed</td>\n",
       "    </tr>\n",
       "  </tbody>\n",
       "</table>\n",
       "</div>"
      ],
      "text/plain": [
       "   High School Percentage  Bachelors Percentage Placed/Not Placed\n",
       "0                   91.00                 58.00            Placed\n",
       "1                   78.33                 77.48            Placed\n",
       "2                   68.00                 64.00            Placed\n",
       "3                   52.00                 52.00        Not Placed\n",
       "4                   73.60                 73.30            Placed"
      ]
     },
     "execution_count": 13,
     "metadata": {},
     "output_type": "execute_result"
    }
   ],
   "source": [
    "mapping = {\"Not Placed\":0, \"Placed\":1}\n",
    "placement_df.head()"
   ]
  },
  {
   "cell_type": "code",
   "execution_count": 14,
   "metadata": {
    "colab": {
     "base_uri": "https://localhost:8080/",
     "height": 203
    },
    "id": "Cu8H-XtF-ZO8",
    "outputId": "63d29026-5fbf-4833-fe71-eb79608a6f71"
   },
   "outputs": [
    {
     "data": {
      "text/html": [
       "<div>\n",
       "<style scoped>\n",
       "    .dataframe tbody tr th:only-of-type {\n",
       "        vertical-align: middle;\n",
       "    }\n",
       "\n",
       "    .dataframe tbody tr th {\n",
       "        vertical-align: top;\n",
       "    }\n",
       "\n",
       "    .dataframe thead th {\n",
       "        text-align: right;\n",
       "    }\n",
       "</style>\n",
       "<table border=\"1\" class=\"dataframe\">\n",
       "  <thead>\n",
       "    <tr style=\"text-align: right;\">\n",
       "      <th></th>\n",
       "      <th>High School Percentage</th>\n",
       "      <th>Bachelors Percentage</th>\n",
       "      <th>Placed/Not Placed</th>\n",
       "    </tr>\n",
       "  </thead>\n",
       "  <tbody>\n",
       "    <tr>\n",
       "      <th>0</th>\n",
       "      <td>91.00</td>\n",
       "      <td>58.00</td>\n",
       "      <td>1</td>\n",
       "    </tr>\n",
       "    <tr>\n",
       "      <th>1</th>\n",
       "      <td>78.33</td>\n",
       "      <td>77.48</td>\n",
       "      <td>1</td>\n",
       "    </tr>\n",
       "    <tr>\n",
       "      <th>2</th>\n",
       "      <td>68.00</td>\n",
       "      <td>64.00</td>\n",
       "      <td>1</td>\n",
       "    </tr>\n",
       "    <tr>\n",
       "      <th>3</th>\n",
       "      <td>52.00</td>\n",
       "      <td>52.00</td>\n",
       "      <td>0</td>\n",
       "    </tr>\n",
       "    <tr>\n",
       "      <th>4</th>\n",
       "      <td>73.60</td>\n",
       "      <td>73.30</td>\n",
       "      <td>1</td>\n",
       "    </tr>\n",
       "  </tbody>\n",
       "</table>\n",
       "</div>"
      ],
      "text/plain": [
       "   High School Percentage  Bachelors Percentage  Placed/Not Placed\n",
       "0                   91.00                 58.00                  1\n",
       "1                   78.33                 77.48                  1\n",
       "2                   68.00                 64.00                  1\n",
       "3                   52.00                 52.00                  0\n",
       "4                   73.60                 73.30                  1"
      ]
     },
     "execution_count": 14,
     "metadata": {},
     "output_type": "execute_result"
    }
   ],
   "source": [
    "placement_df['Placed/Not Placed'].replace(mapping, inplace = True)\n",
    "placement_df.head()"
   ]
  },
  {
   "cell_type": "code",
   "execution_count": 15,
   "metadata": {
    "id": "2zITr1G_BLO0"
   },
   "outputs": [],
   "source": [
    "#3. Extract the two numerical attributes as training data X and the categorical attribute as target y\n",
    "#Taking the first 150 rows as testing data (~70%)\n",
    "X_train = placement_df.iloc[:,:2]\n",
    "y_train = placement_df.iloc[:,2]"
   ]
  },
  {
   "cell_type": "code",
   "execution_count": 16,
   "metadata": {
    "colab": {
     "base_uri": "https://localhost:8080/",
     "height": 417
    },
    "id": "pWVFLWYmBzSK",
    "outputId": "8b45a1dc-3371-4c0a-931d-e039cf0ee84a"
   },
   "outputs": [
    {
     "data": {
      "text/html": [
       "<div>\n",
       "<style scoped>\n",
       "    .dataframe tbody tr th:only-of-type {\n",
       "        vertical-align: middle;\n",
       "    }\n",
       "\n",
       "    .dataframe tbody tr th {\n",
       "        vertical-align: top;\n",
       "    }\n",
       "\n",
       "    .dataframe thead th {\n",
       "        text-align: right;\n",
       "    }\n",
       "</style>\n",
       "<table border=\"1\" class=\"dataframe\">\n",
       "  <thead>\n",
       "    <tr style=\"text-align: right;\">\n",
       "      <th></th>\n",
       "      <th>High School Percentage</th>\n",
       "      <th>Bachelors Percentage</th>\n",
       "    </tr>\n",
       "  </thead>\n",
       "  <tbody>\n",
       "    <tr>\n",
       "      <th>0</th>\n",
       "      <td>91.00</td>\n",
       "      <td>58.00</td>\n",
       "    </tr>\n",
       "    <tr>\n",
       "      <th>1</th>\n",
       "      <td>78.33</td>\n",
       "      <td>77.48</td>\n",
       "    </tr>\n",
       "    <tr>\n",
       "      <th>2</th>\n",
       "      <td>68.00</td>\n",
       "      <td>64.00</td>\n",
       "    </tr>\n",
       "    <tr>\n",
       "      <th>3</th>\n",
       "      <td>52.00</td>\n",
       "      <td>52.00</td>\n",
       "    </tr>\n",
       "    <tr>\n",
       "      <th>4</th>\n",
       "      <td>73.60</td>\n",
       "      <td>73.30</td>\n",
       "    </tr>\n",
       "    <tr>\n",
       "      <th>...</th>\n",
       "      <td>...</td>\n",
       "      <td>...</td>\n",
       "    </tr>\n",
       "    <tr>\n",
       "      <th>210</th>\n",
       "      <td>82.00</td>\n",
       "      <td>77.60</td>\n",
       "    </tr>\n",
       "    <tr>\n",
       "      <th>211</th>\n",
       "      <td>60.00</td>\n",
       "      <td>72.00</td>\n",
       "    </tr>\n",
       "    <tr>\n",
       "      <th>212</th>\n",
       "      <td>67.00</td>\n",
       "      <td>73.00</td>\n",
       "    </tr>\n",
       "    <tr>\n",
       "      <th>213</th>\n",
       "      <td>66.00</td>\n",
       "      <td>58.00</td>\n",
       "    </tr>\n",
       "    <tr>\n",
       "      <th>214</th>\n",
       "      <td>58.00</td>\n",
       "      <td>53.00</td>\n",
       "    </tr>\n",
       "  </tbody>\n",
       "</table>\n",
       "<p>215 rows × 2 columns</p>\n",
       "</div>"
      ],
      "text/plain": [
       "     High School Percentage  Bachelors Percentage\n",
       "0                     91.00                 58.00\n",
       "1                     78.33                 77.48\n",
       "2                     68.00                 64.00\n",
       "3                     52.00                 52.00\n",
       "4                     73.60                 73.30\n",
       "..                      ...                   ...\n",
       "210                   82.00                 77.60\n",
       "211                   60.00                 72.00\n",
       "212                   67.00                 73.00\n",
       "213                   66.00                 58.00\n",
       "214                   58.00                 53.00\n",
       "\n",
       "[215 rows x 2 columns]"
      ]
     },
     "execution_count": 16,
     "metadata": {},
     "output_type": "execute_result"
    }
   ],
   "source": [
    "X_train"
   ]
  },
  {
   "cell_type": "code",
   "execution_count": 17,
   "metadata": {
    "colab": {
     "base_uri": "https://localhost:8080/"
    },
    "id": "DR5x0puRCU5Y",
    "outputId": "40739bd9-ac3f-42a1-e725-e9ebc6976729"
   },
   "outputs": [
    {
     "data": {
      "text/plain": [
       "0      1\n",
       "1      1\n",
       "2      1\n",
       "3      0\n",
       "4      1\n",
       "      ..\n",
       "210    1\n",
       "211    1\n",
       "212    1\n",
       "213    1\n",
       "214    0\n",
       "Name: Placed/Not Placed, Length: 215, dtype: int64"
      ]
     },
     "execution_count": 17,
     "metadata": {},
     "output_type": "execute_result"
    }
   ],
   "source": [
    "y_train"
   ]
  },
  {
   "cell_type": "code",
   "execution_count": 18,
   "metadata": {
    "colab": {
     "base_uri": "https://localhost:8080/"
    },
    "id": "aArlpjMIC7G7",
    "outputId": "94518c8e-f5bf-4ae6-cfe4-db4acdfa3fa3"
   },
   "outputs": [
    {
     "data": {
      "text/plain": [
       "KNeighborsClassifier(algorithm='auto', leaf_size=30, metric='minkowski',\n",
       "                     metric_params=None, n_jobs=None, n_neighbors=5, p=2,\n",
       "                     weights='uniform')"
      ]
     },
     "execution_count": 18,
     "metadata": {},
     "output_type": "execute_result"
    }
   ],
   "source": [
    "# 4. Fit a K Nearest Neighbor classifier on X and y\n",
    "\n",
    "knnmodel5 = KNeighborsClassifier()\n",
    "knnmodel5.fit(X_train, y_train)\n"
   ]
  },
  {
   "cell_type": "code",
   "execution_count": 19,
   "metadata": {
    "colab": {
     "base_uri": "https://localhost:8080/"
    },
    "id": "NiffvVOuO1Ds",
    "outputId": "9da0cbb3-f345-4276-95d4-a217bfd10dd8"
   },
   "outputs": [
    {
     "data": {
      "text/plain": [
       "array([1, 1, 1, 0, 1, 0, 0, 1, 1, 1, 1, 1, 1, 1, 0, 1, 1, 1, 1, 1, 1, 1,\n",
       "       1, 1, 1, 0, 1, 1, 1, 0, 1, 0, 1, 1, 0, 1, 0, 1, 1, 1, 1, 1, 0, 1,\n",
       "       1, 1, 1, 1, 1, 0, 1, 1, 0, 1, 1, 1, 1, 1, 1, 1, 1, 1, 1, 1, 1, 0,\n",
       "       1, 1, 0, 1, 1, 1, 1, 1, 1, 1, 1, 1, 1, 0, 1, 1, 1, 1, 1, 1, 1, 0,\n",
       "       1, 1, 1, 0, 1, 1, 1, 1, 1, 1, 1, 1, 0, 1, 1, 1, 0, 0, 0, 1, 1, 0,\n",
       "       1, 0, 1, 1, 1, 1, 1, 1, 1, 1, 0, 1, 1, 1, 0, 1, 1, 1, 1, 1, 0, 0,\n",
       "       1, 1, 1, 1, 1, 1, 1, 0, 1, 0, 1, 1, 0, 1, 1, 1, 1, 1, 1, 1, 1, 1,\n",
       "       1, 1, 1, 1, 1, 0, 1, 0, 1, 1, 1, 1, 1, 1, 0, 0, 0, 1, 1, 0, 0, 1,\n",
       "       1, 1, 1, 0, 1, 1, 1, 1, 1, 1, 0, 1, 0, 1, 1, 1, 1, 0, 0, 1, 1, 1,\n",
       "       1, 1, 1, 0, 1, 1, 1, 1, 0, 1, 1, 1, 1, 1, 1, 0, 0])"
      ]
     },
     "execution_count": 19,
     "metadata": {},
     "output_type": "execute_result"
    }
   ],
   "source": [
    "#5. Predict the target labels of the training data X\n",
    "y_pred5 = knnmodel5.predict(X_train)\n",
    "y_pred5"
   ]
  },
  {
   "cell_type": "code",
   "execution_count": 20,
   "metadata": {
    "colab": {
     "base_uri": "https://localhost:8080/"
    },
    "id": "nzT9WDk5QHEZ",
    "outputId": "9da56f88-3cd3-4d01-d369-194ddcbfb31e"
   },
   "outputs": [
    {
     "data": {
      "text/plain": [
       "83.72093023255815"
      ]
     },
     "execution_count": 20,
     "metadata": {},
     "output_type": "execute_result"
    }
   ],
   "source": [
    "# 6. Compute and show the accurcy score of the KNN classifier on the training data X\n",
    "# 7 By default, how many nearest neighbors are used in the model? - By deafult 5 nearest neighbors are used in the model\n",
    "accuracy_score(y_train, y_pred5) * 100 "
   ]
  },
  {
   "cell_type": "code",
   "execution_count": 21,
   "metadata": {
    "colab": {
     "base_uri": "https://localhost:8080/"
    },
    "id": "hm6wQCPAQlYH",
    "outputId": "a852a1ad-25c3-4fd4-eb3a-ed163e2de047"
   },
   "outputs": [
    {
     "data": {
      "text/plain": [
       "KNeighborsClassifier(algorithm='auto', leaf_size=30, metric='minkowski',\n",
       "                     metric_params=None, n_jobs=None, n_neighbors=3, p=2,\n",
       "                     weights='uniform')"
      ]
     },
     "execution_count": 21,
     "metadata": {},
     "output_type": "execute_result"
    }
   ],
   "source": [
    "#8.  Use different number of nearest neighbors; test K = 1, 2, 3 and show the accuracy results.\n",
    "\n",
    "knnmodel1 = KNeighborsClassifier(n_neighbors = 1)\n",
    "knnmodel1.fit(X_train, y_train)\n",
    "\n",
    "knnmodel2 = KNeighborsClassifier(n_neighbors = 2)\n",
    "knnmodel2.fit(X_train, y_train)\n",
    "\n",
    "knnmodel3 = KNeighborsClassifier(n_neighbors = 3)\n",
    "knnmodel3.fit(X_train, y_train)"
   ]
  },
  {
   "cell_type": "code",
   "execution_count": 22,
   "metadata": {
    "colab": {
     "base_uri": "https://localhost:8080/"
    },
    "id": "cu9mKduQdfk-",
    "outputId": "070bbac5-f0ce-408e-f4eb-dfe48e179618"
   },
   "outputs": [
    {
     "data": {
      "text/plain": [
       "array([1, 1, 1, 0, 1, 0, 0, 1, 1, 0, 1, 1, 0, 1, 0, 1, 1, 1, 0, 1, 1, 1,\n",
       "       1, 1, 1, 0, 1, 1, 1, 0, 1, 0, 1, 1, 0, 1, 0, 1, 1, 1, 1, 0, 0, 1,\n",
       "       1, 1, 1, 1, 1, 0, 1, 1, 0, 1, 1, 1, 1, 1, 1, 1, 1, 1, 1, 0, 1, 0,\n",
       "       1, 1, 0, 1, 1, 1, 1, 1, 1, 1, 1, 1, 1, 0, 1, 1, 1, 1, 1, 1, 1, 0,\n",
       "       1, 1, 1, 0, 1, 0, 1, 1, 1, 1, 1, 1, 1, 1, 1, 1, 0, 0, 0, 1, 1, 0,\n",
       "       1, 0, 1, 1, 1, 1, 1, 1, 1, 1, 0, 1, 1, 1, 0, 1, 1, 1, 1, 1, 0, 0,\n",
       "       1, 1, 1, 1, 1, 1, 1, 0, 1, 0, 1, 1, 0, 1, 1, 1, 1, 0, 1, 1, 1, 1,\n",
       "       1, 1, 1, 1, 1, 0, 1, 0, 1, 1, 1, 1, 1, 1, 0, 0, 0, 1, 1, 0, 0, 1,\n",
       "       1, 1, 1, 0, 1, 1, 0, 1, 1, 1, 0, 1, 0, 1, 0, 1, 1, 1, 0, 1, 1, 1,\n",
       "       0, 0, 1, 0, 1, 1, 1, 1, 0, 1, 1, 1, 1, 1, 1, 0, 0])"
      ]
     },
     "execution_count": 22,
     "metadata": {},
     "output_type": "execute_result"
    }
   ],
   "source": [
    "y_pred1 = knnmodel1.predict(X_train)\n",
    "y_pred1\n",
    "\n",
    "y_pred2 = knnmodel2.predict(X_train)\n",
    "y_pred2\n",
    "\n",
    "y_pred3 = knnmodel3.predict(X_train)\n",
    "y_pred3"
   ]
  },
  {
   "cell_type": "code",
   "execution_count": 23,
   "metadata": {
    "colab": {
     "base_uri": "https://localhost:8080/"
    },
    "id": "V4-IoQV_d-Xs",
    "outputId": "a4af79ad-0276-4d4c-855b-27eb0b00e408"
   },
   "outputs": [
    {
     "data": {
      "text/plain": [
       "97.20930232558139"
      ]
     },
     "execution_count": 23,
     "metadata": {},
     "output_type": "execute_result"
    }
   ],
   "source": [
    "accuracy_score(y_train, y_pred1) * 100 "
   ]
  },
  {
   "cell_type": "code",
   "execution_count": 24,
   "metadata": {
    "colab": {
     "base_uri": "https://localhost:8080/"
    },
    "id": "e7YN0AXSeABc",
    "outputId": "b31b8b3d-a4f0-4605-ea91-1a681b00dac4"
   },
   "outputs": [
    {
     "data": {
      "text/plain": [
       "86.9767441860465"
      ]
     },
     "execution_count": 24,
     "metadata": {},
     "output_type": "execute_result"
    }
   ],
   "source": [
    "accuracy_score(y_train, y_pred2) * 100 "
   ]
  },
  {
   "cell_type": "code",
   "execution_count": 25,
   "metadata": {
    "colab": {
     "base_uri": "https://localhost:8080/"
    },
    "id": "ui4BOEDneBLj",
    "outputId": "014b6689-2173-419d-9225-4f10b793d34b"
   },
   "outputs": [
    {
     "data": {
      "text/plain": [
       "87.90697674418605"
      ]
     },
     "execution_count": 25,
     "metadata": {},
     "output_type": "execute_result"
    }
   ],
   "source": [
    "accuracy_score(y_train, y_pred3) * 100 "
   ]
  },
  {
   "cell_type": "code",
   "execution_count": 31,
   "metadata": {
    "colab": {
     "base_uri": "https://localhost:8080/"
    },
    "id": "s1zcjlsPeCDW",
    "outputId": "83f2f7e0-f504-4b30-d704-feb261a8302c"
   },
   "outputs": [
    {
     "name": "stdout",
     "output_type": "stream",
     "text": [
      "#9 Does the value of K affect the performance? Why or Why not?\n",
      "\n",
      "Yes, the value of K affects the performance. Too small of a K can give higher accuracy \n",
      "but that does mean the results are translatable to a bigger dataset since it assumes the datapoints locally within that 1 K round and\n",
      "might lead to overfitting. \n",
      "A too big K might lead to underfitting. \n",
      "In our example with 240 rows of data we get the following accuracies - \n",
      "\n",
      "K    Accuracy %\n",
      "1    97.21 %\n",
      "2    86.97 %\n",
      "3    87.90 %\n",
      "5    83.72 %\n",
      "\n",
      "The ideal K value among in comparison to all for is '3' since the accuracy is higher than '2' and '5' and does not result in overfitting \n",
      "such as '1'.\n"
     ]
    }
   ],
   "source": [
    "txt = \"\"\"#9 Does the value of K affect the performance? Why or Why not?\n",
    "\n",
    "Yes, the value of K affects the performance. Too small of a K can give higher accuracy \n",
    "but that does mean the results are translatable to a bigger dataset since it assumes the datapoints locally within that 1 K round and\n",
    "might lead to overfitting. \n",
    "A too big K might lead to underfitting. \n",
    "In our example with 240 rows of data we get the following accuracies - \n",
    "\n",
    "K    Accuracy %\n",
    "1    97.21 %\n",
    "2    86.97 %\n",
    "3    87.90 %\n",
    "5    83.72 %\n",
    "\n",
    "The ideal K value among in comparison to all for is '3' since the accuracy is higher than '2' and '5' and does not result in overfitting \n",
    "such as '1'.\"\"\"  \n",
    "\n",
    "print (txt)"
   ]
  },
  {
   "cell_type": "code",
   "execution_count": null,
   "metadata": {
    "id": "uR0UoRwiMMDf"
   },
   "outputs": [],
   "source": []
  }
 ],
 "metadata": {
  "colab": {
   "collapsed_sections": [],
   "name": "Tapasya_INFO371-Assignment1.ipynb",
   "provenance": []
  },
  "kernelspec": {
   "display_name": "Python 3",
   "language": "python",
   "name": "python3"
  },
  "language_info": {
   "codemirror_mode": {
    "name": "ipython",
    "version": 3
   },
   "file_extension": ".py",
   "mimetype": "text/x-python",
   "name": "python",
   "nbconvert_exporter": "python",
   "pygments_lexer": "ipython3",
   "version": "3.8.8"
  }
 },
 "nbformat": 4,
 "nbformat_minor": 1
}
