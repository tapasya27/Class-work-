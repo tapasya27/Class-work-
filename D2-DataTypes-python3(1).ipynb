{
 "cells": [
  {
   "cell_type": "markdown",
   "metadata": {
    "id": "CLy6CH_3G60z"
   },
   "source": [
    "# INFO 103: Introduction to data science <br> Demo \\#2: Data Files <br> Author: JRW"
   ]
  },
  {
   "cell_type": "markdown",
   "metadata": {
    "id": "fZZG-ptPG607"
   },
   "source": [
    "## Data\n",
    "Here's a list of the files that we will be working with in this notebook:\n",
    "\n",
    "* Image: ./Rgb-raster-image_smile.jpg\n",
    "* Text: ./MobyDick.txt\n",
    "* Spreadsheet: ./APPL.csv\n",
    "* html: ./index.html\n",
    "* json: ./youtube.json\n",
    "* xml: ./simple.xml\n",
    "\n",
    "All of the paths start with a './' because they should be in the same directory as this notebook. Also, here are the sources, for reference:\n",
    "\n",
    "* Image: https://en.wikipedia.org/wiki/Raster_graphics\n",
    "* Text: http://www.gutenberg.org/ebooks/2701\n",
    "* Spreadsheet: https://finance.yahoo.com/quote/AAPL/history?p=AAPL\n",
    "* html: http://www.example.com\n",
    "* json: https://www.sitepoint.com/10-example-json-files/\n",
    "* xml: https://www.w3schools.com/xml/xml_examples.asp"
   ]
  },
  {
   "cell_type": "markdown",
   "metadata": {
    "id": "g-NJuTioG608"
   },
   "source": [
    "### Modules"
   ]
  },
  {
   "cell_type": "code",
   "execution_count": 49,
   "metadata": {
    "executionInfo": {
     "elapsed": 1906,
     "status": "ok",
     "timestamp": 1618166750214,
     "user": {
      "displayName": "Harshit Geddam",
      "photoUrl": "https://lh3.googleusercontent.com/a-/AOh14GhXMfQTvrdrmiSk14MHOw41fxMIkB9FUlv_9nacgw=s64",
      "userId": "06261552780153453867"
     },
     "user_tz": -330
    },
    "id": "bJAjsfKPG608"
   },
   "outputs": [],
   "source": [
    "import numpy as np ## numpy provides a suite of numerical \n",
    "import pandas as pd ## pandas provides nice ordered array (spreadsheet) handling \n",
    "import re ## re provides regular expressions, which help with text\n",
    "import json ## json provides json-format data management\n",
    "import datetime ## datetime interprets dates as numerical quantities\n",
    "from bs4 import BeautifulSoup ## Beautifulsoup parses html, thus, also xml!\n",
    "from IPython.core.display import display ## display allows you to show an image here in the notebook\n",
    "from PIL import Image ## Image allows you to edit image data\n",
    "from io import BytesIO #input output data"
   ]
  },
  {
   "cell_type": "markdown",
   "metadata": {
    "id": "zsSlph5hG609"
   },
   "source": [
    "### Spreadsheets\n",
    "I'm pretty basic when it comes to programming, so I usually just use base Python with for loops and regular expressions, but for convenience we'll use pandas, which is great for manipulating spreadsheets as 2-d arrays. Here are what the parameters we use:\n",
    "\n",
    "* filepath_or_buffer: specifies the name of the file\n",
    "* sep: specifies the column separator, here, commmas\n",
    "* header: specifies where the header is, here, row 1\n",
    "* parse_dates: specifies columns to be treated as timestamp objects\n",
    "\n",
    "The resulting pandas object is a \"dataframe\"."
   ]
  },
  {
   "cell_type": "markdown",
   "metadata": {
    "id": "RUJhBQM_ia8w"
   },
   "source": [
    "Declare the path of the file. In the below example, the \"AAPL.csv\" file, this is the file we are trying to load into this notebook. "
   ]
  },
  {
   "cell_type": "code",
   "execution_count": 50,
   "metadata": {
    "executionInfo": {
     "elapsed": 1887,
     "status": "ok",
     "timestamp": 1618166750216,
     "user": {
      "displayName": "Harshit Geddam",
      "photoUrl": "https://lh3.googleusercontent.com/a-/AOh14GhXMfQTvrdrmiSk14MHOw41fxMIkB9FUlv_9nacgw=s64",
      "userId": "06261552780153453867"
     },
     "user_tz": -330
    },
    "id": "FcAkVsmhW01s"
   },
   "outputs": [],
   "source": [
    "file_path = r'C:\\Users\\sharm\\Desktop\\Drexel\\Class-work-\\Spring 21-22\\INFO 103 - TA\\W2\\APPL.csv'"
   ]
  },
  {
   "cell_type": "code",
   "execution_count": 51,
   "metadata": {
    "colab": {
     "base_uri": "https://localhost:8080/"
    },
    "executionInfo": {
     "elapsed": 1881,
     "status": "ok",
     "timestamp": 1618166750217,
     "user": {
      "displayName": "Harshit Geddam",
      "photoUrl": "https://lh3.googleusercontent.com/a-/AOh14GhXMfQTvrdrmiSk14MHOw41fxMIkB9FUlv_9nacgw=s64",
      "userId": "06261552780153453867"
     },
     "user_tz": -330
    },
    "id": "nDm2jiQnG609",
    "outputId": "1c26b853-87f5-46bc-feaf-671feaf34d74"
   },
   "outputs": [
    {
     "name": "stdout",
     "output_type": "stream",
     "text": [
      "Index(['Date', 'Open', 'High', 'Low', 'Close', 'Volume', 'Adj Close'], dtype='object')\n"
     ]
    }
   ],
   "source": [
    "#pd.read_csv helps \n",
    "APPL = pd.read_csv(file_path, sep=\",\", header=0, parse_dates = [0])\n",
    "print(APPL.keys())"
   ]
  },
  {
   "cell_type": "markdown",
   "metadata": {
    "id": "dEhkdYwVG60-"
   },
   "source": [
    "You can access the rows with indices:"
   ]
  },
  {
   "cell_type": "code",
   "execution_count": 54,
   "metadata": {
    "colab": {
     "base_uri": "https://localhost:8080/",
     "height": 514
    },
    "executionInfo": {
     "elapsed": 1879,
     "status": "ok",
     "timestamp": 1618166750224,
     "user": {
      "displayName": "Harshit Geddam",
      "photoUrl": "https://lh3.googleusercontent.com/a-/AOh14GhXMfQTvrdrmiSk14MHOw41fxMIkB9FUlv_9nacgw=s64",
      "userId": "06261552780153453867"
     },
     "user_tz": -330
    },
    "id": "rGL99FVSG60_",
    "outputId": "318b9cd2-14c5-4e91-c038-1abd0679d710",
    "scrolled": true
   },
   "outputs": [
    {
     "data": {
      "text/html": [
       "<div>\n",
       "<style scoped>\n",
       "    .dataframe tbody tr th:only-of-type {\n",
       "        vertical-align: middle;\n",
       "    }\n",
       "\n",
       "    .dataframe tbody tr th {\n",
       "        vertical-align: top;\n",
       "    }\n",
       "\n",
       "    .dataframe thead th {\n",
       "        text-align: right;\n",
       "    }\n",
       "</style>\n",
       "<table border=\"1\" class=\"dataframe\">\n",
       "  <thead>\n",
       "    <tr style=\"text-align: right;\">\n",
       "      <th></th>\n",
       "      <th>Date</th>\n",
       "      <th>Open</th>\n",
       "      <th>High</th>\n",
       "      <th>Low</th>\n",
       "      <th>Close</th>\n",
       "      <th>Volume</th>\n",
       "      <th>Adj Close</th>\n",
       "    </tr>\n",
       "  </thead>\n",
       "  <tbody>\n",
       "    <tr>\n",
       "      <th>0</th>\n",
       "      <td>2016-07-13</td>\n",
       "      <td>97.410004</td>\n",
       "      <td>97.669998</td>\n",
       "      <td>96.839996</td>\n",
       "      <td>96.870003</td>\n",
       "      <td>25892200</td>\n",
       "      <td>95.442123</td>\n",
       "    </tr>\n",
       "    <tr>\n",
       "      <th>1</th>\n",
       "      <td>2016-07-12</td>\n",
       "      <td>97.169998</td>\n",
       "      <td>97.699997</td>\n",
       "      <td>97.120003</td>\n",
       "      <td>97.419998</td>\n",
       "      <td>24167500</td>\n",
       "      <td>95.984011</td>\n",
       "    </tr>\n",
       "    <tr>\n",
       "      <th>2</th>\n",
       "      <td>2016-07-11</td>\n",
       "      <td>96.750000</td>\n",
       "      <td>97.650002</td>\n",
       "      <td>96.730003</td>\n",
       "      <td>96.980003</td>\n",
       "      <td>23794900</td>\n",
       "      <td>95.550502</td>\n",
       "    </tr>\n",
       "    <tr>\n",
       "      <th>3</th>\n",
       "      <td>2016-07-08</td>\n",
       "      <td>96.489998</td>\n",
       "      <td>96.889999</td>\n",
       "      <td>96.050003</td>\n",
       "      <td>96.680000</td>\n",
       "      <td>28912100</td>\n",
       "      <td>95.254921</td>\n",
       "    </tr>\n",
       "    <tr>\n",
       "      <th>4</th>\n",
       "      <td>2016-07-07</td>\n",
       "      <td>95.699997</td>\n",
       "      <td>96.500000</td>\n",
       "      <td>95.620003</td>\n",
       "      <td>95.940002</td>\n",
       "      <td>25139600</td>\n",
       "      <td>94.525831</td>\n",
       "    </tr>\n",
       "  </tbody>\n",
       "</table>\n",
       "</div>"
      ],
      "text/plain": [
       "        Date       Open       High        Low      Close    Volume  Adj Close\n",
       "0 2016-07-13  97.410004  97.669998  96.839996  96.870003  25892200  95.442123\n",
       "1 2016-07-12  97.169998  97.699997  97.120003  97.419998  24167500  95.984011\n",
       "2 2016-07-11  96.750000  97.650002  96.730003  96.980003  23794900  95.550502\n",
       "3 2016-07-08  96.489998  96.889999  96.050003  96.680000  28912100  95.254921\n",
       "4 2016-07-07  95.699997  96.500000  95.620003  95.940002  25139600  94.525831"
      ]
     },
     "execution_count": 54,
     "metadata": {},
     "output_type": "execute_result"
    }
   ],
   "source": [
    "APPL.head()"
   ]
  },
  {
   "cell_type": "markdown",
   "metadata": {
    "id": "cCTTfAWwG60_"
   },
   "source": [
    "and the columns by dictionary keys:"
   ]
  },
  {
   "cell_type": "code",
   "execution_count": 55,
   "metadata": {},
   "outputs": [
    {
     "data": {
      "text/html": [
       "<div>\n",
       "<style scoped>\n",
       "    .dataframe tbody tr th:only-of-type {\n",
       "        vertical-align: middle;\n",
       "    }\n",
       "\n",
       "    .dataframe tbody tr th {\n",
       "        vertical-align: top;\n",
       "    }\n",
       "\n",
       "    .dataframe thead th {\n",
       "        text-align: right;\n",
       "    }\n",
       "</style>\n",
       "<table border=\"1\" class=\"dataframe\">\n",
       "  <thead>\n",
       "    <tr style=\"text-align: right;\">\n",
       "      <th></th>\n",
       "      <th>Date</th>\n",
       "      <th>Open</th>\n",
       "      <th>High</th>\n",
       "      <th>Low</th>\n",
       "      <th>Close</th>\n",
       "      <th>Volume</th>\n",
       "      <th>Adj Close</th>\n",
       "    </tr>\n",
       "  </thead>\n",
       "  <tbody>\n",
       "    <tr>\n",
       "      <th>4749</th>\n",
       "      <td>1997-08-27</td>\n",
       "      <td>22.375000</td>\n",
       "      <td>22.750000</td>\n",
       "      <td>21.875000</td>\n",
       "      <td>22.6875</td>\n",
       "      <td>47658800</td>\n",
       "      <td>0.734846</td>\n",
       "    </tr>\n",
       "    <tr>\n",
       "      <th>4750</th>\n",
       "      <td>1997-08-26</td>\n",
       "      <td>22.625000</td>\n",
       "      <td>23.000001</td>\n",
       "      <td>22.125001</td>\n",
       "      <td>22.2500</td>\n",
       "      <td>56551600</td>\n",
       "      <td>0.720675</td>\n",
       "    </tr>\n",
       "    <tr>\n",
       "      <th>4751</th>\n",
       "      <td>1997-08-25</td>\n",
       "      <td>23.625000</td>\n",
       "      <td>23.687500</td>\n",
       "      <td>22.937499</td>\n",
       "      <td>23.0625</td>\n",
       "      <td>34658400</td>\n",
       "      <td>0.746992</td>\n",
       "    </tr>\n",
       "    <tr>\n",
       "      <th>4752</th>\n",
       "      <td>1997-08-22</td>\n",
       "      <td>23.437501</td>\n",
       "      <td>24.000000</td>\n",
       "      <td>23.374999</td>\n",
       "      <td>23.6250</td>\n",
       "      <td>56907200</td>\n",
       "      <td>0.765211</td>\n",
       "    </tr>\n",
       "    <tr>\n",
       "      <th>4753</th>\n",
       "      <td>1997-08-21</td>\n",
       "      <td>24.500000</td>\n",
       "      <td>24.687499</td>\n",
       "      <td>23.875001</td>\n",
       "      <td>24.0000</td>\n",
       "      <td>64820000</td>\n",
       "      <td>0.777357</td>\n",
       "    </tr>\n",
       "  </tbody>\n",
       "</table>\n",
       "</div>"
      ],
      "text/plain": [
       "           Date       Open       High        Low    Close    Volume  Adj Close\n",
       "4749 1997-08-27  22.375000  22.750000  21.875000  22.6875  47658800   0.734846\n",
       "4750 1997-08-26  22.625000  23.000001  22.125001  22.2500  56551600   0.720675\n",
       "4751 1997-08-25  23.625000  23.687500  22.937499  23.0625  34658400   0.746992\n",
       "4752 1997-08-22  23.437501  24.000000  23.374999  23.6250  56907200   0.765211\n",
       "4753 1997-08-21  24.500000  24.687499  23.875001  24.0000  64820000   0.777357"
      ]
     },
     "execution_count": 55,
     "metadata": {},
     "output_type": "execute_result"
    }
   ],
   "source": [
    "APPL.tail()"
   ]
  },
  {
   "cell_type": "code",
   "execution_count": 58,
   "metadata": {
    "colab": {
     "base_uri": "https://localhost:8080/"
    },
    "executionInfo": {
     "elapsed": 1870,
     "status": "ok",
     "timestamp": 1618166750225,
     "user": {
      "displayName": "Harshit Geddam",
      "photoUrl": "https://lh3.googleusercontent.com/a-/AOh14GhXMfQTvrdrmiSk14MHOw41fxMIkB9FUlv_9nacgw=s64",
      "userId": "06261552780153453867"
     },
     "user_tz": -330
    },
    "id": "sQ9OpYEWG60_",
    "outputId": "c6d94497-d173-45a8-e5e7-850e829d2c1c"
   },
   "outputs": [
    {
     "name": "stdout",
     "output_type": "stream",
     "text": [
      "1    2016-07-12\n",
      "2    2016-07-11\n",
      "3    2016-07-08\n",
      "4    2016-07-07\n",
      "5    2016-07-06\n",
      "6    2016-07-05\n",
      "7    2016-07-01\n",
      "8    2016-06-30\n",
      "9    2016-06-29\n",
      "10   2016-06-28\n",
      "Name: Date, dtype: datetime64[ns]\n"
     ]
    }
   ],
   "source": [
    "#TEA slicing - Refers to obtaining or calling a part of the object\n",
    "print(APPL[\"Date\"][1:11])"
   ]
  },
  {
   "cell_type": "code",
   "execution_count": 59,
   "metadata": {
    "colab": {
     "base_uri": "https://localhost:8080/"
    },
    "executionInfo": {
     "elapsed": 1864,
     "status": "ok",
     "timestamp": 1618166750226,
     "user": {
      "displayName": "Harshit Geddam",
      "photoUrl": "https://lh3.googleusercontent.com/a-/AOh14GhXMfQTvrdrmiSk14MHOw41fxMIkB9FUlv_9nacgw=s64",
      "userId": "06261552780153453867"
     },
     "user_tz": -330
    },
    "id": "0TLpupSUUhZd",
    "outputId": "585f96d7-b6c4-454c-de80-bdb6e05429ad"
   },
   "outputs": [
    {
     "name": "stdout",
     "output_type": "stream",
     "text": [
      "4      2016-07-07\n",
      "5      2016-07-06\n",
      "6      2016-07-05\n",
      "7      2016-07-01\n",
      "8      2016-06-30\n",
      "          ...    \n",
      "4749   1997-08-27\n",
      "4750   1997-08-26\n",
      "4751   1997-08-25\n",
      "4752   1997-08-22\n",
      "4753   1997-08-21\n",
      "Name: Date, Length: 4750, dtype: datetime64[ns]\n"
     ]
    }
   ],
   "source": [
    "print(APPL[\"Date\"][4:5453432445])"
   ]
  },
  {
   "cell_type": "code",
   "execution_count": 7,
   "metadata": {
    "colab": {
     "base_uri": "https://localhost:8080/"
    },
    "executionInfo": {
     "elapsed": 1856,
     "status": "ok",
     "timestamp": 1618166750226,
     "user": {
      "displayName": "Harshit Geddam",
      "photoUrl": "https://lh3.googleusercontent.com/a-/AOh14GhXMfQTvrdrmiSk14MHOw41fxMIkB9FUlv_9nacgw=s64",
      "userId": "06261552780153453867"
     },
     "user_tz": -330
    },
    "id": "FN1NTDUJUrjc",
    "outputId": "5608306b-db99-4d4c-a3a6-fa32f20a5d70"
   },
   "outputs": [
    {
     "name": "stdout",
     "output_type": "stream",
     "text": [
      "4    95.620003\n",
      "5    94.370003\n",
      "6    94.459999\n",
      "7    95.330002\n",
      "8    94.300003\n",
      "Name: Low, dtype: float64\n"
     ]
    }
   ],
   "source": [
    "print(APPL[\"Low\"][4:9])"
   ]
  },
  {
   "cell_type": "code",
   "execution_count": 8,
   "metadata": {
    "colab": {
     "base_uri": "https://localhost:8080/"
    },
    "executionInfo": {
     "elapsed": 1848,
     "status": "ok",
     "timestamp": 1618166750227,
     "user": {
      "displayName": "Harshit Geddam",
      "photoUrl": "https://lh3.googleusercontent.com/a-/AOh14GhXMfQTvrdrmiSk14MHOw41fxMIkB9FUlv_9nacgw=s64",
      "userId": "06261552780153453867"
     },
     "user_tz": -330
    },
    "id": "-Od8s1qYYHCf",
    "outputId": "47a7bbba-e7da-4439-ce70-14d383abc0e0"
   },
   "outputs": [
    {
     "name": "stdout",
     "output_type": "stream",
     "text": [
      "0       96.839996\n",
      "1       97.120003\n",
      "2       96.730003\n",
      "3       96.050003\n",
      "4       95.620003\n",
      "          ...    \n",
      "4749    21.875000\n",
      "4750    22.125001\n",
      "4751    22.937499\n",
      "4752    23.374999\n",
      "4753    23.875001\n",
      "Name: Low, Length: 4754, dtype: float64\n"
     ]
    }
   ],
   "source": [
    "print(APPL[\"Low\"])"
   ]
  },
  {
   "cell_type": "markdown",
   "metadata": {
    "id": "wUjy4ka7G61A"
   },
   "source": [
    "Notice the \"Open\" column has floats, while the \"Volume\" column has ints:"
   ]
  },
  {
   "cell_type": "code",
   "execution_count": 60,
   "metadata": {},
   "outputs": [
    {
     "data": {
      "text/plain": [
       "pandas._libs.tslibs.timestamps.Timestamp"
      ]
     },
     "execution_count": 60,
     "metadata": {},
     "output_type": "execute_result"
    }
   ],
   "source": [
    "type(APPL[\"Date\"][0])"
   ]
  },
  {
   "cell_type": "code",
   "execution_count": 9,
   "metadata": {
    "colab": {
     "base_uri": "https://localhost:8080/"
    },
    "executionInfo": {
     "elapsed": 1841,
     "status": "ok",
     "timestamp": 1618166750227,
     "user": {
      "displayName": "Harshit Geddam",
      "photoUrl": "https://lh3.googleusercontent.com/a-/AOh14GhXMfQTvrdrmiSk14MHOw41fxMIkB9FUlv_9nacgw=s64",
      "userId": "06261552780153453867"
     },
     "user_tz": -330
    },
    "id": "o3NgQzVHG61A",
    "outputId": "403b085d-86be-442b-f8c1-071f0d44e650"
   },
   "outputs": [
    {
     "name": "stdout",
     "output_type": "stream",
     "text": [
      "<class 'numpy.float64'>\n",
      "<class 'numpy.int64'>\n"
     ]
    }
   ],
   "source": [
    "print(type(APPL[\"Open\"][0]))\n",
    "print(type(APPL[\"Volume\"][0]))"
   ]
  },
  {
   "cell_type": "code",
   "execution_count": 10,
   "metadata": {
    "colab": {
     "base_uri": "https://localhost:8080/"
    },
    "executionInfo": {
     "elapsed": 1833,
     "status": "ok",
     "timestamp": 1618166750228,
     "user": {
      "displayName": "Harshit Geddam",
      "photoUrl": "https://lh3.googleusercontent.com/a-/AOh14GhXMfQTvrdrmiSk14MHOw41fxMIkB9FUlv_9nacgw=s64",
      "userId": "06261552780153453867"
     },
     "user_tz": -330
    },
    "id": "ZJAWuumiYrRT",
    "outputId": "c94168a8-03ad-485a-d5e7-cabc3170e054"
   },
   "outputs": [
    {
     "name": "stdout",
     "output_type": "stream",
     "text": [
      "<class 'numpy.float64'>\n"
     ]
    }
   ],
   "source": [
    "print(type(APPL['High'][4]))"
   ]
  },
  {
   "cell_type": "code",
   "execution_count": 11,
   "metadata": {
    "colab": {
     "base_uri": "https://localhost:8080/"
    },
    "executionInfo": {
     "elapsed": 1827,
     "status": "ok",
     "timestamp": 1618166750229,
     "user": {
      "displayName": "Harshit Geddam",
      "photoUrl": "https://lh3.googleusercontent.com/a-/AOh14GhXMfQTvrdrmiSk14MHOw41fxMIkB9FUlv_9nacgw=s64",
      "userId": "06261552780153453867"
     },
     "user_tz": -330
    },
    "id": "qPO_w_TMG61A",
    "outputId": "b379ee96-b5be-47bf-aa1d-baef8056a22a"
   },
   "outputs": [
    {
     "data": {
      "text/plain": [
       "Timestamp('2016-07-13 00:00:00')"
      ]
     },
     "execution_count": 11,
     "metadata": {},
     "output_type": "execute_result"
    }
   ],
   "source": [
    "APPL[\"Date\"][0]"
   ]
  },
  {
   "cell_type": "markdown",
   "metadata": {
    "id": "TU60dQ7SG61A"
   },
   "source": [
    "The weird column is Date, which has timestamp objects:"
   ]
  },
  {
   "cell_type": "code",
   "execution_count": 12,
   "metadata": {
    "colab": {
     "base_uri": "https://localhost:8080/"
    },
    "executionInfo": {
     "elapsed": 1818,
     "status": "ok",
     "timestamp": 1618166750229,
     "user": {
      "displayName": "Harshit Geddam",
      "photoUrl": "https://lh3.googleusercontent.com/a-/AOh14GhXMfQTvrdrmiSk14MHOw41fxMIkB9FUlv_9nacgw=s64",
      "userId": "06261552780153453867"
     },
     "user_tz": -330
    },
    "id": "zPF3IiDlG61B",
    "outputId": "3301637f-6a17-4db7-84b9-7e971ab05e96"
   },
   "outputs": [
    {
     "name": "stdout",
     "output_type": "stream",
     "text": [
      "<class 'pandas._libs.tslibs.timestamps.Timestamp'>\n"
     ]
    }
   ],
   "source": [
    "print(type(APPL[\"Date\"][0]))"
   ]
  },
  {
   "cell_type": "code",
   "execution_count": 61,
   "metadata": {
    "colab": {
     "base_uri": "https://localhost:8080/"
    },
    "executionInfo": {
     "elapsed": 1812,
     "status": "ok",
     "timestamp": 1618166750230,
     "user": {
      "displayName": "Harshit Geddam",
      "photoUrl": "https://lh3.googleusercontent.com/a-/AOh14GhXMfQTvrdrmiSk14MHOw41fxMIkB9FUlv_9nacgw=s64",
      "userId": "06261552780153453867"
     },
     "user_tz": -330
    },
    "id": "b5AOfxLQZYrD",
    "outputId": "95245d5d-72ef-4421-aa38-4496874cbcc7"
   },
   "outputs": [
    {
     "data": {
      "text/plain": [
       "-0.2999950000000098"
      ]
     },
     "execution_count": 61,
     "metadata": {},
     "output_type": "execute_result"
    }
   ],
   "source": [
    "96.870003-97.169998"
   ]
  },
  {
   "cell_type": "code",
   "execution_count": 63,
   "metadata": {},
   "outputs": [
    {
     "data": {
      "text/html": [
       "<div>\n",
       "<style scoped>\n",
       "    .dataframe tbody tr th:only-of-type {\n",
       "        vertical-align: middle;\n",
       "    }\n",
       "\n",
       "    .dataframe tbody tr th {\n",
       "        vertical-align: top;\n",
       "    }\n",
       "\n",
       "    .dataframe thead th {\n",
       "        text-align: right;\n",
       "    }\n",
       "</style>\n",
       "<table border=\"1\" class=\"dataframe\">\n",
       "  <thead>\n",
       "    <tr style=\"text-align: right;\">\n",
       "      <th></th>\n",
       "      <th>Date</th>\n",
       "      <th>Open</th>\n",
       "      <th>High</th>\n",
       "      <th>Low</th>\n",
       "      <th>Close</th>\n",
       "      <th>Volume</th>\n",
       "      <th>Adj Close</th>\n",
       "    </tr>\n",
       "  </thead>\n",
       "  <tbody>\n",
       "    <tr>\n",
       "      <th>0</th>\n",
       "      <td>2016-07-13</td>\n",
       "      <td>97.410004</td>\n",
       "      <td>97.669998</td>\n",
       "      <td>96.839996</td>\n",
       "      <td>96.870003</td>\n",
       "      <td>25892200</td>\n",
       "      <td>95.442123</td>\n",
       "    </tr>\n",
       "    <tr>\n",
       "      <th>1</th>\n",
       "      <td>2016-07-12</td>\n",
       "      <td>97.169998</td>\n",
       "      <td>97.699997</td>\n",
       "      <td>97.120003</td>\n",
       "      <td>97.419998</td>\n",
       "      <td>24167500</td>\n",
       "      <td>95.984011</td>\n",
       "    </tr>\n",
       "    <tr>\n",
       "      <th>2</th>\n",
       "      <td>2016-07-11</td>\n",
       "      <td>96.750000</td>\n",
       "      <td>97.650002</td>\n",
       "      <td>96.730003</td>\n",
       "      <td>96.980003</td>\n",
       "      <td>23794900</td>\n",
       "      <td>95.550502</td>\n",
       "    </tr>\n",
       "    <tr>\n",
       "      <th>3</th>\n",
       "      <td>2016-07-08</td>\n",
       "      <td>96.489998</td>\n",
       "      <td>96.889999</td>\n",
       "      <td>96.050003</td>\n",
       "      <td>96.680000</td>\n",
       "      <td>28912100</td>\n",
       "      <td>95.254921</td>\n",
       "    </tr>\n",
       "    <tr>\n",
       "      <th>4</th>\n",
       "      <td>2016-07-07</td>\n",
       "      <td>95.699997</td>\n",
       "      <td>96.500000</td>\n",
       "      <td>95.620003</td>\n",
       "      <td>95.940002</td>\n",
       "      <td>25139600</td>\n",
       "      <td>94.525831</td>\n",
       "    </tr>\n",
       "    <tr>\n",
       "      <th>5</th>\n",
       "      <td>2016-07-06</td>\n",
       "      <td>94.599998</td>\n",
       "      <td>95.660004</td>\n",
       "      <td>94.370003</td>\n",
       "      <td>95.529999</td>\n",
       "      <td>30949100</td>\n",
       "      <td>94.121870</td>\n",
       "    </tr>\n",
       "    <tr>\n",
       "      <th>6</th>\n",
       "      <td>2016-07-05</td>\n",
       "      <td>95.389999</td>\n",
       "      <td>95.400002</td>\n",
       "      <td>94.459999</td>\n",
       "      <td>94.989998</td>\n",
       "      <td>27705200</td>\n",
       "      <td>93.589829</td>\n",
       "    </tr>\n",
       "    <tr>\n",
       "      <th>7</th>\n",
       "      <td>2016-07-01</td>\n",
       "      <td>95.489998</td>\n",
       "      <td>96.470001</td>\n",
       "      <td>95.330002</td>\n",
       "      <td>95.889999</td>\n",
       "      <td>26026500</td>\n",
       "      <td>94.476565</td>\n",
       "    </tr>\n",
       "    <tr>\n",
       "      <th>8</th>\n",
       "      <td>2016-06-30</td>\n",
       "      <td>94.440002</td>\n",
       "      <td>95.769997</td>\n",
       "      <td>94.300003</td>\n",
       "      <td>95.599998</td>\n",
       "      <td>35836400</td>\n",
       "      <td>94.190838</td>\n",
       "    </tr>\n",
       "    <tr>\n",
       "      <th>9</th>\n",
       "      <td>2016-06-29</td>\n",
       "      <td>93.970001</td>\n",
       "      <td>94.550003</td>\n",
       "      <td>93.629997</td>\n",
       "      <td>94.400002</td>\n",
       "      <td>36531000</td>\n",
       "      <td>93.008530</td>\n",
       "    </tr>\n",
       "  </tbody>\n",
       "</table>\n",
       "</div>"
      ],
      "text/plain": [
       "        Date       Open       High        Low      Close    Volume  Adj Close\n",
       "0 2016-07-13  97.410004  97.669998  96.839996  96.870003  25892200  95.442123\n",
       "1 2016-07-12  97.169998  97.699997  97.120003  97.419998  24167500  95.984011\n",
       "2 2016-07-11  96.750000  97.650002  96.730003  96.980003  23794900  95.550502\n",
       "3 2016-07-08  96.489998  96.889999  96.050003  96.680000  28912100  95.254921\n",
       "4 2016-07-07  95.699997  96.500000  95.620003  95.940002  25139600  94.525831\n",
       "5 2016-07-06  94.599998  95.660004  94.370003  95.529999  30949100  94.121870\n",
       "6 2016-07-05  95.389999  95.400002  94.459999  94.989998  27705200  93.589829\n",
       "7 2016-07-01  95.489998  96.470001  95.330002  95.889999  26026500  94.476565\n",
       "8 2016-06-30  94.440002  95.769997  94.300003  95.599998  35836400  94.190838\n",
       "9 2016-06-29  93.970001  94.550003  93.629997  94.400002  36531000  93.008530"
      ]
     },
     "execution_count": 63,
     "metadata": {},
     "output_type": "execute_result"
    }
   ],
   "source": [
    "APPL.head(10)"
   ]
  },
  {
   "cell_type": "code",
   "execution_count": 62,
   "metadata": {},
   "outputs": [
    {
     "data": {
      "text/plain": [
       "96.870003"
      ]
     },
     "execution_count": 62,
     "metadata": {},
     "output_type": "execute_result"
    }
   ],
   "source": [
    "APPL[\"Close\"][0]"
   ]
  },
  {
   "cell_type": "code",
   "execution_count": 64,
   "metadata": {},
   "outputs": [
    {
     "data": {
      "text/plain": [
       "97.169998"
      ]
     },
     "execution_count": 64,
     "metadata": {},
     "output_type": "execute_result"
    }
   ],
   "source": [
    "APPL[\"Open\"][1]"
   ]
  },
  {
   "cell_type": "code",
   "execution_count": 66,
   "metadata": {
    "colab": {
     "base_uri": "https://localhost:8080/"
    },
    "executionInfo": {
     "elapsed": 1804,
     "status": "ok",
     "timestamp": 1618166750230,
     "user": {
      "displayName": "Harshit Geddam",
      "photoUrl": "https://lh3.googleusercontent.com/a-/AOh14GhXMfQTvrdrmiSk14MHOw41fxMIkB9FUlv_9nacgw=s64",
      "userId": "06261552780153453867"
     },
     "user_tz": -330
    },
    "id": "PhqWE2gBZnXx",
    "outputId": "83ff388d-c360-43d4-9aea-a1f4b853abe8"
   },
   "outputs": [
    {
     "name": "stdout",
     "output_type": "stream",
     "text": [
      "191.57\n"
     ]
    }
   ],
   "source": [
    "## element-wise subtraction\n",
    "print(APPL[\"Close\"][9] + APPL[\"Open\"][1])"
   ]
  },
  {
   "cell_type": "markdown",
   "metadata": {
    "id": "t62GqSgtG61B"
   },
   "source": [
    "You can do the usual math with floats and ints:"
   ]
  },
  {
   "cell_type": "code",
   "execution_count": 67,
   "metadata": {
    "colab": {
     "base_uri": "https://localhost:8080/"
    },
    "executionInfo": {
     "elapsed": 1796,
     "status": "ok",
     "timestamp": 1618166750230,
     "user": {
      "displayName": "Harshit Geddam",
      "photoUrl": "https://lh3.googleusercontent.com/a-/AOh14GhXMfQTvrdrmiSk14MHOw41fxMIkB9FUlv_9nacgw=s64",
      "userId": "06261552780153453867"
     },
     "user_tz": -330
    },
    "id": "paOBOICGG61B",
    "outputId": "fd0ac290-778d-43dc-9bc2-d613308e5801"
   },
   "outputs": [
    {
     "name": "stdout",
     "output_type": "stream",
     "text": [
      "-0.2999950000000098\n",
      "\n",
      "0   -0.540001\n",
      "1    0.250000\n",
      "2    0.230003\n",
      "3    0.190002\n",
      "4    0.240005\n",
      "5    0.930001\n",
      "6   -0.400001\n",
      "7    0.400001\n",
      "8    1.159996\n",
      "9    0.430001\n",
      "dtype: float64\n"
     ]
    }
   ],
   "source": [
    "## element-wise subtraction\n",
    "print(APPL[\"Close\"][0] - APPL[\"Open\"][1])\n",
    "print(\"\")\n",
    "## vector-wise subtraction\n",
    "print(APPL[\"Close\"][0:10] - APPL[\"Open\"][0:10])"
   ]
  },
  {
   "cell_type": "code",
   "execution_count": 68,
   "metadata": {
    "colab": {
     "base_uri": "https://localhost:8080/"
    },
    "executionInfo": {
     "elapsed": 1789,
     "status": "ok",
     "timestamp": 1618166750231,
     "user": {
      "displayName": "Harshit Geddam",
      "photoUrl": "https://lh3.googleusercontent.com/a-/AOh14GhXMfQTvrdrmiSk14MHOw41fxMIkB9FUlv_9nacgw=s64",
      "userId": "06261552780153453867"
     },
     "user_tz": -330
    },
    "id": "oXajbFdzaCnY",
    "outputId": "acf34670-a143-4af9-84ce-67c12eb54e95"
   },
   "outputs": [
    {
     "name": "stdout",
     "output_type": "stream",
     "text": [
      "0     0.991502\n",
      "1     0.994064\n",
      "2     0.990579\n",
      "3     0.991330\n",
      "4     0.990881\n",
      "5     0.986515\n",
      "6     0.990147\n",
      "7     0.988183\n",
      "8     0.984651\n",
      "9     0.990270\n",
      "10         NaN\n",
      "11         NaN\n",
      "12         NaN\n",
      "13         NaN\n",
      "dtype: float64\n"
     ]
    }
   ],
   "source": [
    "print(APPL[\"Low\"][0:14] / APPL[\"High\"][0:10])"
   ]
  },
  {
   "cell_type": "markdown",
   "metadata": {
    "id": "1PB5iEiuG61C"
   },
   "source": [
    "#### So this is actually a type of timeseries data\n",
    "There are seval numeric data columns, with the dates as the time stamps. If you wanted to plot any of the columns as a timeseries, you would have to be sure the intervals are correct! This can be done automatically, or you can subtract adjacent values to determine intervals. Here's an example subtracting two times to get the difference in days:"
   ]
  },
  {
   "cell_type": "code",
   "execution_count": 70,
   "metadata": {},
   "outputs": [
    {
     "data": {
      "text/plain": [
       "Timestamp('2016-07-13 00:00:00')"
      ]
     },
     "execution_count": 70,
     "metadata": {},
     "output_type": "execute_result"
    }
   ],
   "source": [
    "APPL[\"Date\"][0]"
   ]
  },
  {
   "cell_type": "code",
   "execution_count": 71,
   "metadata": {},
   "outputs": [
    {
     "data": {
      "text/plain": [
       "Timestamp('2016-06-29 00:00:00')"
      ]
     },
     "execution_count": 71,
     "metadata": {},
     "output_type": "execute_result"
    }
   ],
   "source": [
    "APPL[\"Date\"][9]"
   ]
  },
  {
   "cell_type": "code",
   "execution_count": 79,
   "metadata": {
    "colab": {
     "base_uri": "https://localhost:8080/"
    },
    "executionInfo": {
     "elapsed": 1781,
     "status": "ok",
     "timestamp": 1618166750232,
     "user": {
      "displayName": "Harshit Geddam",
      "photoUrl": "https://lh3.googleusercontent.com/a-/AOh14GhXMfQTvrdrmiSk14MHOw41fxMIkB9FUlv_9nacgw=s64",
      "userId": "06261552780153453867"
     },
     "user_tz": -330
    },
    "id": "UPWGZv3xG61C",
    "outputId": "9e56e121-86dd-48d1-993a-426df19b0c70",
    "scrolled": false
   },
   "outputs": [
    {
     "name": "stdout",
     "output_type": "stream",
     "text": [
      "2016-07-13 00:00:00\n",
      "2016-06-29 00:00:00\n",
      "\n",
      "Day 0 and day 9 are actually 14 days apart!\n"
     ]
    }
   ],
   "source": [
    "print(APPL[\"Date\"][0])\n",
    "print(APPL[\"Date\"][9])\n",
    "print(\"\")\n",
    "print(\"Day 0 and day 9 are actually \"+str((APPL[\"Date\"][0] - APPL[\"Date\"][9]).days)+\" days apart!\")"
   ]
  },
  {
   "cell_type": "markdown",
   "metadata": {
    "id": "eNcLCLkyG61D"
   },
   "source": [
    "### Text\n",
    "The file I've got for you here is Hermin Mellville's Moby Dick. This is kind of like the E. coli/lab rat of the text analysis world. I'm going to go super basic and load this text file in one chunk as a string."
   ]
  },
  {
   "cell_type": "code",
   "execution_count": 81,
   "metadata": {
    "executionInfo": {
     "elapsed": 1775,
     "status": "ok",
     "timestamp": 1618166750232,
     "user": {
      "displayName": "Harshit Geddam",
      "photoUrl": "https://lh3.googleusercontent.com/a-/AOh14GhXMfQTvrdrmiSk14MHOw41fxMIkB9FUlv_9nacgw=s64",
      "userId": "06261552780153453867"
     },
     "user_tz": -330
    },
    "id": "PcPX9AM4OBvW"
   },
   "outputs": [],
   "source": [
    "file_path_txt = r'C:\\Users\\sharm\\Desktop\\Drexel\\Class-work-\\Spring 21-22\\INFO 103 - TA\\W2\\MobyDick.txt'"
   ]
  },
  {
   "cell_type": "code",
   "execution_count": 82,
   "metadata": {
    "executionInfo": {
     "elapsed": 1771,
     "status": "ok",
     "timestamp": 1618166750232,
     "user": {
      "displayName": "Harshit Geddam",
      "photoUrl": "https://lh3.googleusercontent.com/a-/AOh14GhXMfQTvrdrmiSk14MHOw41fxMIkB9FUlv_9nacgw=s64",
      "userId": "06261552780153453867"
     },
     "user_tz": -330
    },
    "id": "ewzwaOP6G61D"
   },
   "outputs": [],
   "source": [
    "with open(file_path_txt, \"r\",encoding='utf-8') as f:\n",
    "    MobyDick = f.read()"
   ]
  },
  {
   "cell_type": "markdown",
   "metadata": {
    "id": "ZcBWgOCFG61D"
   },
   "source": [
    "Strings are really just lists, so we can look at the beginning of the text by slicing:"
   ]
  },
  {
   "cell_type": "code",
   "execution_count": 85,
   "metadata": {
    "colab": {
     "base_uri": "https://localhost:8080/",
     "height": 35
    },
    "executionInfo": {
     "elapsed": 3042,
     "status": "ok",
     "timestamp": 1618166751509,
     "user": {
      "displayName": "Harshit Geddam",
      "photoUrl": "https://lh3.googleusercontent.com/a-/AOh14GhXMfQTvrdrmiSk14MHOw41fxMIkB9FUlv_9nacgw=s64",
      "userId": "06261552780153453867"
     },
     "user_tz": -330
    },
    "id": "0eW5QU6MG61D",
    "outputId": "9b725cd8-d444-461c-8e95-42ea762916dd"
   },
   "outputs": [
    {
     "data": {
      "text/plain": [
       "'e'"
      ]
     },
     "execution_count": 85,
     "metadata": {},
     "output_type": "execute_result"
    }
   ],
   "source": [
    "MobyDick[6]"
   ]
  },
  {
   "cell_type": "code",
   "execution_count": 84,
   "metadata": {
    "colab": {
     "base_uri": "https://localhost:8080/"
    },
    "executionInfo": {
     "elapsed": 3034,
     "status": "ok",
     "timestamp": 1618166751510,
     "user": {
      "displayName": "Harshit Geddam",
      "photoUrl": "https://lh3.googleusercontent.com/a-/AOh14GhXMfQTvrdrmiSk14MHOw41fxMIkB9FUlv_9nacgw=s64",
      "userId": "06261552780153453867"
     },
     "user_tz": -330
    },
    "id": "guxSkBV-G61E",
    "outputId": "5eb813a9-2682-45a7-f6a3-edf0fbeeda2a",
    "scrolled": true
   },
   "outputs": [
    {
     "name": "stdout",
     "output_type": "stream",
     "text": [
      "﻿\n",
      "\n",
      "\n",
      "The Project Gutenberg EBook of Moby Dick; or The Whale, by Herman\n",
      "Melville\n",
      "\n",
      "This eBook is for the use of anyone anywhere at no cost and with almost\n",
      "no restrictions whatsoever. You may copy it, give it away or re-use\n",
      "it under the terms of the Project Gutenberg License included with this\n",
      "eBook or online at www.gutenberg.org\n",
      "\n",
      "\n",
      "Title: Moby Dick; or The Whale\n",
      "\n",
      "Author: Herman Melville\n",
      "\n",
      "Release Date: December 25, 2008 [EBook #2701]\n",
      "\n",
      "Last Updated: October 24, 2016\n",
      "\n",
      "Language: English\n",
      "\n",
      "Character set encoding: UTF-8\n",
      "\n",
      "*** START OF THIS PROJECT GUTENBERG EBOOK MOBY DICK; OR THE WHALE ***\n",
      "\n",
      "\n",
      "\n",
      "\n",
      "Produced by Daniel Lazarus, Jonesey, and David Widger\n",
      "\n",
      "\n",
      "\n",
      "\n",
      "\n",
      "\n",
      "\n",
      "\n",
      "MOBY DICK;\n",
      "\n",
      "\n",
      "or, THE WHALE.\n",
      "\n",
      "\n",
      "By Herman Melville\n",
      "\n",
      "\n",
      "\n",
      "\n",
      "\n",
      "    CONTENTS\n",
      "\n",
      "\n",
      "    ETYMOLOGY.\n",
      "\n",
      "    EXTRACTS (Supplied by a Sub-Sub-Librarian).\n",
      "\n",
      "\n",
      "    CHAPTER 1. Loomings.\n",
      "\n",
      "    CHAPTER 2. The Carpet-Bag.\n",
      "\n",
      "    CHAPTER 3. The Spouter-Inn.\n",
      "\n",
      "    CHAPTER 4. The Counterpane.\n",
      "\n",
      "    CHAPTER 5. Breakfast.\n",
      "\n",
      "    CHAPTER 6. The Street.\n",
      "\n",
      "    CHAPTER 7. The Chapel.\n",
      "\n",
      "    CHAPTER 8. The Pulpit.\n",
      "\n",
      "    CHAPTER 9. The Sermon.\n",
      "\n",
      "    CHAPTER 10. A Bosom Friend.\n",
      "\n",
      "    CHAPTER 11. Nightgown.\n",
      "\n",
      "    CHAPTER 12. Biographical.\n",
      "\n",
      "    CHAPTER 13. Wheelbarrow.\n",
      "\n",
      "    CHAPTER 14. Nantucket.\n",
      "\n",
      "    CHAPTER 15. Chowder.\n",
      "\n",
      "    CHAPTER 16. The Ship.\n",
      "\n",
      "    CHAPTER 17. The Ramadan.\n",
      "\n",
      "    CHAPTER 18. His Mark.\n",
      "\n",
      "    CHAPTER 19. The Prophet.\n",
      "\n",
      "    CHAPTER 20. All Astir.\n",
      "\n",
      "    CHAPTER 21. Going Aboard.\n",
      "\n",
      "    CHAPTER 22. Merry Christmas.\n",
      "\n",
      "    CHAPTER 23. The Lee Shore.\n",
      "\n",
      "    CHAPTER 24. The Advocate.\n",
      "\n",
      "    CHAPTER 25. Postscript.\n",
      "\n",
      "    CHAPTER 26. Knights and Squires.\n",
      "\n",
      "    CHAPTER 27. Knights and Squires.\n",
      "\n",
      "    CHAPTER 28. Ahab.\n",
      "\n",
      "    CHAPTER 29. Enter Ahab; to Him, Stubb.\n",
      "\n",
      "    CHAPTER 30. The Pipe.\n",
      "\n",
      "    CHAPTER 31. Queen Mab.\n",
      "\n",
      "    CHAPTER 32. Cetology.\n",
      "\n",
      "    CHAPTER 33. The Specksnyder.\n",
      "\n",
      "    CHAPTER 34. The Cabin-Table.\n",
      "\n",
      "    CHAPTER 35. The Mast-Head.\n",
      "\n",
      "    CHAPTER 36. The Quarter-Deck.\n",
      "\n",
      "    CHAPTER 37. Sunset.\n",
      "\n",
      "    CHAPTER 38. Dusk.\n",
      "\n",
      "    CHAPTER 39. First Night Watch.\n",
      "\n",
      "    CHAPTER 40. Midnight, Forecastle.\n",
      "\n",
      "    CHAPTER 41. Moby Dick.\n",
      "\n",
      "    CHAPTER 42. The Whiteness of The Whale.\n",
      "\n",
      "    CHAPTER 43. Hark!\n",
      "\n",
      "    CHAPTER 44. The Chart.\n",
      "\n",
      "    CHAPTER 45. The Affidavit.\n",
      "\n",
      "    CHAPTER 46. Surmises.\n",
      "\n",
      "    CHAPTER 47. The Mat-Maker.\n",
      "\n",
      "    CHAPTER 48. The First Lowering.\n",
      "\n",
      "    CHAPTER 49. The Hyena.\n",
      "\n",
      "    CHAPTER 50. Ahab’s Boat and Crew. Fedallah.\n",
      "\n",
      "    CHAPTER 51. The Spirit-Spout.\n",
      "\n",
      "    CHAPTER 52. The Albatross.\n",
      "\n",
      "    CHAPTER 53. The Gam.\n",
      "\n",
      "    CHAPTER 54. The Town-Ho’s Story.\n",
      "\n",
      "    CHAPTER 55. Of the Monstrous Pictures of Whales.\n",
      "\n",
      "    CHAPTER 56. Of the Less Erroneous Pictures of Whales, and the True Pictures of Whaling Scenes.\n",
      "\n",
      "    CHAPTER 57. Of Whales in Paint; in Teeth; in Wood; in Sheet-Iron; in Stone; in Mountains; in Stars.\n",
      "\n",
      "    CHAPTER 58. Brit.\n",
      "\n",
      "    CHAPTER 59. Squid.\n",
      "\n",
      "    CHAPTER 60. The Line.\n",
      "\n",
      "    CHAPTER 61. Stubb Kills a Whale.\n",
      "\n",
      "    CHAPTER 62. The Dart.\n",
      "\n",
      "    CHAPTER 63. The Crotch.\n",
      "\n",
      "    CHAPTER 64. Stubb’s Supper.\n",
      "\n",
      "    CHAPTER 65. The Whale as a Dish.\n",
      "\n",
      "    CHAPTER 66. The Shark Massacre.\n",
      "\n",
      "    CHAPTER 67. Cutting In.\n",
      "\n",
      "    CHAPTER 68. The Blanket.\n",
      "\n",
      "    CHAPTER 69. The Funeral.\n",
      "\n",
      "    CHAPTER 70. The Sphynx.\n",
      "\n",
      "    CHAPTER 71. The Jeroboam’s Story.\n",
      "\n",
      "    CHAPTER 72. The Monkey-Rope.\n",
      "\n",
      "    CHAPTER 73. Stubb and Flask Kill a Right Whale; and Then Have a Talk\n",
      "\n",
      "    CHAPTER 74. The Sperm Whale’s Head—Contrasted View.\n",
      "\n",
      "    CHAPTER 75. The Right Whale’s Head—Contrasted View.\n",
      "\n",
      "    CHAPTER 76. The Battering-Ram.\n",
      "\n",
      "    CHAPTER 77. The Great Heidelburgh Tun.\n",
      "\n",
      "    CHAPTER 78. Cistern and Buckets.\n",
      "\n",
      "    CHAPTER 79. The Prairie.\n",
      "\n",
      "    CHAPTER 80. The Nut.\n",
      "\n",
      "    CHAPTER 81. The Pequod Meets The Virgin.\n",
      "\n",
      "    CHAPTER 82. The Honour and Glory of Whaling.\n",
      "\n",
      "    CHAPTER 83. Jonah Historically Regarded.\n",
      "\n",
      "    CHAPTER 84. Pitchpoling.\n",
      "\n",
      "    CHAPTER 85. The Fountain.\n",
      "\n",
      "    CHAPTER 86. The Tail.\n",
      "\n",
      "    CHAPTER 87. The Grand Armada.\n",
      "\n",
      "    CHAPTER 88. Schools and Schoolmasters.\n",
      "\n",
      "    CHAPTER 89. Fast-Fish and Loose-Fish.\n",
      "\n",
      "    CHAPTER 90. Heads or Tails.\n",
      "\n",
      "    CHAPTER 91. The Pequod Meets The Rose-Bud.\n",
      "\n",
      "    CHAPTER 92. Ambergris.\n",
      "\n",
      "    CHAPTER 93. The Castaway.\n",
      "\n",
      "    CHAPTER 94. A Squeeze of the Hand.\n",
      "\n",
      "    CHAPTER 95. The Cassock.\n",
      "\n",
      "    CHAPTER 96. The Try-Works.\n",
      "\n",
      "    CHAPTER 97. The Lamp.\n",
      "\n",
      "    CHAPTER 98. Stowing Down and Clearing Up.\n",
      "\n",
      "    CHAPTER 99. The Doubloon.\n",
      "\n",
      "    CHAPTER 100. Leg and Arm.\n",
      "\n",
      "    CHAPTER 101. The Decanter.\n",
      "\n",
      "    CHAPTER 102. A Bower in the Arsacides.\n",
      "\n",
      "    CHAPTER 103. Measurement of The Whale’s Skeleton.\n",
      "\n",
      "    CHAPTER 104. The Fossil Whale.\n",
      "\n",
      "    CHAPTER 105. Does the Whale’s Magnitude Diminish?—Will He Perish?\n",
      "\n",
      "    CHAPTER 106. Ahab’s Leg.\n",
      "\n",
      "    CHAPTER 107. The Carpenter.\n",
      "\n",
      "    CHAPTER 108. Ahab and the Carpenter.\n",
      "\n",
      "    CHAPTER 109. Ahab and Starbuck in the Cabin.\n",
      "\n",
      "    CHAPTER 110. Queequeg in His Coffin.\n",
      "\n",
      "    CHAPTER 111. The Pacific.\n",
      "\n",
      "    CHAPTER 112. The Blacksmith.\n",
      "\n",
      "    CHAPTER 113. The Forge.\n",
      "\n",
      "    CHAPTER 114. The Gilder.\n",
      "\n",
      "    CHAPTER 115. The Pequod Meets The Bachelor.\n",
      "\n",
      "    CHAPTER 116. The Dying Whale.\n",
      "\n",
      "    CHAPTER 117. The Whale Watch.\n",
      "\n",
      "    CHAPTER 118. The Quadrant.\n",
      "\n",
      "    CHAPTER 119. The Candles.\n",
      "\n",
      "    CHAPTER 120. The Deck Towards the End of the First Night Watch.\n",
      "\n",
      "    CHAPTER 121. Midnight.—The Forecastle Bulwarks.\n",
      "\n",
      "    CHAPTER 122. Midnight Aloft.—Thunder and Lightning.\n",
      "\n",
      "    CHAPTER 123. The Musket.\n",
      "\n",
      "    CHAPTER 124. The Needle.\n",
      "\n",
      "    CHAPTER 125. The Log and Line.\n",
      "\n",
      "    CHAPTER 126. The Life-Buoy.\n",
      "\n",
      "    CHAPTER 127. The Deck.\n",
      "\n",
      "    CHAPTER 128. The Pequod Meets The Rachel.\n",
      "\n",
      "    CHAPTER 129. The Cabin.\n",
      "\n",
      "    CHAPTER 130. The Hat.\n",
      "\n",
      "    CHAPTER 131. The Pequod Meets The Delight.\n",
      "\n",
      "    CHAPTER 132. The Symphony.\n",
      "\n",
      "    CHAPTER 133. The Chase—First Day.\n",
      "\n",
      "    CHAPTER 134. The Chase—Second Day.\n",
      "\n",
      "    CHAPTER 135. The Chase.—Third Day.\n",
      "\n",
      "    Epilogue\n",
      "\n",
      "\n",
      "\n",
      "\n",
      "\n",
      "Original Transcriber’s Notes:\n",
      "\n",
      "This text is a combination of etexts, one from the now-defunct ERIS\n",
      "project at Virginia Tech and one from Project Gutenberg’s archives.\n",
      "The proofreaders of this version are indebted to The University of\n",
      "Adelaide Library for preserving the Virginia Tech version. The resulting\n",
      "etext was compared with a public domain hard copy version of the text.\n",
      "\n",
      "In chapters 24, 89, and 90, we substituted a capital L for the symbol\n",
      "for the British pound, a unit of currency.\n",
      "\n",
      "\n",
      "\n",
      "\n",
      "\n",
      "ETYMOLOGY. (Supplied by a Late Consumptive Usher to a Grammar School.)\n",
      "\n",
      "The pale Usher—threadbare in coat, heart, body, and brain; I see him\n",
      "now. He was ever dusting his old lexicons and grammars, with a queer\n",
      "handkerchief, mockingly embellished with all the gay flags of all\n",
      "the known nations of the world. He loved to dust his old grammars; it\n",
      "somehow mildly reminded him of his mortality.\n",
      "\n",
      "“While you take in hand to school others, and to teach them by what\n",
      "name a whale-fish is to be called in our tongue, leaving out, through\n",
      "ignorance, the letter H, which almost alone maketh up the signification\n",
      "of the word, you deliver that which is not true.” —Hackluyt.\n",
      "\n",
      "“WHALE. * * * Sw. and Dan. hval. This animal is named from roundness\n",
      "or rolling; for in Dan. hvalt is arched or vaulted.” —Webster’s\n",
      "Dictionary.\n",
      "\n",
      "“WHALE. * * * It is more immediately from the Dut. and Ger. Wallen;\n",
      "A.S. Walwian, to roll, to wallow.” —Richardson’s Dictionary.\n",
      "\n",
      "     חן,                  Hebrew.  \n",
      "     ϰητος,               Greek.\n",
      "     CETUS,               Latin.\n",
      "     WHŒL,                Anglo-Saxon.\n",
      "     HVALT,               Danish.\n",
      "     WAL,                 Dutch.\n",
      "     HWAL,                Swedish.\n",
      "     WHALE,               Icelandic.\n",
      "     WHALE,               English.\n",
      "     BALEINE,             French.\n",
      "     BALLENA,             Spanish.\n",
      "     PEKEE-NUEE-NUEE,     Fegee.\n",
      "     PEHEE-NUEE-NUEE,     Erromangoan.\n",
      "\n",
      "\n",
      "\n",
      "\n",
      "\n",
      "EXTRACTS. (Supplied by a Sub-Sub-Librarian).\n",
      "\n",
      "It will be seen that this mere painstaking burrower and grub-worm of a\n",
      "poor devil of a Sub-Sub appears to have gone through the long Vaticans\n",
      "and street-stalls of the earth, picking up whatever random allusions to\n",
      "whales he could anyways find in any book whatsoever, sacred or\n",
      "profane. Therefore you must not, in every case at least, take the\n",
      "higgledy-piggledy whale statements, however authentic, in these\n",
      "extracts, for veritable gospel cetology. Far from it. As touching the\n",
      "ancient authors generally, as well as the poets here appearing, these\n",
      "extracts are solely valuable or entertaining, as affording a glancing\n",
      "bird’s eye view of what has been promiscuously said, thought, fancied,\n",
      "and sung of Leviathan, by many nations and generations, including our\n",
      "own.\n",
      "\n",
      "So fare thee well, poor devil of a Sub-Sub, whose commentator I am. Thou\n",
      "belongest to that hopeless, sallow tribe which no wine of this world\n",
      "will ever warm; and for whom even Pale Sherry would be too rosy-strong;\n",
      "but with whom one sometimes loves to sit, and feel poor-devilish, too;\n",
      "and grow convivial upon tears; and say to them bluntly, with full eyes\n",
      "and empty glasses, and in not altogether unpleasant sadness—Give\n",
      "it up, Sub-Subs! For by how much the more pains ye take to please the\n",
      "world, by so much the more shall ye for ever go thankless! Would that\n",
      "I could clear out Hampton Court and the Tuileries for ye! But gulp down\n",
      "your tears and hie aloft to the royal-mast with your hearts; for your\n",
      "friends who have gone before are clearing out the seven-storied heavens,\n",
      "and making refugees of long-pampered Gabriel, Michael, and\n",
      "Raphael, against your coming. Here ye strike but splintered hearts\n",
      "together—there, ye shall strike unsplinterable glasses! EXTRACTS.\n",
      "\n",
      "“And God created great whales.” —Genesis.\n",
      "\n",
      "“Leviathan maketh a path to shine after him; One would think the deep\n",
      "to be hoary.” —Job.\n",
      "\n",
      "“Now the Lord had prepared a great fish to swallow up Jonah.”\n",
      "—Jonah.\n",
      "\n",
      "“There go the ships; there is that Leviathan whom thou hast made to\n",
      "play therein.” —Psalms.\n",
      "\n",
      "“In that day, the Lord with his sore, and great, and strong sword,\n",
      "shall punish Leviathan the piercing serpent, even Leviathan that crooked\n",
      "serpent; and he shall slay the dragon that is in the sea.” —Isaiah.\n",
      "\n",
      "“And what thing soever besides cometh within the chaos of this\n",
      "monster’s mouth, be it beast, boat, or stone, down it goes all\n",
      "incontinently that foul great swallow of his, and perisheth in the\n",
      "bottomless gulf of his paunch.” —Holland’s Plutarch’s Morals.\n",
      "\n",
      "“The Indian Sea breedeth the most and the biggest fishes that are:\n",
      "among which the Whales and Whirlpooles called Balaene, take up as much\n",
      "in length as four acres or arpens of land.” —Holland’s Pliny.\n",
      "\n",
      "“Scarcely had we proceeded two days on the sea, when about sunrise\n",
      "a great many Whales and other monsters of the sea, appeared. Among\n",
      "the former, one was of a most monstrous size.... This came towards us,\n",
      "open-mouthed, raising the waves on all sides, and beating the sea before\n",
      "him into a foam.” —Tooke’s Lucian. “The True History.”\n",
      "\n",
      "“He visited this country also with a view of catching horse-whales,\n",
      "which had bones of very great value for their teeth, of which he brought\n",
      "some to the king.... The best whales were catched in his own country, of\n",
      "which some were forty-eight, some fifty yards long. He said that he was\n",
      "one of six who had killed sixty in two days.” —Other or Other’s\n",
      "verbal narrative taken down from his mouth by King Alfred, A.D. 890.\n",
      "\n",
      "“And whereas all the other things, whether beast or vessel, that\n",
      "enter into the dreadful gulf of this monster’s (whale’s) mouth, are\n",
      "immediately lost and swallowed up, the sea-gudgeon retires into it\n",
      "in great security, and there sleeps.” —MONTAIGNE. —Apology for\n",
      "Raimond Sebond.\n",
      "\n",
      "“Let us fly, let us fly! Old Nick take me if is not Leviathan\n",
      "described by the noble prophet Moses in the life of patient Job.”\n",
      "—Rabelais.\n",
      "\n",
      "“This whale’s liver was two cartloads.” —Stowe’s Annals.\n",
      "\n",
      "“The great Leviathan that maketh the seas to seethe like boiling\n",
      "pan.” —Lord Bacon’s Version of the Psalms.\n",
      "\n",
      "“Touching that monstrous bulk of the whale or ork we have received\n",
      "nothing certain. They grow exceeding fat, insomuch that an incredible\n",
      "quantity of oil will be extracted out of one whale.” —Ibid.\n",
      "“History of Life and Death.”\n",
      "\n",
      "“The sovereignest thing on earth is parmacetti for an inward\n",
      "bruise.” —King Henry.\n",
      "\n",
      "“Very like a whale.” —Hamlet.\n",
      "\n",
      "     “Which to secure, no skill of leach’s art\n",
      "     Mote him availle, but to returne againe\n",
      "     To his wound’s worker, that with lowly dart,\n",
      "     Dinting his breast, had bred his restless paine,\n",
      "     Like as the wounded whale to shore flies thro’ the maine.”\n",
      "      —The Faerie Queen.\n",
      "\n",
      "“Immense as whales, the motion of whose vast bodies can in a peaceful\n",
      "calm trouble the ocean till it boil.” —Sir William Davenant. Preface\n",
      "to Gondibert.\n",
      "\n",
      "“What spermacetti is, men might justly doubt, since the learned\n",
      "Hosmannus in his work of thirty years, saith plainly, Nescio quid\n",
      "sit.” —Sir T. Browne. Of Sperma Ceti and the Sperma Ceti Whale. Vide\n",
      "his V. E.\n",
      "\n",
      "     “Like Spencer’s Talus with his modern flail\n",
      "     He threatens ruin with his ponderous tail.\n",
      "   ...\n",
      "     Their fixed jav’lins in his side he wears,\n",
      "     And on his back a grove of pikes appears.”\n",
      "      —Waller’s Battle of the Summer Islands.\n",
      "\n",
      "“By art is created that great Leviathan, called a Commonwealth\n",
      "or State—(in Latin, Civitas) which is but an artificial man.”\n",
      "—Opening sentence of Hobbes’s Leviathan.\n",
      "\n",
      "“Silly Mansoul swallowed it without chewing, as if it had been a sprat\n",
      "in the mouth of a whale.” —Pilgrim’s Progress.\n",
      "\n",
      "     “That sea beast\n",
      "     Leviathan, which God of all his works\n",
      "     Created hugest that swim the ocean stream.” —Paradise Lost.\n",
      "\n",
      "     —-“There Leviathan,\n",
      "     Hugest of living creatures, in the deep\n",
      "     Stretched like a promontory sleeps or swims,\n",
      "     And seems a moving land; and at his gills\n",
      "     Draws in, and at his breath spouts out a sea.” —Ibid.\n",
      "\n",
      "“The mighty whales which swim in a sea of water, and have a sea of oil\n",
      "swimming in them.” —Fuller’s Profane and Holy State.\n",
      "\n",
      "     “So close behind some promontory lie\n",
      "     The huge Leviathan to attend their prey,\n",
      "     And give no chance, but swallow in the fry,\n",
      "     Which through their gaping jaws mistake the way.”\n",
      "      —Dryden’s Annus Mirabilis.\n",
      "\n",
      "“While the whale is floating at the stern of the ship, they cut off\n",
      "his head, and tow it with a boat as near the shore as it will come;\n",
      "but it will be aground in twelve or thirteen feet water.” —Thomas\n",
      "Edge’s Ten Voyages to Spitzbergen, in Purchas.\n",
      "\n",
      "“In their way they saw many whales sporting in the ocean, and in\n",
      "wantonness fuzzing up the water through their pipes and vents, which\n",
      "nature has placed on their shoulders.” —Sir T. Herbert’s Voyages\n",
      "into Asia and Africa. Harris Coll.\n",
      "\n",
      "“Here they saw such huge troops of whales, that they were forced to\n",
      "proceed with a great deal of caution for fear they should run their ship\n",
      "upon them.” —Schouten’s Sixth Circumnavigation.\n",
      "\n",
      "“We set sail from the Elbe, wind N.E. in the ship called The\n",
      "Jonas-in-the-Whale.... Some say the whale can’t open his mouth, but\n",
      "that is a fable.... They frequently climb up the masts to see whether\n",
      "they can see a whale, for the first discoverer has a ducat for his\n",
      "pains.... I was told of a whale taken near Shetland, that had above a\n",
      "barrel of herrings in his belly.... One of our harpooneers told me that\n",
      "he caught once a whale in Spitzbergen that was white all over.” —A\n",
      "Voyage to Greenland, A.D. 1671. Harris Coll.\n",
      "\n",
      "“Several whales have come in upon this coast (Fife) Anno 1652, one\n",
      "eighty feet in length of the whale-bone kind came in, which (as I was\n",
      "informed), besides a vast quantity of oil, did afford 500 weight of\n",
      "baleen. The jaws of it stand for a gate in the garden of Pitferren.”\n",
      "—Sibbald’s Fife and Kinross.\n",
      "\n",
      "“Myself have agreed to try whether I can master and kill this\n",
      "Sperma-ceti whale, for I could never hear of any of that sort that was\n",
      "killed by any man, such is his fierceness and swiftness.” —Richard\n",
      "Strafford’s Letter from the Bermudas. Phil. Trans. A.D. 1668.\n",
      "\n",
      "“Whales in the sea God’s voice obey.” —N. E. Primer.\n",
      "\n",
      "“We saw also abundance of large whales, there being more in those\n",
      "southern seas, as I may say, by a hundred to one; than we have to the\n",
      "northward of us.” —Captain Cowley’s Voyage round the Globe, A.D.\n",
      "1729.\n",
      "\n",
      "“... and the breath of the whale is frequently attended with such\n",
      "an insupportable smell, as to bring on a disorder of the brain.”\n",
      "—Ulloa’s South America.\n",
      "\n",
      "     “To fifty chosen sylphs of special note,\n",
      "     We trust the important charge, the petticoat.\n",
      "     Oft have we known that seven-fold fence to fail,\n",
      "     Tho’ stuffed with hoops and armed with ribs of whale.”\n",
      "      —Rape of the Lock.\n",
      "\n",
      "“If we compare land animals in respect to magnitude, with those\n",
      "that take up their abode in the deep, we shall find they will appear\n",
      "contemptible in the comparison. The whale is doubtless the largest\n",
      "animal in creation.” —Goldsmith, Nat. Hist.\n",
      "\n",
      "“If you should write a fable for little fishes, you would make them\n",
      "speak like great wales.” —Goldsmith to Johnson.\n",
      "\n",
      "“In the afternoon we saw what was supposed to be a rock, but it was\n",
      "found to be a dead whale, which some Asiatics had killed, and were then\n",
      "towing ashore. They seemed to endeavor to conceal themselves behind the\n",
      "whale, in order to avoid being seen by us.” —Cook’s Voyages.\n",
      "\n",
      "“The larger whales, they seldom venture to attack. They stand in so\n",
      "great dread of some of them, that when out at sea they are afraid to\n",
      "mention even their names, and carry dung, lime-stone, juniper-wood,\n",
      "and some other articles of the same nature in their boats, in order to\n",
      "terrify and prevent their too near approach.” —Uno Von Troil’s\n",
      "Letters on Banks’s and Solander’s Voyage to Iceland in 1772.\n",
      "\n",
      "“The Spermacetti Whale found by the Nantuckois, is an active, fierce\n",
      "animal, and requires vast address and boldness in the fishermen.”\n",
      "—Thomas Jefferson’s Whale Memorial to the French minister in 1778.\n",
      "\n",
      "“And pray, sir, what in the world is equal to it?” —Edmund\n",
      "Burke’s reference in Parliament to the Nantucket Whale-Fishery.\n",
      "\n",
      "“Spain—a great whale stranded on the shores of Europe.” —Edmund\n",
      "Burke. (somewhere.)\n",
      "\n",
      "“A tenth branch of the king’s ordinary revenue, said to be grounded\n",
      "on the consideration of his guarding and protecting the seas from\n",
      "pirates and robbers, is the right to royal fish, which are whale and\n",
      "sturgeon. And these, when either thrown ashore or caught near the coast,\n",
      "are the property of the king.” —Blackstone.\n",
      "\n",
      "     “Soon to the sport of death the crews repair:\n",
      "     Rodmond unerring o’er his head suspends\n",
      "     The barbed steel, and every turn attends.”\n",
      "      —Falconer’s Shipwreck.\n",
      "\n",
      "     “Bright shone the roofs, the domes, the spires,\n",
      "     And rockets blew self driven,\n",
      "     To hang their momentary fire\n",
      "     Around the vault of heaven.\n",
      "\n",
      "     “So fire with water to compare,\n",
      "     The ocean serves on high,\n",
      "     Up-spouted by a whale in air,\n",
      "     To express unwieldy joy.”\n",
      "      —Cowper, on the Queen’s Visit to London.\n",
      "\n",
      "“Ten or fifteen gallons of blood are thrown out of the heart at a\n",
      "stroke, with immense velocity.” —John Hunter’s account of the\n",
      "dissection of a whale. (A small sized one.)\n",
      "\n",
      "“The aorta of a whale is larger in the bore than the main pipe of\n",
      "the water-works at London Bridge, and the water roaring in its passage\n",
      "through that pipe is inferior in impetus and velocity to the blood\n",
      "gushing from the whale’s heart.” —Paley’s Theology.\n",
      "\n",
      "“The whale is a mammiferous animal without hind feet.” —Baron\n",
      "Cuvier.\n",
      "\n",
      "“In 40 degrees south, we saw Spermacetti Whales, but did not take\n",
      "any till the first of May, the sea being then covered with them.”\n",
      "—Colnett’s Voyage for the Purpose of Extending the Spermaceti Whale\n",
      "Fishery.\n",
      "\n",
      "     “In the free element beneath me swam,\n",
      "     Floundered and dived, in play, in chace, in battle,\n",
      "     Fishes of every colour, form, and kind;\n",
      "     Which language cannot paint, and mariner\n",
      "     Had never seen; from dread Leviathan\n",
      "     To insect millions peopling every wave:\n",
      "     Gather’d in shoals immense, like floating islands,\n",
      "     Led by mysterious instincts through that waste\n",
      "     And trackless region, though on every side\n",
      "     Assaulted by voracious enemies,\n",
      "     Whales, sharks, and monsters, arm’d in front or jaw,\n",
      "     With swords, saws, spiral horns, or hooked fangs.”\n",
      "      —Montgomery’s World before the Flood.\n",
      "\n",
      "     “Io!  Paean!  Io! sing.\n",
      "     To the finny people’s king.\n",
      "     Not a mightier whale than this\n",
      "     In the vast Atlantic is;\n",
      "     Not a fatter fish than he,\n",
      "     Flounders round the Polar Sea.”\n",
      "      —Charles Lamb’s Triumph of the Whale.\n",
      "\n",
      "“In the year 1690 some persons were on a high hill observing the\n",
      "whales spouting and sporting with each other, when one observed:\n",
      "there—pointing to the sea—is a green pasture where our children’s\n",
      "grand-children will go for bread.” —Obed Macy’s History of\n",
      "Nantucket.\n",
      "\n",
      "“I built a cottage for Susan and myself and made a gateway in the\n",
      "form of a Gothic Arch, by setting up a whale’s jaw bones.”\n",
      "—Hawthorne’s Twice Told Tales.\n",
      "\n",
      "“She came to bespeak a monument for her first love, who had been\n",
      "killed by a whale in the Pacific ocean, no less than forty years ago.”\n",
      "—Ibid.\n",
      "\n",
      "“No, Sir, ‘tis a Right Whale,” answered Tom; “I saw his sprout;\n",
      "he threw up a pair of as pretty rainbows as a Christian would wish to\n",
      "look at. He’s a raal oil-butt, that fellow!” —Cooper’s Pilot.\n",
      "\n",
      "“The papers were brought in, and we saw in the Berlin Gazette that\n",
      "whales had been introduced on the stage there.” —Eckermann’s\n",
      "Conversations with Goethe.\n",
      "\n",
      "“My God! Mr. Chace, what is the matter?” I answered, “we have been\n",
      "stove by a whale.” —“Narrative of the Shipwreck of the Whale Ship\n",
      "Essex of Nantucket, which was attacked and finally destroyed by a large\n",
      "Sperm Whale in the Pacific Ocean.” By Owen Chace of Nantucket, first\n",
      "mate of said vessel. New York, 1821.\n",
      "\n",
      "     “A mariner sat in the shrouds one night,\n",
      "     The wind was piping free;\n",
      "     Now bright, now dimmed, was the moonlight pale,\n",
      "     And the phospher gleamed in the wake of the whale,\n",
      "     As it floundered in the sea.”\n",
      "      —Elizabeth Oakes Smith.\n",
      "\n",
      "“The quantity of line withdrawn from the boats engaged in the capture\n",
      "of this one whale, amounted altogether to 10,440 yards or nearly six\n",
      "English miles....\n",
      "\n",
      "“Sometimes the whale shakes its tremendous tail in the air, which,\n",
      "cracking like a whip, resounds to the distance of three or four\n",
      "miles.” —Scoresby.\n",
      "\n",
      "“Mad with the agonies he endures from these fresh attacks, the\n",
      "infuriated Sperm Whale rolls over and over; he rears his enormous head,\n",
      "and with wide expanded jaws snaps at everything around him; he rushes\n",
      "at the boats with his head; they are propelled before him with vast\n",
      "swiftness, and sometimes utterly destroyed.... It is a matter of great\n",
      "astonishment that the consideration of the habits of so interesting,\n",
      "and, in a commercial point of view, so important an animal (as the Sperm\n",
      "Whale) should have been so entirely neglected, or should have excited\n",
      "so little curiosity among the numerous, and many of them competent\n",
      "observers, that of late years, must have possessed the most abundant\n",
      "and the most convenient opportunities of witnessing their habitudes.”\n",
      "—Thomas Beale’s History of the Sperm Whale, 1839.\n",
      "\n",
      "“The Cachalot” (Sperm Whale) “is not only better armed than the\n",
      "True Whale” (Greenland or Right Whale) “in possessing a formidable\n",
      "weapon at either extremity of its body, but also more frequently\n",
      "displays a disposition to employ these weapons offensively and in\n",
      "manner at once so artful, bold, and mischievous, as to lead to its being\n",
      "regarded as the most dangerous to attack of all the known species of the\n",
      "whale tribe.” —Frederick Debell Bennett’s Whaling Voyage Round the\n",
      "Globe, 1840.\n",
      "\n",
      "     October 13.  “There she blows,” was sung out from the mast-head.\n",
      "     “Where away?” demanded the captain.\n",
      "     “Three points off the lee bow, sir.”\n",
      "      “Raise up your wheel.  Steady!”  “Steady, sir.”\n",
      "      “Mast-head ahoy!  Do you see that whale now?”\n",
      "      “Ay ay, sir!  A shoal of Sperm Whales!  There she blows!  There she\n",
      "     breaches!”\n",
      "      “Sing out! sing out every time!”\n",
      "      “Ay Ay, sir!  There she blows! there—there—thar she\n",
      "     blows—bowes—bo-o-os!”\n",
      "      “How far off?”\n",
      "      “Two miles and a half.”\n",
      "      “Thunder and lightning! so near!  Call all hands.”\n",
      "      —J. Ross Browne’s Etchings of a Whaling Cruize.  1846.\n",
      "\n",
      "“The Whale-ship Globe, on board of which vessel occurred the\n",
      "horrid transactions we are about to relate, belonged to the island of\n",
      "Nantucket.” —“Narrative of the Globe Mutiny,” by Lay and Hussey\n",
      "survivors. A.D. 1828.\n",
      "\n",
      "Being once pursued by a whale which he had wounded, he parried the\n",
      "assault for some time with a lance; but the furious monster at length\n",
      "rushed on the boat; himself and comrades only being preserved by leaping\n",
      "into the water when they saw the onset was inevitable.” —Missionary\n",
      "Journal of Tyerman and Bennett.\n",
      "\n",
      "“Nantucket itself,” said Mr. Webster, “is a very striking and\n",
      "peculiar portion of the National interest. There is a population of\n",
      "eight or nine thousand persons living here in the sea, adding largely\n",
      "every year to the National wealth by the boldest and most persevering\n",
      "industry.” —Report of Daniel Webster’s Speech in the U. S. Senate,\n",
      "on the application for the Erection of a Breakwater at Nantucket. 1828.\n",
      "\n",
      "“The whale fell directly over him, and probably killed him in\n",
      "a moment.” —“The Whale and his Captors, or The Whaleman’s\n",
      "Adventures and the Whale’s Biography, gathered on the Homeward Cruise\n",
      "of the Commodore Preble.” By Rev. Henry T. Cheever.\n",
      "\n",
      "“If you make the least damn bit of noise,” replied Samuel, “I will\n",
      "send you to hell.” —Life of Samuel Comstock (the mutineer), by\n",
      "his brother, William Comstock. Another Version of the whale-ship Globe\n",
      "narrative.\n",
      "\n",
      "“The voyages of the Dutch and English to the Northern Ocean, in order,\n",
      "if possible, to discover a passage through it to India, though they\n",
      "failed of their main object, laid-open the haunts of the whale.”\n",
      "—McCulloch’s Commercial Dictionary.\n",
      "\n",
      "“These things are reciprocal; the ball rebounds, only to bound forward\n",
      "again; for now in laying open the haunts of the whale, the whalemen seem\n",
      "to have indirectly hit upon new clews to that same mystic North-West\n",
      "Passage.” —From “Something” unpublished.\n",
      "\n",
      "“It is impossible to meet a whale-ship on the ocean without being\n",
      "struck by her near appearance. The vessel under short sail, with\n",
      "look-outs at the mast-heads, eagerly scanning the wide expanse around\n",
      "them, has a totally different air from those engaged in regular\n",
      "voyage.” —Currents and Whaling. U.S. Ex. Ex.\n",
      "\n",
      "“Pedestrians in the vicinity of London and elsewhere may recollect\n",
      "having seen large curved bones set upright in the earth, either to form\n",
      "arches over gateways, or entrances to alcoves, and they may perhaps have\n",
      "been told that these were the ribs of whales.” —Tales of a Whale\n",
      "Voyager to the Arctic Ocean.\n",
      "\n",
      "“It was not till the boats returned from the pursuit of these whales,\n",
      "that the whites saw their ship in bloody possession of the savages\n",
      "enrolled among the crew.” —Newspaper Account of the Taking and\n",
      "Retaking of the Whale-Ship Hobomack.\n",
      "\n",
      "“It is generally well known that out of the crews of Whaling\n",
      "vessels (American) few ever return in the ships on board of which they\n",
      "departed.” —Cruise in a Whale Boat.\n",
      "\n",
      "“Suddenly a mighty mass emerged from the water, and shot up\n",
      "perpendicularly into the air. It was the whale.” —Miriam Coffin or\n",
      "the Whale Fisherman.\n",
      "\n",
      "“The Whale is harpooned to be sure; but bethink you, how you would\n",
      "manage a powerful unbroken colt, with the mere appliance of a rope tied\n",
      "to the root of his tail.” —A Chapter on Whaling in Ribs and Trucks.\n",
      "\n",
      "“On one occasion I saw two of these monsters (whales) probably male\n",
      "and female, slowly swimming, one after the other, within less than a\n",
      "stone’s throw of the shore” (Terra Del Fuego), “over which\n",
      "the beech tree extended its branches.” —Darwin’s Voyage of a\n",
      "Naturalist.\n",
      "\n",
      "“‘Stern all!’ exclaimed the mate, as upon turning his head, he saw\n",
      "the distended jaws of a large Sperm Whale close to the head of the\n",
      "boat, threatening it with instant destruction;—‘Stern all, for your\n",
      "lives!’” —Wharton the Whale Killer.\n",
      "\n",
      "“So be cheery, my lads, let your hearts never fail, While the bold\n",
      "harpooneer is striking the whale!” —Nantucket Song.\n",
      "\n",
      "     “Oh, the rare old Whale, mid storm and gale\n",
      "     In his ocean home will be\n",
      "     A giant in might, where might is right,\n",
      "     And King of the boundless sea.”\n",
      "      —Whale Song.\n",
      "\n",
      "\n",
      "\n",
      "\n",
      "\n",
      "\n",
      "CHAPTER 1. Loomings.\n",
      "\n",
      "Call me Ishmael. Some years ago—never mind how long precisely—having\n",
      "little or no money in my purse, and nothing particular to interest me on\n",
      "shore, I thought I would sail about a little and see the watery part of\n",
      "the world. It is a way I have of driving off the spleen and regulating\n",
      "the circulation. Whenever I find myself growing grim about the mouth;\n",
      "whenever it is a damp, drizzly November in my soul; whenever I find\n",
      "myself involuntarily pausing before coffin warehouses, and bringing up\n",
      "the rear of every funeral I meet; and especially whenever my hypos get\n",
      "such an upper hand of me, that it requires a strong moral principle to\n",
      "prevent me from deliberately stepping into the street, and methodically\n",
      "knocking people’s hats off—then, I account it high time to get to\n",
      "sea as soon as I can. This is my substitute for pistol and ball. With\n",
      "a philosophical flourish Cato throws himself upon his sword; I quietly\n",
      "take to the ship. There is nothing surprising in this. If they but knew\n",
      "it, almost all men in their degree, some time or other, cherish very\n",
      "nearly the same feelings towards the ocean with me.\n",
      "\n",
      "There now is your insular city of the Manhattoes, belted round by\n",
      "wharves as Indian isles by coral reefs—commerce surrounds it with\n",
      "her surf. Right and left, the streets take you waterward. Its extreme\n",
      "downtown is the battery, where that noble mole is washed by waves, and\n",
      "cooled by breezes, which a few hours previous were out of sight of land.\n",
      "Look at the crowds of water-gazers there.\n",
      "\n",
      "Circumambulate the city of a dreamy Sabbath afternoon. Go from Corlears\n",
      "Hook to Coenties Slip, and from thence, by Whitehall, northward. What\n",
      "do you see?—Posted like silent sentinels all around the town, stand\n",
      "thousands upon thousands of mortal men fixed in ocean reveries. Some\n",
      "leaning against the spiles; some seated upon the pier-heads; some\n",
      "looking over the bulwarks of ships from China; some high aloft in the\n",
      "rigging, as if striving to get a still better seaward peep. But these\n",
      "are all landsmen; of week days pent up in lath and plaster—tied to\n",
      "counters, nailed to benches, clinched to desks. How then is this? Are\n",
      "the green fields gone? What do they here?\n",
      "\n",
      "But look! here come more crowds, pacing straight for the water, and\n",
      "seemingly bound for a dive. Strange! Nothing will content them but the\n",
      "extremest limit of the land; loitering under the shady lee of yonder\n",
      "warehouses will not suffice. No. They must get just as nigh the water\n",
      "as they possibly can without falling in. And there they stand—miles of\n",
      "them—leagues. Inlanders all, they come from lanes and alleys, streets\n",
      "and avenues—north, east, south, and west. Yet here they all unite.\n",
      "Tell me, does the magnetic virtue of the needles of the compasses of all\n",
      "those ships attract them thither?\n",
      "\n",
      "Once more. Say you are in the country; in some high land of lakes. Take\n",
      "almost any path you please, and ten to one it carries you down in a\n",
      "dale, and leaves you there by a pool in the stream. There is magic\n",
      "in it. Let the most absent-minded of men be plunged in his deepest\n",
      "reveries—stand that man on his legs, set his feet a-going, and he\n",
      "will infallibly lead you to water, if water there be in all that region.\n",
      "Should you ever be athirst in the great American desert, try this\n",
      "experiment, if your caravan happen to be supplied with a metaphysical\n",
      "professor. Yes, as every one knows, meditation and water are wedded for\n",
      "ever.\n",
      "\n",
      "But here is an artist. He desires to paint you the dreamiest, shadiest,\n",
      "quietest, most enchanting bit of romantic landscape in all the valley of\n",
      "the Saco. What is the chief element he employs? There stand his trees,\n",
      "each with a hollow trunk, as if a hermit and a crucifix were within; and\n",
      "here sleeps his meadow, and there sleep his cattle; and up from yonder\n",
      "cottage goes a sleepy smoke. Deep into distant woodlands winds a\n",
      "mazy way, reaching to overlapping spurs of mountains bathed in their\n",
      "hill-side blue. But though the picture lies thus tranced, and though\n",
      "this pine-tree shakes down its sighs like leaves upon this shepherd’s\n",
      "head, yet all were vain, unless the shepherd’s eye were fixed upon the\n",
      "magic stream before him. Go visit the Prairies in June, when for scores\n",
      "on scores of miles you wade knee-deep among Tiger-lilies—what is the\n",
      "one charm wanting?—Water—there is not a drop of water there! Were\n",
      "Niagara but a cataract of sand, would you travel your thousand miles to\n",
      "see it? Why did the poor poet of Tennessee, upon suddenly receiving two\n",
      "handfuls of silver, deliberate whether to buy him a coat, which he sadly\n",
      "needed, or invest his money in a pedestrian trip to Rockaway Beach? Why\n",
      "is almost every robust healthy boy with a robust healthy soul in him, at\n",
      "some time or other crazy to go to sea? Why upon your first voyage as a\n",
      "passenger, did you yourself feel such a mystical vibration, when first\n",
      "told that you and your ship were now out of sight of land? Why did the\n",
      "old Persians hold the sea holy? Why did the Greeks give it a separate\n",
      "deity, and own brother of Jove? Surely all this is not without meaning.\n",
      "And still deeper the meaning of that story of Narcissus, who because\n",
      "he could not grasp the tormenting, mild image he saw in the fountain,\n",
      "plunged into it and was drowned. But that same image, we ourselves see\n",
      "in all rivers and oceans. It is the image of the ungraspable phantom of\n",
      "life; and this is the key to it all.\n",
      "\n",
      "Now, when I say that I am in the habit of going to sea whenever I begin\n",
      "to grow hazy about the eyes, and begin to be over conscious of my lungs,\n",
      "I do not mean to have it inferred that I ever go to sea as a passenger.\n",
      "For to go as a passenger you must needs have a purse, and a purse is\n",
      "but a rag unless you have something in it. Besides, passengers get\n",
      "sea-sick—grow quarrelsome—don’t sleep of nights—do not enjoy\n",
      "themselves much, as a general thing;—no, I never go as a passenger;\n",
      "nor, though I am something of a salt, do I ever go to sea as a\n",
      "Commodore, or a Captain, or a Cook. I abandon the glory and distinction\n",
      "of such offices to those who like them. For my part, I abominate all\n",
      "honourable respectable toils, trials, and tribulations of every kind\n",
      "whatsoever. It is quite as much as I can do to take care of myself,\n",
      "without taking care of ships, barques, brigs, schooners, and what not.\n",
      "And as for going as cook,—though I confess there is considerable glory\n",
      "in that, a cook being a sort of officer on ship-board—yet, somehow,\n",
      "I never fancied broiling fowls;—though once broiled, judiciously\n",
      "buttered, and judgmatically salted and peppered, there is no one who\n",
      "will speak more respectfully, not to say reverentially, of a broiled\n",
      "fowl than I will. It is out of the idolatrous dotings of the old\n",
      "Egyptians upon broiled ibis and roasted river horse, that you see the\n",
      "mummies of those creatures in their huge bake-houses the pyramids.\n",
      "\n",
      "No, when I go to sea, I go as a simple sailor, right before the mast,\n",
      "plumb down into the forecastle, aloft there to the royal mast-head.\n",
      "True, they rather order me about some, and make me jump from spar to\n",
      "spar, like a grasshopper in a May meadow. And at first, this sort\n",
      "of thing is unpleasant enough. It touches one’s sense of honour,\n",
      "particularly if you come of an old established family in the land, the\n",
      "Van Rensselaers, or Randolphs, or Hardicanutes. And more than all,\n",
      "if just previous to putting your hand into the tar-pot, you have been\n",
      "lording it as a country schoolmaster, making the tallest boys stand\n",
      "in awe of you. The transition is a keen one, I assure you, from a\n",
      "schoolmaster to a sailor, and requires a strong decoction of Seneca and\n",
      "the Stoics to enable you to grin and bear it. But even this wears off in\n",
      "time.\n",
      "\n",
      "What of it, if some old hunks of a sea-captain orders me to get a broom\n",
      "and sweep down the decks? What does that indignity amount to, weighed,\n",
      "I mean, in the scales of the New Testament? Do you think the archangel\n",
      "Gabriel thinks anything the less of me, because I promptly and\n",
      "respectfully obey that old hunks in that particular instance? Who\n",
      "ain’t a slave? Tell me that. Well, then, however the old sea-captains\n",
      "may order me about—however they may thump and punch me about, I have\n",
      "the satisfaction of knowing that it is all right; that everybody else is\n",
      "one way or other served in much the same way—either in a physical\n",
      "or metaphysical point of view, that is; and so the universal thump is\n",
      "passed round, and all hands should rub each other’s shoulder-blades,\n",
      "and be content.\n",
      "\n",
      "Again, I always go to sea as a sailor, because they make a point of\n",
      "paying me for my trouble, whereas they never pay passengers a single\n",
      "penny that I ever heard of. On the contrary, passengers themselves must\n",
      "pay. And there is all the difference in the world between paying\n",
      "and being paid. The act of paying is perhaps the most uncomfortable\n",
      "infliction that the two orchard thieves entailed upon us. But being\n",
      "paid,—what will compare with it? The urbane activity with which a man\n",
      "receives money is really marvellous, considering that we so earnestly\n",
      "believe money to be the root of all earthly ills, and that on no account\n",
      "can a monied man enter heaven. Ah! how cheerfully we consign ourselves\n",
      "to perdition!\n",
      "\n",
      "Finally, I always go to sea as a sailor, because of the wholesome\n",
      "exercise and pure air of the fore-castle deck. For as in this world,\n",
      "head winds are far more prevalent than winds from astern (that is,\n",
      "if you never violate the Pythagorean maxim), so for the most part the\n",
      "Commodore on the quarter-deck gets his atmosphere at second hand from\n",
      "the sailors on the forecastle. He thinks he breathes it first; but not\n",
      "so. In much the same way do the commonalty lead their leaders in many\n",
      "other things, at the same time that the leaders little suspect it.\n",
      "But wherefore it was that after having repeatedly smelt the sea as a\n",
      "merchant sailor, I should now take it into my head to go on a whaling\n",
      "voyage; this the invisible police officer of the Fates, who has the\n",
      "constant surveillance of me, and secretly dogs me, and influences me in\n",
      "some unaccountable way—he can better answer than any one else. And,\n",
      "doubtless, my going on this whaling voyage, formed part of the grand\n",
      "programme of Providence that was drawn up a long time ago. It came in as\n",
      "a sort of brief interlude and solo between more extensive performances.\n",
      "I take it that this part of the bill must have run something like this:\n",
      "\n",
      "“Grand Contested Election for the Presidency of the United States.\n",
      "“WHALING VOYAGE BY ONE ISHMAEL. “BLOODY BATTLE IN AFFGHANISTAN.”\n",
      "\n",
      "Though I cannot tell why it was exactly that those stage managers, the\n",
      "Fates, put me down for this shabby part of a whaling voyage, when others\n",
      "were set down for magnificent parts in high tragedies, and short and\n",
      "easy parts in genteel comedies, and jolly parts in farces—though\n",
      "I cannot tell why this was exactly; yet, now that I recall all the\n",
      "circumstances, I think I can see a little into the springs and motives\n",
      "which being cunningly presented to me under various disguises, induced\n",
      "me to set about performing the part I did, besides cajoling me into the\n",
      "delusion that it was a choice resulting from my own unbiased freewill\n",
      "and discriminating judgment.\n",
      "\n",
      "Chief among these motives was the overwhelming idea of the great\n",
      "whale himself. Such a portentous and mysterious monster roused all my\n",
      "curiosity. Then the wild and distant seas where he rolled his island\n",
      "bulk; the undeliverable, nameless perils of the whale; these, with all\n",
      "the attending marvels of a thousand Patagonian sights and sounds, helped\n",
      "to sway me to my wish. With other men, perhaps, such things would not\n",
      "have been inducements; but as for me, I am tormented with an everlasting\n",
      "itch for things remote. I love to sail forbidden seas, and land on\n",
      "barbarous coasts. Not ignoring what is good, I am quick to perceive a\n",
      "horror, and could still be social with it—would they let me—since\n",
      "it is but well to be on friendly terms with all the inmates of the place\n",
      "one lodges in.\n",
      "\n",
      "By reason of these things, then, the whaling voyage was welcome; the\n",
      "great flood-gates of the wonder-world swung open, and in the wild\n",
      "conceits that swayed me to my purpose, two and two there floated into\n",
      "my inmost soul, endless processions of the whale, and, mid most of them\n",
      "all, one grand hooded phantom, like a snow hill in the air.\n",
      "\n",
      "\n",
      "\n",
      "\n",
      "\n",
      "CHAPTER 2. The Carpet-Bag.\n",
      "\n",
      "I stuffed a shirt or two into my old carpet-bag, tucked it under my arm,\n",
      "and started for Cape Horn and the Pacific. Quitting the good city of\n",
      "old Manhatto, I duly arrived in New Bedford. It was a Saturday night in\n",
      "December. Much was I disappointed upon learning that the little packet\n",
      "for Nantucket had already sailed, and that no way of reaching that place\n",
      "would offer, till the following Monday.\n",
      "\n",
      "As most young candidates for the pains and penalties of whaling stop at\n",
      "this same New Bedford, thence to embark on their voyage, it may as well\n",
      "be related that I, for one, had no idea of so doing. For my mind was\n",
      "made up to sail in no other than a Nantucket craft, because there was a\n",
      "fine, boisterous something about everything connected with that famous\n",
      "old island, which amazingly pleased me. Besides though New Bedford has\n",
      "of late been gradually monopolising the business of whaling, and though\n",
      "in this matter poor old Nantucket is now much behind her, yet Nantucket\n",
      "was her great original—the Tyre of this Carthage;—the place\n",
      "where the first dead American whale was stranded. Where else but from\n",
      "Nantucket did those aboriginal whalemen, the Red-Men, first sally out\n",
      "in canoes to give chase to the Leviathan? And where but from Nantucket,\n",
      "too, did that first adventurous little sloop put forth, partly laden\n",
      "with imported cobblestones—so goes the story—to throw at the whales,\n",
      "in order to discover when they were nigh enough to risk a harpoon from\n",
      "the bowsprit?\n",
      "\n",
      "Now having a night, a day, and still another night following before me\n",
      "in New Bedford, ere I could embark for my destined port, it became a\n",
      "matter of concernment where I was to eat and sleep meanwhile. It was a\n",
      "very dubious-looking, nay, a very dark and dismal night, bitingly cold\n",
      "and cheerless. I knew no one in the place. With anxious grapnels I had\n",
      "sounded my pocket, and only brought up a few pieces of silver,—So,\n",
      "wherever you go, Ishmael, said I to myself, as I stood in the middle of\n",
      "a dreary street shouldering my bag, and comparing the gloom towards the\n",
      "north with the darkness towards the south—wherever in your wisdom you\n",
      "may conclude to lodge for the night, my dear Ishmael, be sure to inquire\n",
      "the price, and don’t be too particular.\n",
      "\n",
      "With halting steps I paced the streets, and passed the sign of “The\n",
      "Crossed Harpoons”—but it looked too expensive and jolly there.\n",
      "Further on, from the bright red windows of the “Sword-Fish Inn,”\n",
      "there came such fervent rays, that it seemed to have melted the packed\n",
      "snow and ice from before the house, for everywhere else the congealed\n",
      "frost lay ten inches thick in a hard, asphaltic pavement,—rather weary\n",
      "for me, when I struck my foot against the flinty projections, because\n",
      "from hard, remorseless service the soles of my boots were in a most\n",
      "miserable plight. Too expensive and jolly, again thought I, pausing one\n",
      "moment to watch the broad glare in the street, and hear the sounds of\n",
      "the tinkling glasses within. But go on, Ishmael, said I at last; don’t\n",
      "you hear? get away from before the door; your patched boots are stopping\n",
      "the way. So on I went. I now by instinct followed the streets that\n",
      "took me waterward, for there, doubtless, were the cheapest, if not the\n",
      "cheeriest inns.\n",
      "\n",
      "Such dreary streets! blocks of blackness, not houses, on either hand,\n",
      "and here and there a candle, like a candle moving about in a tomb. At\n",
      "this hour of the night, of the last day of the week, that quarter of\n",
      "the town proved all but deserted. But presently I came to a smoky light\n",
      "proceeding from a low, wide building, the door of which stood invitingly\n",
      "open. It had a careless look, as if it were meant for the uses of the\n",
      "public; so, entering, the first thing I did was to stumble over an\n",
      "ash-box in the porch. Ha! thought I, ha, as the flying particles almost\n",
      "choked me, are these ashes from that destroyed city, Gomorrah? But\n",
      "“The Crossed Harpoons,” and “The Sword-Fish?”—this, then must\n",
      "needs be the sign of “The Trap.” However, I picked myself up and\n",
      "hearing a loud voice within, pushed on and opened a second, interior\n",
      "door.\n",
      "\n",
      "It seemed the great Black Parliament sitting in Tophet. A hundred black\n",
      "faces turned round in their rows to peer; and beyond, a black Angel\n",
      "of Doom was beating a book in a pulpit. It was a negro church; and the\n",
      "preacher’s text was about the blackness of darkness, and the weeping\n",
      "and wailing and teeth-gnashing there. Ha, Ishmael, muttered I, backing\n",
      "out, Wretched entertainment at the sign of ‘The Trap!’\n",
      "\n",
      "Moving on, I at last came to a dim sort of light not far from the docks,\n",
      "and heard a forlorn creaking in the air; and looking up, saw a swinging\n",
      "sign over the door with a white painting upon it, faintly representing\n",
      "a tall straight jet of misty spray, and these words underneath—“The\n",
      "Spouter Inn:—Peter Coffin.”\n",
      "\n",
      "Coffin?—Spouter?—Rather ominous in that particular connexion,\n",
      "thought I. But it is a common name in Nantucket, they say, and I suppose\n",
      "this Peter here is an emigrant from there. As the light looked so dim,\n",
      "and the place, for the time, looked quiet enough, and the dilapidated\n",
      "little wooden house itself looked as if it might have been carted here\n",
      "from the ruins of some burnt district, and as the swinging sign had a\n",
      "poverty-stricken sort of creak to it, I thought that here was the very\n",
      "spot for cheap lodgings, and the best of pea coffee.\n",
      "\n",
      "It was a queer sort of place—a gable-ended old house, one side palsied\n",
      "as it were, and leaning over sadly. It stood on a sharp bleak corner,\n",
      "where that tempestuous wind Euroclydon kept up a worse howling than ever\n",
      "it did about poor Paul’s tossed craft. Euroclydon, nevertheless, is\n",
      "a mighty pleasant zephyr to any one in-doors, with his feet on the hob\n",
      "quietly toasting for bed. “In judging of that tempestuous wind called\n",
      "Euroclydon,” says an old writer—of whose works I possess the only\n",
      "copy extant—“it maketh a marvellous difference, whether thou lookest\n",
      "out at it from a glass window where the frost is all on the outside, or\n",
      "whether thou observest it from that sashless window, where the frost is\n",
      "on both sides, and of which the wight Death is the only glazier.”\n",
      "True enough, thought I, as this passage occurred to my mind—old\n",
      "black-letter, thou reasonest well. Yes, these eyes are windows, and this\n",
      "body of mine is the house. What a pity they didn’t stop up the chinks\n",
      "and the crannies though, and thrust in a little lint here and there. But\n",
      "it’s too late to make any improvements now. The universe is finished;\n",
      "the copestone is on, and the chips were carted off a million years ago.\n",
      "Poor Lazarus there, chattering his teeth against the curbstone for his\n",
      "pillow, and shaking off his tatters with his shiverings, he might plug\n",
      "up both ears with rags, and put a corn-cob into his mouth, and yet that\n",
      "would not keep out the tempestuous Euroclydon. Euroclydon! says old\n",
      "Dives, in his red silken wrapper—(he had a redder one afterwards)\n",
      "pooh, pooh! What a fine frosty night; how Orion glitters; what northern\n",
      "lights! Let them talk of their oriental summer climes of everlasting\n",
      "conservatories; give me the privilege of making my own summer with my\n",
      "own coals.\n",
      "\n",
      "But what thinks Lazarus? Can he warm his blue hands by holding them up\n",
      "to the grand northern lights? Would not Lazarus rather be in Sumatra\n",
      "than here? Would he not far rather lay him down lengthwise along the\n",
      "line of the equator; yea, ye gods! go down to the fiery pit itself, in\n",
      "order to keep out this frost?\n",
      "\n",
      "Now, that Lazarus should lie stranded there on the curbstone before the\n",
      "door of Dives, this is more wonderful than that an iceberg should be\n",
      "moored to one of the Moluccas. Yet Dives himself, he too lives like a\n",
      "Czar in an ice palace made of frozen sighs, and being a president of a\n",
      "temperance society, he only drinks the tepid tears of orphans.\n",
      "\n",
      "But no more of this blubbering now, we are going a-whaling, and there is\n",
      "plenty of that yet to come. Let us scrape the ice from our frosted feet,\n",
      "and see what sort of a place this “Spouter” may be.\n",
      "\n",
      "\n",
      "\n",
      "\n",
      "\n",
      "CHAPTER 3. The Spouter-Inn.\n",
      "\n",
      "Entering that gable-ended Spouter-Inn, you found yourself in a wide,\n",
      "low, straggling entry with old-fashioned wainscots, reminding one of\n",
      "the bulwarks of some condemned old craft. On one side hung a very large\n",
      "oilpainting so thoroughly besmoked, and every way defaced, that in the\n",
      "unequal crosslights by which you viewed it, it was only by diligent\n",
      "study and a series of systematic visits to it, and careful inquiry of\n",
      "the neighbors, that you could any way arrive at an understanding of its\n",
      "purpose. Such unaccountable masses of shades and shadows, that at first\n",
      "you almost thought some ambitious young artist, in the time of the New\n",
      "England hags, had endeavored to delineate chaos bewitched. But by dint\n",
      "of much and earnest contemplation, and oft repeated ponderings, and\n",
      "especially by throwing open the little window towards the back of the\n",
      "entry, you at last come to the conclusion that such an idea, however\n",
      "wild, might not be altogether unwarranted.\n",
      "\n",
      "But what most puzzled and confounded you was a long, limber, portentous,\n",
      "black mass of something hovering in the centre of the picture over three\n",
      "blue, dim, perpendicular lines floating in a nameless yeast. A boggy,\n",
      "soggy, squitchy picture truly, enough to drive a nervous man distracted.\n",
      "Yet was there a sort of indefinite, half-attained, unimaginable\n",
      "sublimity about it that fairly froze you to it, till you involuntarily\n",
      "took an oath with yourself to find out what that marvellous painting\n",
      "meant. Ever and anon a bright, but, alas, deceptive idea would dart\n",
      "you through.—It’s the Black Sea in a midnight gale.—It’s\n",
      "the unnatural combat of the four primal elements.—It’s a blasted\n",
      "heath.—It’s a Hyperborean winter scene.—It’s the breaking-up of\n",
      "the icebound stream of Time. But at last all these fancies yielded to\n",
      "that one portentous something in the picture’s midst. That once found\n",
      "out, and all the rest were plain. But stop; does it not bear a faint\n",
      "resemblance to a gigantic fish? even the great leviathan himself?\n",
      "\n",
      "In fact, the artist’s design seemed this: a final theory of my own,\n",
      "partly based upon the aggregated opinions of many aged persons with whom\n",
      "I conversed upon the subject. The picture represents a Cape-Horner in a\n",
      "great hurricane; the half-foundered ship weltering there with its three\n",
      "dismantled masts alone visible; and an exasperated whale, purposing to\n",
      "spring clean over the craft, is in the enormous act of impaling himself\n",
      "upon the three mast-heads.\n",
      "\n",
      "The opposite wall of this entry was hung all over with a heathenish\n",
      "array of monstrous clubs and spears. Some were thickly set with\n",
      "glittering teeth resembling ivory saws; others were tufted with knots of\n",
      "human hair; and one was sickle-shaped, with a vast handle sweeping round\n",
      "like the segment made in the new-mown grass by a long-armed mower. You\n",
      "shuddered as you gazed, and wondered what monstrous cannibal and savage\n",
      "could ever have gone a death-harvesting with such a hacking, horrifying\n",
      "implement. Mixed with these were rusty old whaling lances and harpoons\n",
      "all broken and deformed. Some were storied weapons. With this once long\n",
      "lance, now wildly elbowed, fifty years ago did Nathan Swain kill fifteen\n",
      "whales between a sunrise and a sunset. And that harpoon—so like a\n",
      "corkscrew now—was flung in Javan seas, and run away with by a whale,\n",
      "years afterwards slain off the Cape of Blanco. The original iron entered\n",
      "nigh the tail, and, like a restless needle sojourning in the body of a\n",
      "man, travelled full forty feet, and at last was found imbedded in the\n",
      "hump.\n",
      "\n",
      "Crossing this dusky entry, and on through yon low-arched way—cut\n",
      "through what in old times must have been a great central chimney with\n",
      "fireplaces all round—you enter the public room. A still duskier place\n",
      "is this, with such low ponderous beams above, and such old wrinkled\n",
      "planks beneath, that you would almost fancy you trod some old craft’s\n",
      "cockpits, especially of such a howling night, when this corner-anchored\n",
      "old ark rocked so furiously. On one side stood a long, low, shelf-like\n",
      "table covered with cracked glass cases, filled with dusty rarities\n",
      "gathered from this wide world’s remotest nooks. Projecting from the\n",
      "further angle of the room stands a dark-looking den—the bar—a rude\n",
      "attempt at a right whale’s head. Be that how it may, there stands the\n",
      "vast arched bone of the whale’s jaw, so wide, a coach might almost\n",
      "drive beneath it. Within are shabby shelves, ranged round with old\n",
      "decanters, bottles, flasks; and in those jaws of swift destruction, like\n",
      "another cursed Jonah (by which name indeed they called him), bustles a\n",
      "little withered old man, who, for their money, dearly sells the sailors\n",
      "deliriums and death.\n",
      "\n",
      "Abominable are the tumblers into which he pours his poison. Though\n",
      "true cylinders without—within, the villanous green goggling glasses\n",
      "deceitfully tapered downwards to a cheating bottom. Parallel meridians\n",
      "rudely pecked into the glass, surround these footpads’ goblets. Fill\n",
      "to this mark, and your charge is but a penny; to this a penny more; and\n",
      "so on to the full glass—the Cape Horn measure, which you may gulp down\n",
      "for a shilling.\n",
      "\n",
      "Upon entering the place I found a number of young seamen gathered about\n",
      "a table, examining by a dim light divers specimens of skrimshander. I\n",
      "sought the landlord, and telling him I desired to be accommodated with\n",
      "a room, received for answer that his house was full—not a bed\n",
      "unoccupied. “But avast,” he added, tapping his forehead, “you\n",
      "haint no objections to sharing a harpooneer’s blanket, have ye? I\n",
      "s’pose you are goin’ a-whalin’, so you’d better get used to that\n",
      "sort of thing.”\n",
      "\n",
      "I told him that I never liked to sleep two in a bed; that if I should\n",
      "ever do so, it would depend upon who the harpooneer might be, and\n",
      "that if he (the landlord) really had no other place for me, and the\n",
      "harpooneer was not decidedly objectionable, why rather than wander\n",
      "further about a strange town on so bitter a night, I would put up with\n",
      "the half of any decent man’s blanket.\n",
      "\n",
      "“I thought so. All right; take a seat. Supper?—you want supper?\n",
      "Supper’ll be ready directly.”\n",
      "\n",
      "I sat down on an old wooden settle, carved all over like a bench on the\n",
      "Battery. At one end a ruminating tar was still further adorning it with\n",
      "his jack-knife, stooping over and diligently working away at the space\n",
      "between his legs. He was trying his hand at a ship under full sail, but\n",
      "he didn’t make much headway, I thought.\n",
      "\n",
      "At last some four or five of us were summoned to our meal in an\n",
      "adjoining room. It was cold as Iceland—no fire at all—the landlord\n",
      "said he couldn’t afford it. Nothing but two dismal tallow candles,\n",
      "each in a winding sheet. We were fain to button up our monkey jackets,\n",
      "and hold to our lips cups of scalding tea with our half frozen fingers.\n",
      "But the fare was of the most substantial kind—not only meat and\n",
      "potatoes, but dumplings; good heavens! dumplings for supper! One young\n",
      "fellow in a green box coat, addressed himself to these dumplings in a\n",
      "most direful manner.\n",
      "\n",
      "“My boy,” said the landlord, “you’ll have the nightmare to a\n",
      "dead sartainty.”\n",
      "\n",
      "“Landlord,” I whispered, “that aint the harpooneer is it?”\n",
      "\n",
      "“Oh, no,” said he, looking a sort of diabolically funny, “the\n",
      "harpooneer is a dark complexioned chap. He never eats dumplings, he\n",
      "don’t—he eats nothing but steaks, and he likes ‘em rare.”\n",
      "\n",
      "“The devil he does,” says I. “Where is that harpooneer? Is he\n",
      "here?”\n",
      "\n",
      "“He’ll be here afore long,” was the answer.\n",
      "\n",
      "I could not help it, but I began to feel suspicious of this “dark\n",
      "complexioned” harpooneer. At any rate, I made up my mind that if it so\n",
      "turned out that we should sleep together, he must undress and get into\n",
      "bed before I did.\n",
      "\n",
      "Supper over, the company went back to the bar-room, when, knowing not\n",
      "what else to do with myself, I resolved to spend the rest of the evening\n",
      "as a looker on.\n",
      "\n",
      "Presently a rioting noise was heard without. Starting up, the landlord\n",
      "cried, “That’s the Grampus’s crew. I seed her reported in the\n",
      "offing this morning; a three years’ voyage, and a full ship. Hurrah,\n",
      "boys; now we’ll have the latest news from the Feegees.”\n",
      "\n",
      "A tramping of sea boots was heard in the entry; the door was flung open,\n",
      "and in rolled a wild set of mariners enough. Enveloped in their shaggy\n",
      "watch coats, and with their heads muffled in woollen comforters, all\n",
      "bedarned and ragged, and their beards stiff with icicles, they seemed an\n",
      "eruption of bears from Labrador. They had just landed from their boat,\n",
      "and this was the first house they entered. No wonder, then, that they\n",
      "made a straight wake for the whale’s mouth—the bar—when the\n",
      "wrinkled little old Jonah, there officiating, soon poured them out\n",
      "brimmers all round. One complained of a bad cold in his head, upon which\n",
      "Jonah mixed him a pitch-like potion of gin and molasses, which he swore\n",
      "was a sovereign cure for all colds and catarrhs whatsoever, never mind\n",
      "of how long standing, or whether caught off the coast of Labrador, or on\n",
      "the weather side of an ice-island.\n",
      "\n",
      "The liquor soon mounted into their heads, as it generally does even\n",
      "with the arrantest topers newly landed from sea, and they began capering\n",
      "about most obstreperously.\n",
      "\n",
      "I observed, however, that one of them held somewhat aloof, and though\n",
      "he seemed desirous not to spoil the hilarity of his shipmates by his own\n",
      "sober face, yet upon the whole he refrained from making as much noise\n",
      "as the rest. This man interested me at once; and since the sea-gods\n",
      "had ordained that he should soon become my shipmate (though but a\n",
      "sleeping-partner one, so far as this narrative is concerned), I will\n",
      "here venture upon a little description of him. He stood full six feet\n",
      "in height, with noble shoulders, and a chest like a coffer-dam. I have\n",
      "seldom seen such brawn in a man. His face was deeply brown and burnt,\n",
      "making his white teeth dazzling by the contrast; while in the deep\n",
      "shadows of his eyes floated some reminiscences that did not seem to give\n",
      "him much joy. His voice at once announced that he was a Southerner,\n",
      "and from his fine stature, I thought he must be one of those tall\n",
      "mountaineers from the Alleghanian Ridge in Virginia. When the revelry\n",
      "of his companions had mounted to its height, this man slipped away\n",
      "unobserved, and I saw no more of him till he became my comrade on the\n",
      "sea. In a few minutes, however, he was missed by his shipmates, and\n",
      "being, it seems, for some reason a huge favourite with them, they raised\n",
      "a cry of “Bulkington! Bulkington! where’s Bulkington?” and darted\n",
      "out of the house in pursuit of him.\n",
      "\n",
      "It was now about nine o’clock, and the room seeming almost\n",
      "supernaturally quiet after these orgies, I began to congratulate myself\n",
      "upon a little plan that had occurred to me just previous to the entrance\n",
      "of the seamen.\n",
      "\n",
      "No man prefers to sleep two in a bed. In fact, you would a good deal\n",
      "rather not sleep with your own brother. I don’t know how it is, but\n",
      "people like to be private when they are sleeping. And when it comes to\n",
      "sleeping with an unknown stranger, in a strange inn, in a strange\n",
      "town, and that stranger a harpooneer, then your objections indefinitely\n",
      "multiply. Nor was there any earthly reason why I as a sailor should\n",
      "sleep two in a bed, more than anybody else; for sailors no more sleep\n",
      "two in a bed at sea, than bachelor Kings do ashore. To be sure they\n",
      "all sleep together in one apartment, but you have your own hammock, and\n",
      "cover yourself with your own blanket, and sleep in your own skin.\n",
      "\n",
      "The more I pondered over this harpooneer, the more I abominated the\n",
      "thought of sleeping with him. It was fair to presume that being a\n",
      "harpooneer, his linen or woollen, as the case might be, would not be of\n",
      "the tidiest, certainly none of the finest. I began to twitch all over.\n",
      "Besides, it was getting late, and my decent harpooneer ought to be\n",
      "home and going bedwards. Suppose now, he should tumble in upon me at\n",
      "midnight—how could I tell from what vile hole he had been coming?\n",
      "\n",
      "“Landlord! I’ve changed my mind about that harpooneer.—I shan’t\n",
      "sleep with him. I’ll try the bench here.”\n",
      "\n",
      "“Just as you please; I’m sorry I can’t spare ye a tablecloth for a\n",
      "mattress, and it’s a plaguy rough board here”—feeling of the knots\n",
      "and notches. “But wait a bit, Skrimshander; I’ve got a carpenter’s\n",
      "plane there in the bar—wait, I say, and I’ll make ye snug enough.”\n",
      "So saying he procured the plane; and with his old silk handkerchief\n",
      "first dusting the bench, vigorously set to planing away at my bed, the\n",
      "while grinning like an ape. The shavings flew right and left; till\n",
      "at last the plane-iron came bump against an indestructible knot. The\n",
      "landlord was near spraining his wrist, and I told him for heaven’s\n",
      "sake to quit—the bed was soft enough to suit me, and I did not know\n",
      "how all the planing in the world could make eider down of a pine plank.\n",
      "So gathering up the shavings with another grin, and throwing them into\n",
      "the great stove in the middle of the room, he went about his business,\n",
      "and left me in a brown study.\n",
      "\n",
      "I now took the measure of the bench, and found that it was a foot too\n",
      "short; but that could be mended with a chair. But it was a foot too\n",
      "narrow, and the other bench in the room was about four inches higher\n",
      "than the planed one—so there was no yoking them. I then placed the\n",
      "first bench lengthwise along the only clear space against the wall,\n",
      "leaving a little interval between, for my back to settle down in. But I\n",
      "soon found that there came such a draught of cold air over me from under\n",
      "the sill of the window, that this plan would never do at all, especially\n",
      "as another current from the rickety door met the one from the window,\n",
      "and both together formed a series of small whirlwinds in the immediate\n",
      "vicinity of the spot where I had thought to spend the night.\n",
      "\n",
      "The devil fetch that harpooneer, thought I, but stop, couldn’t I steal\n",
      "a march on him—bolt his door inside, and jump into his bed, not to be\n",
      "wakened by the most violent knockings? It seemed no bad idea; but upon\n",
      "second thoughts I dismissed it. For who could tell but what the next\n",
      "morning, so soon as I popped out of the room, the harpooneer might be\n",
      "standing in the entry, all ready to knock me down!\n",
      "\n",
      "Still, looking round me again, and seeing no possible chance of spending\n",
      "a sufferable night unless in some other person’s bed, I began to think\n",
      "that after all I might be cherishing unwarrantable prejudices against\n",
      "this unknown harpooneer. Thinks I, I’ll wait awhile; he must be\n",
      "dropping in before long. I’ll have a good look at him then, and\n",
      "perhaps we may become jolly good bedfellows after all—there’s no\n",
      "telling.\n",
      "\n",
      "But though the other boarders kept coming in by ones, twos, and threes,\n",
      "and going to bed, yet no sign of my harpooneer.\n",
      "\n",
      "“Landlord!” said I, “what sort of a chap is he—does he always\n",
      "keep such late hours?” It was now hard upon twelve o’clock.\n",
      "\n",
      "The landlord chuckled again with his lean chuckle, and seemed to be\n",
      "mightily tickled at something beyond my comprehension. “No,” he\n",
      "answered, “generally he’s an early bird—airley to bed and airley\n",
      "to rise—yes, he’s the bird what catches the worm. But to-night he\n",
      "went out a peddling, you see, and I don’t see what on airth keeps him\n",
      "so late, unless, may be, he can’t sell his head.”\n",
      "\n",
      "“Can’t sell his head?—What sort of a bamboozingly story is this\n",
      "you are telling me?” getting into a towering rage. “Do you pretend\n",
      "to say, landlord, that this harpooneer is actually engaged this blessed\n",
      "Saturday night, or rather Sunday morning, in peddling his head around\n",
      "this town?”\n",
      "\n",
      "“That’s precisely it,” said the landlord, “and I told him he\n",
      "couldn’t sell it here, the market’s overstocked.”\n",
      "\n",
      "“With what?” shouted I.\n",
      "\n",
      "“With heads to be sure; ain’t there too many heads in the world?”\n",
      "\n",
      "“I tell you what it is, landlord,” said I quite calmly, “you’d\n",
      "better stop spinning that yarn to me—I’m not green.”\n",
      "\n",
      "“May be not,” taking out a stick and whittling a toothpick, “but I\n",
      "rayther guess you’ll be done brown if that ere harpooneer hears you a\n",
      "slanderin’ his head.”\n",
      "\n",
      "“I’ll break it for him,” said I, now flying into a passion again\n",
      "at this unaccountable farrago of the landlord’s.\n",
      "\n",
      "“It’s broke a’ready,” said he.\n",
      "\n",
      "“Broke,” said I—“broke, do you mean?”\n",
      "\n",
      "“Sartain, and that’s the very reason he can’t sell it, I guess.”\n",
      "\n",
      "“Landlord,” said I, going up to him as cool as Mt. Hecla in a\n",
      "snow-storm—“landlord, stop whittling. You and I must understand one\n",
      "another, and that too without delay. I come to your house and want a\n",
      "bed; you tell me you can only give me half a one; that the other half\n",
      "belongs to a certain harpooneer. And about this harpooneer, whom I\n",
      "have not yet seen, you persist in telling me the most mystifying and\n",
      "exasperating stories tending to beget in me an uncomfortable feeling\n",
      "towards the man whom you design for my bedfellow—a sort of connexion,\n",
      "landlord, which is an intimate and confidential one in the highest\n",
      "degree. I now demand of you to speak out and tell me who and what this\n",
      "harpooneer is, and whether I shall be in all respects safe to spend the\n",
      "night with him. And in the first place, you will be so good as to unsay\n",
      "that story about selling his head, which if true I take to be good\n",
      "evidence that this harpooneer is stark mad, and I’ve no idea of\n",
      "sleeping with a madman; and you, sir, you I mean, landlord, you, sir,\n",
      "by trying to induce me to do so knowingly, would thereby render yourself\n",
      "liable to a criminal prosecution.”\n",
      "\n",
      "“Wall,” said the landlord, fetching a long breath, “that’s a\n",
      "purty long sarmon for a chap that rips a little now and then. But be\n",
      "easy, be easy, this here harpooneer I have been tellin’ you of has\n",
      "just arrived from the south seas, where he bought up a lot of ‘balmed\n",
      "New Zealand heads (great curios, you know), and he’s sold all on\n",
      "‘em but one, and that one he’s trying to sell to-night, cause\n",
      "to-morrow’s Sunday, and it would not do to be sellin’ human heads\n",
      "about the streets when folks is goin’ to churches. He wanted to, last\n",
      "Sunday, but I stopped him just as he was goin’ out of the door with\n",
      "four heads strung on a string, for all the airth like a string of\n",
      "inions.”\n",
      "\n",
      "This account cleared up the otherwise unaccountable mystery, and showed\n",
      "that the landlord, after all, had had no idea of fooling me—but at\n",
      "the same time what could I think of a harpooneer who stayed out of a\n",
      "Saturday night clean into the holy Sabbath, engaged in such a cannibal\n",
      "business as selling the heads of dead idolators?\n",
      "\n",
      "“Depend upon it, landlord, that harpooneer is a dangerous man.”\n",
      "\n",
      "“He pays reg’lar,” was the rejoinder. “But come, it’s getting\n",
      "dreadful late, you had better be turning flukes—it’s a nice bed; Sal\n",
      "and me slept in that ere bed the night we were spliced. There’s plenty\n",
      "of room for two to kick about in that bed; it’s an almighty big bed\n",
      "that. Why, afore we give it up, Sal used to put our Sam and little\n",
      "Johnny in the foot of it. But I got a dreaming and sprawling about one\n",
      "night, and somehow, Sam got pitched on the floor, and came near breaking\n",
      "his arm. Arter that, Sal said it wouldn’t do. Come along here, I’ll\n",
      "give ye a glim in a jiffy;” and so saying he lighted a candle and held\n",
      "it towards me, offering to lead the way. But I stood irresolute;\n",
      "when looking at a clock in the corner, he exclaimed “I vum it’s\n",
      "Sunday—you won’t see that harpooneer to-night; he’s come to anchor\n",
      "somewhere—come along then; do come; won’t ye come?”\n",
      "\n",
      "I considered the matter a moment, and then up stairs we went, and I was\n",
      "ushered into a small room, cold as a clam, and furnished, sure enough,\n",
      "with a prodigious bed, almost big enough indeed for any four harpooneers\n",
      "to sleep abreast.\n",
      "\n",
      "“There,” said the landlord, placing the candle on a crazy old sea\n",
      "chest that did double duty as a wash-stand and centre table; “there,\n",
      "make yourself comfortable now, and good night to ye.” I turned round\n",
      "from eyeing the bed, but he had disappeared.\n",
      "\n",
      "Folding back the counterpane, I stooped over the bed. Though none of the\n",
      "most elegant, it yet stood the scrutiny tolerably well. I then glanced\n",
      "round the room; and besides the bedstead and centre table, could see\n",
      "no other furniture belonging to the place, but a rude shelf, the four\n",
      "walls, and a papered fireboard representing a man striking a whale. Of\n",
      "things not properly belonging to the room, there was a hammock lashed\n",
      "up, and thrown upon the floor in one corner; also a large seaman’s\n",
      "bag, containing the harpooneer’s wardrobe, no doubt in lieu of a land\n",
      "trunk. Likewise, there was a parcel of outlandish bone fish hooks on the\n",
      "shelf over the fire-place, and a tall harpoon standing at the head of\n",
      "the bed.\n",
      "\n",
      "But what is this on the chest? I took it up, and held it close to the\n",
      "light, and felt it, and smelt it, and tried every way possible to arrive\n",
      "at some satisfactory conclusion concerning it. I can compare it to\n",
      "nothing but a large door mat, ornamented at the edges with little\n",
      "tinkling tags something like the stained porcupine quills round an\n",
      "Indian moccasin. There was a hole or slit in the middle of this mat,\n",
      "as you see the same in South American ponchos. But could it be possible\n",
      "that any sober harpooneer would get into a door mat, and parade the\n",
      "streets of any Christian town in that sort of guise? I put it on, to try\n",
      "it, and it weighed me down like a hamper, being uncommonly shaggy and\n",
      "thick, and I thought a little damp, as though this mysterious harpooneer\n",
      "had been wearing it of a rainy day. I went up in it to a bit of glass\n",
      "stuck against the wall, and I never saw such a sight in my life. I tore\n",
      "myself out of it in such a hurry that I gave myself a kink in the neck.\n",
      "\n",
      "I sat down on the side of the bed, and commenced thinking about this\n",
      "head-peddling harpooneer, and his door mat. After thinking some time on\n",
      "the bed-side, I got up and took off my monkey jacket, and then stood in\n",
      "the middle of the room thinking. I then took off my coat, and thought\n",
      "a little more in my shirt sleeves. But beginning to feel very cold now,\n",
      "half undressed as I was, and remembering what the landlord said about\n",
      "the harpooneer’s not coming home at all that night, it being so very\n",
      "late, I made no more ado, but jumped out of my pantaloons and boots, and\n",
      "then blowing out the light tumbled into bed, and commended myself to the\n",
      "care of heaven.\n",
      "\n",
      "Whether that mattress was stuffed with corn-cobs or broken crockery,\n",
      "there is no telling, but I rolled about a good deal, and could not sleep\n",
      "for a long time. At last I slid off into a light doze, and had pretty\n",
      "nearly made a good offing towards the land of Nod, when I heard a heavy\n",
      "footfall in the passage, and saw a glimmer of light come into the room\n",
      "from under the door.\n",
      "\n",
      "Lord save me, thinks I, that must be the harpooneer, the infernal\n",
      "head-peddler. But I lay perfectly still, and resolved not to say a word\n",
      "till spoken to. Holding a light in one hand, and that identical New\n",
      "Zealand head in the other, the stranger entered the room, and without\n",
      "looking towards the bed, placed his candle a good way off from me on the\n",
      "floor in one corner, and then began working away at the knotted cords\n",
      "of the large bag I before spoke of as being in the room. I was all\n",
      "eagerness to see his face, but he kept it averted for some time while\n",
      "employed in unlacing the bag’s mouth. This accomplished, however, he\n",
      "turned round—when, good heavens! what a sight! Such a face! It was of\n",
      "a dark, purplish, yellow colour, here and there stuck over with large\n",
      "blackish looking squares. Yes, it’s just as I thought, he’s a\n",
      "terrible bedfellow; he’s been in a fight, got dreadfully cut, and here\n",
      "he is, just from the surgeon. But at that moment he chanced to turn\n",
      "his face so towards the light, that I plainly saw they could not be\n",
      "sticking-plasters at all, those black squares on his cheeks. They were\n",
      "stains of some sort or other. At first I knew not what to make of this;\n",
      "but soon an inkling of the truth occurred to me. I remembered a story\n",
      "of a white man—a whaleman too—who, falling among the cannibals, had\n",
      "been tattooed by them. I concluded that this harpooneer, in the course\n",
      "of his distant voyages, must have met with a similar adventure. And\n",
      "what is it, thought I, after all! It’s only his outside; a man can\n",
      "be honest in any sort of skin. But then, what to make of his unearthly\n",
      "complexion, that part of it, I mean, lying round about, and completely\n",
      "independent of the squares of tattooing. To be sure, it might be nothing\n",
      "but a good coat of tropical tanning; but I never heard of a hot sun’s\n",
      "tanning a white man into a purplish yellow one. However, I had never\n",
      "been in the South Seas; and perhaps the sun there produced these\n",
      "extraordinary effects upon the skin. Now, while all these ideas were\n",
      "passing through me like lightning, this harpooneer never noticed me\n",
      "at all. But, after some difficulty having opened his bag, he commenced\n",
      "fumbling in it, and presently pulled out a sort of tomahawk, and a\n",
      "seal-skin wallet with the hair on. Placing these on the old chest in the\n",
      "middle of the room, he then took the New Zealand head—a ghastly thing\n",
      "enough—and crammed it down into the bag. He now took off his hat—a\n",
      "new beaver hat—when I came nigh singing out with fresh surprise. There\n",
      "was no hair on his head—none to speak of at least—nothing but a\n",
      "small scalp-knot twisted up on his forehead. His bald purplish head now\n",
      "looked for all the world like a mildewed skull. Had not the stranger\n",
      "stood between me and the door, I would have bolted out of it quicker\n",
      "than ever I bolted a dinner.\n",
      "\n",
      "Even as it was, I thought something of slipping out of the window, but\n",
      "it was the second floor back. I am no coward, but what to make of\n",
      "this head-peddling purple rascal altogether passed my comprehension.\n",
      "Ignorance is the parent of fear, and being completely nonplussed and\n",
      "confounded about the stranger, I confess I was now as much afraid of him\n",
      "as if it was the devil himself who had thus broken into my room at\n",
      "the dead of night. In fact, I was so afraid of him that I was not\n",
      "game enough just then to address him, and demand a satisfactory answer\n",
      "concerning what seemed inexplicable in him.\n",
      "\n",
      "Meanwhile, he continued the business of undressing, and at last showed\n",
      "his chest and arms. As I live, these covered parts of him were checkered\n",
      "with the same squares as his face; his back, too, was all over the same\n",
      "dark squares; he seemed to have been in a Thirty Years’ War, and just\n",
      "escaped from it with a sticking-plaster shirt. Still more, his very\n",
      "legs were marked, as if a parcel of dark green frogs were running up\n",
      "the trunks of young palms. It was now quite plain that he must be some\n",
      "abominable savage or other shipped aboard of a whaleman in the South\n",
      "Seas, and so landed in this Christian country. I quaked to think of it.\n",
      "A peddler of heads too—perhaps the heads of his own brothers. He might\n",
      "take a fancy to mine—heavens! look at that tomahawk!\n",
      "\n",
      "But there was no time for shuddering, for now the savage went about\n",
      "something that completely fascinated my attention, and convinced me that\n",
      "he must indeed be a heathen. Going to his heavy grego, or wrapall, or\n",
      "dreadnaught, which he had previously hung on a chair, he fumbled in the\n",
      "pockets, and produced at length a curious little deformed image with a\n",
      "hunch on its back, and exactly the colour of a three days’ old Congo\n",
      "baby. Remembering the embalmed head, at first I almost thought that\n",
      "this black manikin was a real baby preserved in some similar manner. But\n",
      "seeing that it was not at all limber, and that it glistened a good deal\n",
      "like polished ebony, I concluded that it must be nothing but a wooden\n",
      "idol, which indeed it proved to be. For now the savage goes up to the\n",
      "empty fire-place, and removing the papered fire-board, sets up this\n",
      "little hunch-backed image, like a tenpin, between the andirons. The\n",
      "chimney jambs and all the bricks inside were very sooty, so that I\n",
      "thought this fire-place made a very appropriate little shrine or chapel\n",
      "for his Congo idol.\n",
      "\n",
      "I now screwed my eyes hard towards the half hidden image, feeling but\n",
      "ill at ease meantime—to see what was next to follow. First he takes\n",
      "about a double handful of shavings out of his grego pocket, and places\n",
      "them carefully before the idol; then laying a bit of ship biscuit on\n",
      "top and applying the flame from the lamp, he kindled the shavings into\n",
      "a sacrificial blaze. Presently, after many hasty snatches into the fire,\n",
      "and still hastier withdrawals of his fingers (whereby he seemed to be\n",
      "scorching them badly), he at last succeeded in drawing out the biscuit;\n",
      "then blowing off the heat and ashes a little, he made a polite offer of\n",
      "it to the little negro. But the little devil did not seem to fancy such\n",
      "dry sort of fare at all; he never moved his lips. All these strange\n",
      "antics were accompanied by still stranger guttural noises from the\n",
      "devotee, who seemed to be praying in a sing-song or else singing some\n",
      "pagan psalmody or other, during which his face twitched about in the\n",
      "most unnatural manner. At last extinguishing the fire, he took the idol\n",
      "up very unceremoniously, and bagged it again in his grego pocket as\n",
      "carelessly as if he were a sportsman bagging a dead woodcock.\n",
      "\n",
      "All these queer proceedings increased my uncomfortableness, and\n",
      "seeing him now exhibiting strong symptoms of concluding his business\n",
      "operations, and jumping into bed with me, I thought it was high time,\n",
      "now or never, before the light was put out, to break the spell in which\n",
      "I had so long been bound.\n",
      "\n",
      "But the interval I spent in deliberating what to say, was a fatal one.\n",
      "Taking up his tomahawk from the table, he examined the head of it for an\n",
      "instant, and then holding it to the light, with his mouth at the handle,\n",
      "he puffed out great clouds of tobacco smoke. The next moment the light\n",
      "was extinguished, and this wild cannibal, tomahawk between his teeth,\n",
      "sprang into bed with me. I sang out, I could not help it now; and giving\n",
      "a sudden grunt of astonishment he began feeling me.\n",
      "\n",
      "Stammering out something, I knew not what, I rolled away from him\n",
      "against the wall, and then conjured him, whoever or whatever he might\n",
      "be, to keep quiet, and let me get up and light the lamp again. But his\n",
      "guttural responses satisfied me at once that he but ill comprehended my\n",
      "meaning.\n",
      "\n",
      "“Who-e debel you?”—he at last said—“you no speak-e, dam-me, I\n",
      "kill-e.” And so saying the lighted tomahawk began flourishing about me\n",
      "in the dark.\n",
      "\n",
      "“Landlord, for God’s sake, Peter Coffin!” shouted I. “Landlord!\n",
      "Watch! Coffin! Angels! save me!”\n",
      "\n",
      "“Speak-e! tell-ee me who-ee be, or dam-me, I kill-e!” again growled\n",
      "the cannibal, while his horrid flourishings of the tomahawk scattered\n",
      "the hot tobacco ashes about me till I thought my linen would get on\n",
      "fire. But thank heaven, at that moment the landlord came into the room\n",
      "light in hand, and leaping from the bed I ran up to him.\n",
      "\n",
      "“Don’t be afraid now,” said he, grinning again, “Queequeg here\n",
      "wouldn’t harm a hair of your head.”\n",
      "\n",
      "“Stop your grinning,” shouted I, “and why didn’t you tell me\n",
      "that that infernal harpooneer was a cannibal?”\n",
      "\n",
      "“I thought ye know’d it;—didn’t I tell ye, he was a peddlin’\n",
      "heads around town?—but turn flukes again and go to sleep. Queequeg,\n",
      "look here—you sabbee me, I sabbee—you this man sleepe you—you\n",
      "sabbee?”\n",
      "\n",
      "“Me sabbee plenty”—grunted Queequeg, puffing away at his pipe and\n",
      "sitting up in bed.\n",
      "\n",
      "“You gettee in,” he added, motioning to me with his tomahawk, and\n",
      "throwing the clothes to one side. He really did this in not only a civil\n",
      "but a really kind and charitable way. I stood looking at him a moment.\n",
      "For all his tattooings he was on the whole a clean, comely looking\n",
      "cannibal. What’s all this fuss I have been making about, thought I\n",
      "to myself—the man’s a human being just as I am: he has just as much\n",
      "reason to fear me, as I have to be afraid of him. Better sleep with a\n",
      "sober cannibal than a drunken Christian.\n",
      "\n",
      "“Landlord,” said I, “tell him to stash his tomahawk there, or\n",
      "pipe, or whatever you call it; tell him to stop smoking, in short, and\n",
      "I will turn in with him. But I don’t fancy having a man smoking in bed\n",
      "with me. It’s dangerous. Besides, I ain’t insured.”\n",
      "\n",
      "This being told to Queequeg, he at once complied, and again politely\n",
      "motioned me to get into bed—rolling over to one side as much as to\n",
      "say—“I won’t touch a leg of ye.”\n",
      "\n",
      "“Good night, landlord,” said I, “you may go.”\n",
      "\n",
      "I turned in, and never slept better in my life.\n",
      "\n",
      "\n",
      "\n",
      "\n",
      "\n",
      "CHAPTER 4. The Counterpane.\n",
      "\n",
      "Upon waking next morning about daylight, I found Queequeg’s arm thrown\n",
      "over me in the most loving and affectionate manner. You had almost\n",
      "thought I had been his wife. The counterpane was of patchwork, full of\n",
      "odd little parti-coloured squares and triangles; and this arm of his\n",
      "tattooed all over with an interminable Cretan labyrinth of a figure, no\n",
      "two parts of which were of one precise shade—owing I suppose to\n",
      "his keeping his arm at sea unmethodically in sun and shade, his shirt\n",
      "sleeves irregularly rolled up at various times—this same arm of his, I\n",
      "say, looked for all the world like a strip of that same patchwork quilt.\n",
      "Indeed, partly lying on it as the arm did when I first awoke, I could\n",
      "hardly tell it from the quilt, they so blended their hues together; and\n",
      "it was only by the sense of weight and pressure that I could tell that\n",
      "Queequeg was hugging me.\n",
      "\n",
      "My sensations were strange. Let me try to explain them. When I was a\n",
      "child, I well remember a somewhat similar circumstance that befell me;\n",
      "whether it was a reality or a dream, I never could entirely settle. The\n",
      "circumstance was this. I had been cutting up some caper or other—I\n",
      "think it was trying to crawl up the chimney, as I had seen a little\n",
      "sweep do a few days previous; and my stepmother who, somehow or other,\n",
      "was all the time whipping me, or sending me to bed supperless,—my\n",
      "mother dragged me by the legs out of the chimney and packed me off to\n",
      "bed, though it was only two o’clock in the afternoon of the 21st June,\n",
      "the longest day in the year in our hemisphere. I felt dreadfully. But\n",
      "there was no help for it, so up stairs I went to my little room in the\n",
      "third floor, undressed myself as slowly as possible so as to kill time,\n",
      "and with a bitter sigh got between the sheets.\n",
      "\n",
      "I lay there dismally calculating that sixteen entire hours must elapse\n",
      "before I could hope for a resurrection. Sixteen hours in bed! the\n",
      "small of my back ached to think of it. And it was so light too; the\n",
      "sun shining in at the window, and a great rattling of coaches in the\n",
      "streets, and the sound of gay voices all over the house. I felt worse\n",
      "and worse—at last I got up, dressed, and softly going down in my\n",
      "stockinged feet, sought out my stepmother, and suddenly threw myself\n",
      "at her feet, beseeching her as a particular favour to give me a good\n",
      "slippering for my misbehaviour; anything indeed but condemning me to lie\n",
      "abed such an unendurable length of time. But she was the best and most\n",
      "conscientious of stepmothers, and back I had to go to my room. For\n",
      "several hours I lay there broad awake, feeling a great deal worse than I\n",
      "have ever done since, even from the greatest subsequent misfortunes. At\n",
      "last I must have fallen into a troubled nightmare of a doze; and slowly\n",
      "waking from it—half steeped in dreams—I opened my eyes, and the\n",
      "before sun-lit room was now wrapped in outer darkness. Instantly I\n",
      "felt a shock running through all my frame; nothing was to be seen, and\n",
      "nothing was to be heard; but a supernatural hand seemed placed in mine.\n",
      "My arm hung over the counterpane, and the nameless, unimaginable, silent\n",
      "form or phantom, to which the hand belonged, seemed closely seated by my\n",
      "bed-side. For what seemed ages piled on ages, I lay there, frozen with\n",
      "the most awful fears, not daring to drag away my hand; yet ever thinking\n",
      "that if I could but stir it one single inch, the horrid spell would be\n",
      "broken. I knew not how this consciousness at last glided away from me;\n",
      "but waking in the morning, I shudderingly remembered it all, and for\n",
      "days and weeks and months afterwards I lost myself in confounding\n",
      "attempts to explain the mystery. Nay, to this very hour, I often puzzle\n",
      "myself with it.\n",
      "\n",
      "Now, take away the awful fear, and my sensations at feeling the\n",
      "supernatural hand in mine were very similar, in their strangeness, to\n",
      "those which I experienced on waking up and seeing Queequeg’s pagan\n",
      "arm thrown round me. But at length all the past night’s events soberly\n",
      "recurred, one by one, in fixed reality, and then I lay only alive to\n",
      "the comical predicament. For though I tried to move his arm—unlock his\n",
      "bridegroom clasp—yet, sleeping as he was, he still hugged me tightly,\n",
      "as though naught but death should part us twain. I now strove to rouse\n",
      "him—“Queequeg!”—but his only answer was a snore. I then rolled\n",
      "over, my neck feeling as if it were in a horse-collar; and suddenly felt\n",
      "a slight scratch. Throwing aside the counterpane, there lay the tomahawk\n",
      "sleeping by the savage’s side, as if it were a hatchet-faced baby.\n",
      "A pretty pickle, truly, thought I; abed here in a strange house in the\n",
      "broad day, with a cannibal and a tomahawk! “Queequeg!—in the name of\n",
      "goodness, Queequeg, wake!” At length, by dint of much wriggling, and\n",
      "loud and incessant expostulations upon the unbecomingness of his\n",
      "hugging a fellow male in that matrimonial sort of style, I succeeded in\n",
      "extracting a grunt; and presently, he drew back his arm, shook himself\n",
      "all over like a Newfoundland dog just from the water, and sat up in bed,\n",
      "stiff as a pike-staff, looking at me, and rubbing his eyes as if he\n",
      "did not altogether remember how I came to be there, though a dim\n",
      "consciousness of knowing something about me seemed slowly dawning over\n",
      "him. Meanwhile, I lay quietly eyeing him, having no serious misgivings\n",
      "now, and bent upon narrowly observing so curious a creature. When, at\n",
      "last, his mind seemed made up touching the character of his bedfellow,\n",
      "and he became, as it were, reconciled to the fact; he jumped out upon\n",
      "the floor, and by certain signs and sounds gave me to understand that,\n",
      "if it pleased me, he would dress first and then leave me to dress\n",
      "afterwards, leaving the whole apartment to myself. Thinks I, Queequeg,\n",
      "under the circumstances, this is a very civilized overture; but, the\n",
      "truth is, these savages have an innate sense of delicacy, say what\n",
      "you will; it is marvellous how essentially polite they are. I pay this\n",
      "particular compliment to Queequeg, because he treated me with so much\n",
      "civility and consideration, while I was guilty of great rudeness;\n",
      "staring at him from the bed, and watching all his toilette motions; for\n",
      "the time my curiosity getting the better of my breeding. Nevertheless,\n",
      "a man like Queequeg you don’t see every day, he and his ways were well\n",
      "worth unusual regarding.\n",
      "\n",
      "He commenced dressing at top by donning his beaver hat, a very tall one,\n",
      "by the by, and then—still minus his trowsers—he hunted up his\n",
      "boots. What under the heavens he did it for, I cannot tell, but his next\n",
      "movement was to crush himself—boots in hand, and hat on—under the\n",
      "bed; when, from sundry violent gaspings and strainings, I inferred he\n",
      "was hard at work booting himself; though by no law of propriety that\n",
      "I ever heard of, is any man required to be private when putting on\n",
      "his boots. But Queequeg, do you see, was a creature in the transition\n",
      "stage—neither caterpillar nor butterfly. He was just enough civilized\n",
      "to show off his outlandishness in the strangest possible manners. His\n",
      "education was not yet completed. He was an undergraduate. If he had not\n",
      "been a small degree civilized, he very probably would not have troubled\n",
      "himself with boots at all; but then, if he had not been still a savage,\n",
      "he never would have dreamt of getting under the bed to put them on. At\n",
      "last, he emerged with his hat very much dented and crushed down over his\n",
      "eyes, and began creaking and limping about the room, as if, not\n",
      "being much accustomed to boots, his pair of damp, wrinkled cowhide\n",
      "ones—probably not made to order either—rather pinched and tormented\n",
      "him at the first go off of a bitter cold morning.\n",
      "\n",
      "Seeing, now, that there were no curtains to the window, and that the\n",
      "street being very narrow, the house opposite commanded a plain view\n",
      "into the room, and observing more and more the indecorous figure that\n",
      "Queequeg made, staving about with little else but his hat and boots on;\n",
      "I begged him as well as I could, to accelerate his toilet somewhat,\n",
      "and particularly to get into his pantaloons as soon as possible. He\n",
      "complied, and then proceeded to wash himself. At that time in the\n",
      "morning any Christian would have washed his face; but Queequeg, to\n",
      "my amazement, contented himself with restricting his ablutions to his\n",
      "chest, arms, and hands. He then donned his waistcoat, and taking up a\n",
      "piece of hard soap on the wash-stand centre table, dipped it into water\n",
      "and commenced lathering his face. I was watching to see where he kept\n",
      "his razor, when lo and behold, he takes the harpoon from the bed corner,\n",
      "slips out the long wooden stock, unsheathes the head, whets it a little\n",
      "on his boot, and striding up to the bit of mirror against the wall,\n",
      "begins a vigorous scraping, or rather harpooning of his cheeks. Thinks\n",
      "I, Queequeg, this is using Rogers’s best cutlery with a vengeance.\n",
      "Afterwards I wondered the less at this operation when I came to know of\n",
      "what fine steel the head of a harpoon is made, and how exceedingly sharp\n",
      "the long straight edges are always kept.\n",
      "\n",
      "The rest of his toilet was soon achieved, and he proudly marched out of\n",
      "the room, wrapped up in his great pilot monkey jacket, and sporting his\n",
      "harpoon like a marshal’s baton.\n",
      "\n",
      "\n",
      "\n",
      "\n",
      "\n",
      "CHAPTER 5. Breakfast.\n",
      "\n",
      "I quickly followed suit, and descending into the bar-room accosted the\n",
      "grinning landlord very pleasantly. I cherished no malice towards him,\n",
      "though he had been skylarking with me not a little in the matter of my\n",
      "bedfellow.\n",
      "\n",
      "However, a good laugh is a mighty good thing, and rather too scarce a\n",
      "good thing; the more’s the pity. So, if any one man, in his own\n",
      "proper person, afford stuff for a good joke to anybody, let him not be\n",
      "backward, but let him cheerfully allow himself to spend and be spent in\n",
      "that way. And the man that has anything bountifully laughable about him,\n",
      "be sure there is more in that man than you perhaps think for.\n",
      "\n",
      "The bar-room was now full of the boarders who had been dropping in the\n",
      "night previous, and whom I had not as yet had a good look at. They were\n",
      "nearly all whalemen; chief mates, and second mates, and third mates, and\n",
      "sea carpenters, and sea coopers, and sea blacksmiths, and harpooneers,\n",
      "and ship keepers; a brown and brawny company, with bosky beards; an\n",
      "unshorn, shaggy set, all wearing monkey jackets for morning gowns.\n",
      "\n",
      "You could pretty plainly tell how long each one had been ashore. This\n",
      "young fellow’s healthy cheek is like a sun-toasted pear in hue, and\n",
      "would seem to smell almost as musky; he cannot have been three days\n",
      "landed from his Indian voyage. That man next him looks a few shades\n",
      "lighter; you might say a touch of satin wood is in him. In the\n",
      "complexion of a third still lingers a tropic tawn, but slightly bleached\n",
      "withal; he doubtless has tarried whole weeks ashore. But who could show\n",
      "a cheek like Queequeg? which, barred with various tints, seemed like\n",
      "the Andes’ western slope, to show forth in one array, contrasting\n",
      "climates, zone by zone.\n",
      "\n",
      "“Grub, ho!” now cried the landlord, flinging open a door, and in we\n",
      "went to breakfast.\n",
      "\n",
      "They say that men who have seen the world, thereby become quite at ease\n",
      "in manner, quite self-possessed in company. Not always, though: Ledyard,\n",
      "the great New England traveller, and Mungo Park, the Scotch one; of all\n",
      "men, they possessed the least assurance in the parlor. But perhaps the\n",
      "mere crossing of Siberia in a sledge drawn by dogs as Ledyard did, or\n",
      "the taking a long solitary walk on an empty stomach, in the negro heart\n",
      "of Africa, which was the sum of poor Mungo’s performances—this kind\n",
      "of travel, I say, may not be the very best mode of attaining a high\n",
      "social polish. Still, for the most part, that sort of thing is to be had\n",
      "anywhere.\n",
      "\n",
      "These reflections just here are occasioned by the circumstance that\n",
      "after we were all seated at the table, and I was preparing to hear some\n",
      "good stories about whaling; to my no small surprise, nearly every\n",
      "man maintained a profound silence. And not only that, but they looked\n",
      "embarrassed. Yes, here were a set of sea-dogs, many of whom without the\n",
      "slightest bashfulness had boarded great whales on the high seas—entire\n",
      "strangers to them—and duelled them dead without winking; and yet, here\n",
      "they sat at a social breakfast table—all of the same calling, all of\n",
      "kindred tastes—looking round as sheepishly at each other as though\n",
      "they had never been out of sight of some sheepfold among the Green\n",
      "Mountains. A curious sight; these bashful bears, these timid warrior\n",
      "whalemen!\n",
      "\n",
      "But as for Queequeg—why, Queequeg sat there among them—at the head\n",
      "of the table, too, it so chanced; as cool as an icicle. To be sure I\n",
      "cannot say much for his breeding. His greatest admirer could not have\n",
      "cordially justified his bringing his harpoon into breakfast with him,\n",
      "and using it there without ceremony; reaching over the table with it,\n",
      "to the imminent jeopardy of many heads, and grappling the beefsteaks\n",
      "towards him. But that was certainly very coolly done by him, and every\n",
      "one knows that in most people’s estimation, to do anything coolly is\n",
      "to do it genteelly.\n",
      "\n",
      "We will not speak of all Queequeg’s peculiarities here; how he\n",
      "eschewed coffee and hot rolls, and applied his undivided attention to\n",
      "beefsteaks, done rare. Enough, that when breakfast was over he withdrew\n",
      "like the rest into the public room, lighted his tomahawk-pipe, and was\n",
      "sitting there quietly digesting and smoking with his inseparable hat on,\n",
      "when I sallied out for a stroll.\n",
      "\n",
      "\n",
      "\n",
      "\n",
      "\n",
      "CHAPTER 6. The Street.\n",
      "\n",
      "If I had been astonished at first catching a glimpse of so outlandish\n",
      "an individual as Queequeg circulating among the polite society of a\n",
      "civilized town, that astonishment soon departed upon taking my first\n",
      "daylight stroll through the streets of New Bedford.\n",
      "\n",
      "In thoroughfares nigh the docks, any considerable seaport will\n",
      "frequently offer to view the queerest looking nondescripts from foreign\n",
      "parts. Even in Broadway and Chestnut streets, Mediterranean mariners\n",
      "will sometimes jostle the affrighted ladies. Regent Street is not\n",
      "unknown to Lascars and Malays; and at Bombay, in the Apollo Green, live\n",
      "Yankees have often scared the natives. But New Bedford beats all Water\n",
      "Street and Wapping. In these last-mentioned haunts you see only sailors;\n",
      "but in New Bedford, actual cannibals stand chatting at street corners;\n",
      "savages outright; many of whom yet carry on their bones unholy flesh. It\n",
      "makes a stranger stare.\n",
      "\n",
      "But, besides the Feegeeans, Tongatobooarrs, Erromanggoans, Pannangians,\n",
      "and Brighggians, and, besides the wild specimens of the whaling-craft\n",
      "which unheeded reel about the streets, you will see other sights still\n",
      "more curious, certainly more comical. There weekly arrive in this town\n",
      "scores of green Vermonters and New Hampshire men, all athirst for gain\n",
      "and glory in the fishery. They are mostly young, of stalwart frames;\n",
      "fellows who have felled forests, and now seek to drop the axe and snatch\n",
      "the whale-lance. Many are as green as the Green Mountains whence they\n",
      "came. In some things you would think them but a few hours old. Look\n",
      "there! that chap strutting round the corner. He wears a beaver hat and\n",
      "swallow-tailed coat, girdled with a sailor-belt and sheath-knife. Here\n",
      "comes another with a sou’-wester and a bombazine cloak.\n",
      "\n",
      "No town-bred dandy will compare with a country-bred one—I mean a\n",
      "downright bumpkin dandy—a fellow that, in the dog-days, will mow his\n",
      "two acres in buckskin gloves for fear of tanning his hands. Now when a\n",
      "country dandy like this takes it into his head to make a distinguished\n",
      "reputation, and joins the great whale-fishery, you should see the\n",
      "comical things he does upon reaching the seaport. In bespeaking his\n",
      "sea-outfit, he orders bell-buttons to his waistcoats; straps to his\n",
      "canvas trowsers. Ah, poor Hay-Seed! how bitterly will burst those straps\n",
      "in the first howling gale, when thou art driven, straps, buttons, and\n",
      "all, down the throat of the tempest.\n",
      "\n",
      "But think not that this famous town has only harpooneers, cannibals, and\n",
      "bumpkins to show her visitors. Not at all. Still New Bedford is a queer\n",
      "place. Had it not been for us whalemen, that tract of land would this\n",
      "day perhaps have been in as howling condition as the coast of Labrador.\n",
      "As it is, parts of her back country are enough to frighten one, they\n",
      "look so bony. The town itself is perhaps the dearest place to live\n",
      "in, in all New England. It is a land of oil, true enough: but not like\n",
      "Canaan; a land, also, of corn and wine. The streets do not run with\n",
      "milk; nor in the spring-time do they pave them with fresh eggs. Yet, in\n",
      "spite of this, nowhere in all America will you find more patrician-like\n",
      "houses; parks and gardens more opulent, than in New Bedford. Whence came\n",
      "they? how planted upon this once scraggy scoria of a country?\n",
      "\n",
      "Go and gaze upon the iron emblematical harpoons round yonder lofty\n",
      "mansion, and your question will be answered. Yes; all these brave houses\n",
      "and flowery gardens came from the Atlantic, Pacific, and Indian oceans.\n",
      "One and all, they were harpooned and dragged up hither from the bottom\n",
      "of the sea. Can Herr Alexander perform a feat like that?\n",
      "\n",
      "In New Bedford, fathers, they say, give whales for dowers to their\n",
      "daughters, and portion off their nieces with a few porpoises a-piece.\n",
      "You must go to New Bedford to see a brilliant wedding; for, they say,\n",
      "they have reservoirs of oil in every house, and every night recklessly\n",
      "burn their lengths in spermaceti candles.\n",
      "\n",
      "In summer time, the town is sweet to see; full of fine maples—long\n",
      "avenues of green and gold. And in August, high in air, the beautiful and\n",
      "bountiful horse-chestnuts, candelabra-wise, proffer the passer-by their\n",
      "tapering upright cones of congregated blossoms. So omnipotent is art;\n",
      "which in many a district of New Bedford has superinduced bright terraces\n",
      "of flowers upon the barren refuse rocks thrown aside at creation’s\n",
      "final day.\n",
      "\n",
      "And the women of New Bedford, they bloom like their own red roses. But\n",
      "roses only bloom in summer; whereas the fine carnation of their cheeks\n",
      "is perennial as sunlight in the seventh heavens. Elsewhere match that\n",
      "bloom of theirs, ye cannot, save in Salem, where they tell me the young\n",
      "girls breathe such musk, their sailor sweethearts smell them miles off\n",
      "shore, as though they were drawing nigh the odorous Moluccas instead of\n",
      "the Puritanic sands.\n",
      "\n",
      "\n",
      "\n",
      "\n",
      "\n",
      "CHAPTER 7. The Chapel.\n",
      "\n",
      "In this same New Bedford there stands a Whaleman’s Chapel, and few are\n",
      "the moody fishermen, shortly bound for the Indian Ocean or Pacific, who\n",
      "fail to make a Sunday visit to the spot. I am sure that I did not.\n",
      "\n",
      "Returning from my first morning stroll, I again sallied out upon this\n",
      "special errand. The sky had changed from clear, sunny cold, to driving\n",
      "sleet and mist. Wrapping myself in my shaggy jacket of the cloth called\n",
      "bearskin, I fought my way against the stubborn storm. Entering, I found\n",
      "a small scattered congregation of sailors, and sailors’ wives and\n",
      "widows. A muffled silence reigned, only broken at times by the shrieks\n",
      "of the storm. Each silent worshipper seemed purposely sitting apart from\n",
      "the other, as if each silent grief were insular and incommunicable. The\n",
      "chaplain had not yet arrived; and there these silent islands of men and\n",
      "women sat steadfastly eyeing several marble tablets, with black borders,\n",
      "masoned into the wall on either side the pulpit. Three of them ran\n",
      "something like the following, but I do not pretend to quote:—\n",
      "\n",
      "SACRED TO THE MEMORY OF JOHN TALBOT, Who, at the age of eighteen, was\n",
      "lost overboard, Near the Isle of Desolation, off Patagonia, November\n",
      "1st, 1836. THIS TABLET Is erected to his Memory BY HIS SISTER.\n",
      "\n",
      "SACRED TO THE MEMORY OF ROBERT LONG, WILLIS ELLERY, NATHAN COLEMAN,\n",
      "WALTER CANNY, SETH MACY, AND SAMUEL GLEIG, Forming one of the boats’\n",
      "crews OF THE SHIP ELIZA Who were towed out of sight by a Whale, On the\n",
      "Off-shore Ground in the PACIFIC, December 31st, 1839. THIS MARBLE Is\n",
      "here placed by their surviving SHIPMATES.\n",
      "\n",
      "SACRED TO THE MEMORY OF The late CAPTAIN EZEKIEL HARDY, Who in the bows\n",
      "of his boa\n"
     ]
    }
   ],
   "source": [
    "print(MobyDick[:100000])"
   ]
  },
  {
   "cell_type": "markdown",
   "metadata": {
    "id": "YhmOyyXsG61E"
   },
   "source": [
    "#### Text is 'messy'\n",
    "As you can see, there is lots of leader text surrounding the main content, so a main focus with text processing if figuring out how to get what we want. This is where regular expressions come in handy. For the sake of simplicity, let's just grab the index.\n",
    "\n",
    "https://regex101.com/ <br>\n",
    "http://web.mit.edu/hackl/www/lab/turkshop/slides/regex-cheatsheet.pdf <br>\n",
    "https://medium.com/factory-mind/regex-tutorial-a-simple-cheatsheet-by-examples-649dc1c3f285\n"
   ]
  },
  {
   "cell_type": "code",
   "execution_count": 91,
   "metadata": {
    "colab": {
     "base_uri": "https://localhost:8080/"
    },
    "executionInfo": {
     "elapsed": 3027,
     "status": "ok",
     "timestamp": 1618166751511,
     "user": {
      "displayName": "Harshit Geddam",
      "photoUrl": "https://lh3.googleusercontent.com/a-/AOh14GhXMfQTvrdrmiSk14MHOw41fxMIkB9FUlv_9nacgw=s64",
      "userId": "06261552780153453867"
     },
     "user_tz": -330
    },
    "id": "waHyB9AyG61E",
    "outputId": "542df271-8898-4f9e-f5c5-a421532ce374",
    "scrolled": true
   },
   "outputs": [
    {
     "name": "stdout",
     "output_type": "stream",
     "text": [
      "Total chapters: 135\n",
      "\n",
      "This is what we've got for chapter 2:\n",
      "\n",
      "{'title': 'The Carpet-Bag.', 'text': ''}\n"
     ]
    }
   ],
   "source": [
    "#Defining a dictionary \n",
    "index = {}\n",
    "for chapter in re.finditer(\"(CHAPTER\\s+\\d+)\\.\\s+([^\\n\\r]+)\", MobyDick):\n",
    "    #A group() expression returns one or more subgroups of the match.\n",
    "    ChapNum = chapter.group(1)\n",
    "    #shift tab tab if any confusion\n",
    "    if not index.get(ChapNum, False):\n",
    "        index[ChapNum] = {\n",
    "            \"title\": chapter.group(2),\n",
    "            \"text\": \"\"\n",
    "        }\n",
    "print(\"Total chapters: \"+str(len(index.keys())))\n",
    "print(\"\")\n",
    "print(\"This is what we've got for chapter 2:\\n\")\n",
    "print(index[\"CHAPTER 2\"])"
   ]
  },
  {
   "cell_type": "markdown",
   "metadata": {
    "id": "OobGilkNG61E"
   },
   "source": [
    "Grabbing the index was pretty easy, because it was \"semi-structured\", but other forms of text and tasks are really not this nice! For example, now that we have the chapter names, we may want to find the individual chapters and separate them. How could we do this? (Note: The last chapter's text will include any text at the bottom of the document, requiring further preprocessing.)"
   ]
  },
  {
   "cell_type": "code",
   "execution_count": 23,
   "metadata": {
    "executionInfo": {
     "elapsed": 3022,
     "status": "ok",
     "timestamp": 1618166751512,
     "user": {
      "displayName": "Harshit Geddam",
      "photoUrl": "https://lh3.googleusercontent.com/a-/AOh14GhXMfQTvrdrmiSk14MHOw41fxMIkB9FUlv_9nacgw=s64",
      "userId": "06261552780153453867"
     },
     "user_tz": -330
    },
    "id": "BTaMqWlFG61F"
   },
   "outputs": [],
   "source": [
    "ByChapter = re.split(\"\\n(CHAPTER \\d+)\\. \", MobyDick)"
   ]
  },
  {
   "cell_type": "code",
   "execution_count": 24,
   "metadata": {
    "colab": {
     "base_uri": "https://localhost:8080/"
    },
    "executionInfo": {
     "elapsed": 3017,
     "status": "ok",
     "timestamp": 1618166751512,
     "user": {
      "displayName": "Harshit Geddam",
      "photoUrl": "https://lh3.googleusercontent.com/a-/AOh14GhXMfQTvrdrmiSk14MHOw41fxMIkB9FUlv_9nacgw=s64",
      "userId": "06261552780153453867"
     },
     "user_tz": -330
    },
    "id": "sR-Kor4-G61F",
    "outputId": "c543a169-aae7-4a49-a111-7c80dd782cb6"
   },
   "outputs": [
    {
     "name": "stdout",
     "output_type": "stream",
     "text": [
      "CHAPTER 2\n"
     ]
    }
   ],
   "source": [
    "print(ByChapter[3])"
   ]
  },
  {
   "cell_type": "code",
   "execution_count": 25,
   "metadata": {
    "colab": {
     "base_uri": "https://localhost:8080/"
    },
    "executionInfo": {
     "elapsed": 3009,
     "status": "ok",
     "timestamp": 1618166751513,
     "user": {
      "displayName": "Harshit Geddam",
      "photoUrl": "https://lh3.googleusercontent.com/a-/AOh14GhXMfQTvrdrmiSk14MHOw41fxMIkB9FUlv_9nacgw=s64",
      "userId": "06261552780153453867"
     },
     "user_tz": -330
    },
    "id": "s-zS6BAiG61F",
    "outputId": "990024d4-70a5-41a5-d2aa-d6fddc33122e",
    "scrolled": true
   },
   "outputs": [
    {
     "name": "stdout",
     "output_type": "stream",
     "text": [
      "Total splits: 271\n",
      "\n",
      "Found 135 chapter texts in total!\n",
      "Here's what we got for CHAPTER 2: \n",
      "\n",
      "The Carpet-Bag.\n",
      "\n",
      "I stuffed a shirt or two into my old carpet-bag, tucked it under my arm,\n",
      "and started for Cape Horn and the Pacific. Quitting the good city of\n",
      "old Manhatto, I duly arrived in New Bedford. It was a Saturday night in\n",
      "December. Much was I disappointed upon learning that the little packet\n",
      "for Nantucket had already sailed, and that no way of reaching that place\n",
      "would offer, till the following Monday.\n",
      "\n",
      "As most young candidates for the pains and penalties of whaling stop at\n",
      "this same New Bedford, thence to embark on their voyage, it may as well\n",
      "be related that I, for one, had no idea of so doing. For my mind was\n",
      "made up to sail in no other than a Nantucket craft, because there was a\n",
      "fine, boisterous something about everything connected with that famous\n",
      "old island, which amazingly pleased me. Besides though New Bedford has\n",
      "of late been gradually monopolising the business of whaling, and though\n",
      "in this matter poor old Nantucket is now much behind her, yet Nantucket\n",
      "was her great original—the Tyre of this Carthage;—the place\n",
      "where the first dead American whale was stranded. Where else but from\n",
      "Nantucket did those aboriginal whalemen, the Red-Men, first sally out\n",
      "in canoes to give chase to the Leviathan? And where but from Nantucket,\n",
      "too, did that first adventurous little sloop put forth, partly laden\n",
      "with imported cobblestones—so goes the story—to throw at the whales,\n",
      "in order to discover when they were nigh enough to risk a harpoon from\n",
      "the bowsprit?\n",
      "\n",
      "Now having a night, a day, and still another night following before me\n",
      "in New Bedford, ere I could embark for my destined port, it became a\n",
      "matter of concernment where I was to eat and sleep meanwhile. It was a\n",
      "very dubious-looking, nay, a very dark and dismal night, bitingly cold\n",
      "and cheerless. I knew no one in the place. With anxious grapnels I had\n",
      "sounded my pocket, and only brought up a few pieces of silver,—So,\n",
      "wherever you go, Ishmael, said I to myself, as I stood in the middle of\n",
      "a dreary street shouldering my bag, and comparing the gloom towards the\n",
      "north with the darkness towards the south—wherever in your wisdom you\n",
      "may conclude to lodge for the night, my dear Ishmael, be sure to inquire\n",
      "the price, and don’t be too particular.\n",
      "\n",
      "With halting steps I paced the streets, and passed the sign of “The\n",
      "Crossed Harpoons”—but it looked too expensive and jolly there.\n",
      "Further on, from the bright red windows of the “Sword-Fish Inn,”\n",
      "there came such fervent rays, that it seemed to have melted the packed\n",
      "snow and ice from before the house, for everywhere else the congealed\n",
      "frost lay ten inches thick in a hard, asphaltic pavement,—rather weary\n",
      "for me, when I struck my foot against the flinty projections, because\n",
      "from hard, remorseless service the soles of my boots were in a most\n",
      "miserable plight. Too expensive and jolly, again thought I, pausing one\n",
      "moment to watch the broad glare in the street, and hear the sounds of\n",
      "the tinkling glasses within. But go on, Ishmael, said I at last; don’t\n",
      "you hear? get away from before the door; your patched boots are stopping\n",
      "the way. So on I went. I now by instinct followed the streets that\n",
      "took me waterward, for there, doubtless, were the cheapest, if not the\n",
      "cheeriest inns.\n",
      "\n",
      "Such dreary streets! blocks of blackness, not houses, on either hand,\n",
      "and here and there a candle, like a candle moving about in a tomb. At\n",
      "this hour of the night, of the last day of the week, that quarter of\n",
      "the town proved all but deserted. But presently I came to a smoky light\n",
      "proceeding from a low, wide building, the door of which stood invitingly\n",
      "open. It had a careless look, as if it were meant for the uses of the\n",
      "public; so, entering, the first thing I did was to stumble over an\n",
      "ash-box in the porch. Ha! thought I, ha, as the flying particles almost\n",
      "choked me, are these ashes from that destroyed city, Gomorrah? But\n",
      "“The Crossed Harpoons,” and “The Sword-Fish?”—this, then must\n",
      "needs be the sign of “The Trap.” However, I picked myself up and\n",
      "hearing a loud voice within, pushed on and opened a second, interior\n",
      "door.\n",
      "\n",
      "It seemed the great Black Parliament sitting in Tophet. A hundred black\n",
      "faces turned round in their rows to peer; and beyond, a black Angel\n",
      "of Doom was beating a book in a pulpit. It was a negro church; and the\n",
      "preacher’s text was about the blackness of darkness, and the weeping\n",
      "and wailing and teeth-gnashing there. Ha, Ishmael, muttered I, backing\n",
      "out, Wretched entertainment at the sign of ‘The Trap!’\n",
      "\n",
      "Moving on, I at last came to a dim sort of light not far from the docks,\n",
      "and heard a forlorn creaking in the air; and looking up, saw a swinging\n",
      "sign over the door with a white painting upon it, faintly representing\n",
      "a tall straight jet of misty spray, and these words underneath—“The\n",
      "Spouter Inn:—Peter Coffin.”\n",
      "\n",
      "Coffin?—Spouter?—Rather ominous in that particular connexion,\n",
      "thought I. But it is a common name in Nantucket, they say, and I suppose\n",
      "this Peter here is an emigrant from there. As the light looked so dim,\n",
      "and the place, for the time, looked quiet enough, and the dilapidated\n",
      "little wooden house itself looked as if it might have been carted here\n",
      "from the ruins of some burnt district, and as the swinging sign had a\n",
      "poverty-stricken sort of creak to it, I thought that here was the very\n",
      "spot for cheap lodgings, and the best of pea coffee.\n",
      "\n",
      "It was a queer sort of place—a gable-ended old house, one side palsied\n",
      "as it were, and leaning over sadly. It stood on a sharp bleak corner,\n",
      "where that tempestuous wind Euroclydon kept up a worse howling than ever\n",
      "it did about poor Paul’s tossed craft. Euroclydon, nevertheless, is\n",
      "a mighty pleasant zephyr to any one in-doors, with his feet on the hob\n",
      "quietly toasting for bed. “In judging of that tempestuous wind called\n",
      "Euroclydon,” says an old writer—of whose works I possess the only\n",
      "copy extant—“it maketh a marvellous difference, whether thou lookest\n",
      "out at it from a glass window where the frost is all on the outside, or\n",
      "whether thou observest it from that sashless window, where the frost is\n",
      "on both sides, and of which the wight Death is the only glazier.”\n",
      "True enough, thought I, as this passage occurred to my mind—old\n",
      "black-letter, thou reasonest well. Yes, these eyes are windows, and this\n",
      "body of mine is the house. What a pity they didn’t stop up the chinks\n",
      "and the crannies though, and thrust in a little lint here and there. But\n",
      "it’s too late to make any improvements now. The universe is finished;\n",
      "the copestone is on, and the chips were carted off a million years ago.\n",
      "Poor Lazarus there, chattering his teeth against the curbstone for his\n",
      "pillow, and shaking off his tatters with his shiverings, he might plug\n",
      "up both ears with rags, and put a corn-cob into his mouth, and yet that\n",
      "would not keep out the tempestuous Euroclydon. Euroclydon! says old\n",
      "Dives, in his red silken wrapper—(he had a redder one afterwards)\n",
      "pooh, pooh! What a fine frosty night; how Orion glitters; what northern\n",
      "lights! Let them talk of their oriental summer climes of everlasting\n",
      "conservatories; give me the privilege of making my own summer with my\n",
      "own coals.\n",
      "\n",
      "But what thinks Lazarus? Can he warm his blue hands by holding them up\n",
      "to the grand northern lights? Would not Lazarus rather be in Sumatra\n",
      "than here? Would he not far rather lay him down lengthwise along the\n",
      "line of the equator; yea, ye gods! go down to the fiery pit itself, in\n",
      "order to keep out this frost?\n",
      "\n",
      "Now, that Lazarus should lie stranded there on the curbstone before the\n",
      "door of Dives, this is more wonderful than that an iceberg should be\n",
      "moored to one of the Moluccas. Yet Dives himself, he too lives like a\n",
      "Czar in an ice palace made of frozen sighs, and being a president of a\n",
      "temperance society, he only drinks the tepid tears of orphans.\n",
      "\n",
      "But no more of this blubbering now, we are going a-whaling, and there is\n",
      "plenty of that yet to come. Let us scrape the ice from our frosted feet,\n",
      "and see what sort of a place this “Spouter” may be.\n",
      "\n",
      "\n",
      "\n",
      "\n",
      "\n"
     ]
    }
   ],
   "source": [
    "#Splitting the text by chapter\n",
    "ByChapter = re.split(\"\\n(CHAPTER \\d+)\\. \", MobyDick)\n",
    "print(\"Total splits: \"+str(len(ByChapter)))\n",
    "#initializing a variable to count the total number of chapter texts\n",
    "TotalChapterTextsFound = 0\n",
    "#looping over each, obtaining the text and storing it \n",
    "for i in range(135):\n",
    "    if index.get(ByChapter[2*i+1],False):\n",
    "        TotalChapterTextsFound += 1\n",
    "        index[ByChapter[2*i+1]][\"text\"] = ByChapter[2*(i+1)]\n",
    "#         print(\"Found the text for \"+ByChapter[2*i+1]+\": \"+index[ByChapter[2*i+1]][\"title\"])\n",
    "print(\"\\nFound \"+str(TotalChapterTextsFound)+\" chapter texts in total!\")\n",
    "print(\"Here's what we got for CHAPTER 2: \\n\\n\"+index[\"CHAPTER 2\"][\"text\"])"
   ]
  },
  {
   "cell_type": "markdown",
   "metadata": {
    "id": "D68qDC0wG61G"
   },
   "source": [
    "#### Pre-processing also includes feature selection\n",
    "A primary feature selection task is called \"tokenization.\" A basic way to get tokens is to split by spaces. Counting these \"words\" up creates the \"bag-of-words\" framework for text analysis.\n",
    "\n",
    "Tokenization is the process of breaking up a given text into units called tokens."
   ]
  },
  {
   "cell_type": "code",
   "execution_count": 26,
   "metadata": {
    "colab": {
     "base_uri": "https://localhost:8080/"
    },
    "executionInfo": {
     "elapsed": 3001,
     "status": "ok",
     "timestamp": 1618166751513,
     "user": {
      "displayName": "Harshit Geddam",
      "photoUrl": "https://lh3.googleusercontent.com/a-/AOh14GhXMfQTvrdrmiSk14MHOw41fxMIkB9FUlv_9nacgw=s64",
      "userId": "06261552780153453867"
     },
     "user_tz": -330
    },
    "id": "rBWwskbNG61G",
    "outputId": "c13dd171-8f4c-41c8-d7de-d94c7e0d910a",
    "scrolled": true
   },
   "outputs": [
    {
     "name": "stdout",
     "output_type": "stream",
     "text": [
      "Here are the top 100 words in CHAPTER 2:\n",
      "\n",
      "\n",
      "1: the\n",
      "2: a\n",
      "3: of\n",
      "4: and\n",
      "5: to\n",
      "6: I\n",
      "7: in\n",
      "8: that\n",
      "9: for\n",
      "10: was\n",
      "11: my\n",
      "12: it\n",
      "13: from\n",
      "14: is\n",
      "15: on\n",
      "16: as\n",
      "17: with\n",
      "18: this\n",
      "19: his\n",
      "20: not\n",
      "21: It\n",
      "22: had\n",
      "23: no\n",
      "24: I,\n",
      "25: up\n",
      "26: at\n",
      "27: were\n",
      "28: one\n",
      "29: he\n",
      "30: old\n",
      "31: New\n",
      "32: there\n",
      "33: about\n",
      "34: first\n",
      "35: did\n",
      "36: where\n",
      "37: night,\n",
      "38: before\n",
      "39: Ishmael,\n",
      "40: be\n",
      "41: too\n",
      "42: sign\n",
      "43: looked\n",
      "44: on,\n",
      "45: thought\n",
      "46: are\n",
      "47: here\n",
      "48: sort\n",
      "49: an\n",
      "50: little\n",
      "51: Nantucket\n",
      "52: their\n",
      "53: than\n",
      "54: which\n",
      "55: yet\n",
      "56: but\n",
      "57: they\n",
      "58: only\n",
      "59: stood\n",
      "60: came\n",
      "61: ice\n",
      "62: But\n",
      "63: if\n",
      "64: over\n",
      "65: these\n",
      "66: there.\n",
      "67: tempestuous\n",
      "68: thou\n",
      "69: Lazarus\n",
      "70: what\n",
      "71: The\n",
      "72: into\n",
      "73: night\n",
      "74: upon\n",
      "75: following\n",
      "76: stop\n",
      "77: Bedford,\n",
      "78: embark\n",
      "79: may\n",
      "80: so\n",
      "81: late\n",
      "82: been\n",
      "83: poor\n",
      "84: now\n",
      "85: great\n",
      "86: else\n",
      "87: give\n",
      "88: put\n",
      "89: when\n",
      "90: said\n",
      "91: dreary\n",
      "92: towards\n",
      "93: your\n",
      "94: expensive\n",
      "95: red\n",
      "96: seemed\n",
      "97: have\n",
      "98: house,\n",
      "99: lay\n",
      "100: hard,\n"
     ]
    }
   ],
   "source": [
    "for chapter in index:\n",
    "    tokens = re.split(\" \", index[chapter][\"text\"])\n",
    "    index[chapter][\"counts\"] = {}\n",
    "    for token in tokens:\n",
    "        index[chapter][\"counts\"].setdefault(token, 0)\n",
    "        index[chapter][\"counts\"][token] += 1\n",
    "\n",
    "words = sorted(index[\"CHAPTER 2\"][\"counts\"], key=lambda x: index[\"CHAPTER 2\"][\"counts\"][x], reverse = True)\n",
    "print(\"Here are the top 100 words in CHAPTER 2:\\n\\n\")\n",
    "\n",
    "print(\"\\n\".join([\": \".join(x) for x in zip(map(str,range(1,101)),words[0:100])]))"
   ]
  },
  {
   "cell_type": "markdown",
   "metadata": {
    "id": "6gtTZAF7G61G"
   },
   "source": [
    "### Images\n",
    "Image data is unstructured like text, but presents quite different challenges, as it does not generally represent a language. Let's start by loading our image in and displaying it."
   ]
  },
  {
   "cell_type": "code",
   "execution_count": 92,
   "metadata": {
    "executionInfo": {
     "elapsed": 2996,
     "status": "ok",
     "timestamp": 1618166751514,
     "user": {
      "displayName": "Harshit Geddam",
      "photoUrl": "https://lh3.googleusercontent.com/a-/AOh14GhXMfQTvrdrmiSk14MHOw41fxMIkB9FUlv_9nacgw=s64",
      "userId": "06261552780153453867"
     },
     "user_tz": -330
    },
    "id": "X0RDuOoCObaF"
   },
   "outputs": [],
   "source": [
    "file_path_img = r'C:\\Users\\sharm\\Desktop\\Drexel\\Class-work-\\Spring 21-22\\INFO 103 - TA\\W2\\Rgb-raster-image_smile.jpg'"
   ]
  },
  {
   "cell_type": "code",
   "execution_count": 96,
   "metadata": {
    "executionInfo": {
     "elapsed": 2992,
     "status": "ok",
     "timestamp": 1618166751514,
     "user": {
      "displayName": "Harshit Geddam",
      "photoUrl": "https://lh3.googleusercontent.com/a-/AOh14GhXMfQTvrdrmiSk14MHOw41fxMIkB9FUlv_9nacgw=s64",
      "userId": "06261552780153453867"
     },
     "user_tz": -330
    },
    "id": "dnDkD8_ZG61H"
   },
   "outputs": [],
   "source": [
    "with open(file_path_img, 'rb') as inf:\n",
    "    jpgdata = inf.read()\n",
    "image_object = Image.open(BytesIO(jpgdata))"
   ]
  },
  {
   "cell_type": "code",
   "execution_count": 97,
   "metadata": {
    "colab": {
     "base_uri": "https://localhost:8080/",
     "height": 434
    },
    "executionInfo": {
     "elapsed": 2989,
     "status": "ok",
     "timestamp": 1618166751515,
     "user": {
      "displayName": "Harshit Geddam",
      "photoUrl": "https://lh3.googleusercontent.com/a-/AOh14GhXMfQTvrdrmiSk14MHOw41fxMIkB9FUlv_9nacgw=s64",
      "userId": "06261552780153453867"
     },
     "user_tz": -330
    },
    "id": "SAo_nqrKG61H",
    "outputId": "efe70749-b02f-4a13-a67e-226580906c9b"
   },
   "outputs": [
    {
     "data": {
      "image/png": "[encoded data removed]",
      "text/plain": [
       "<PIL.JpegImagePlugin.JpegImageFile image mode=RGB size=368x400 at 0x21FD4035A60>"
      ]
     },
     "metadata": {},
     "output_type": "display_data"
    }
   ],
   "source": [
    "print(image_object)\n",
    "display(image_object)"
   ]
  },
  {
   "cell_type": "markdown",
   "metadata": {
    "id": "xaFcfwgxG61H"
   },
   "source": [
    "#### What does image data actually look like?\n",
    "Recall, jpgs are just matricies pixes, which record the intensities of three colors: Red Green and Blue. This is encoded with a python image object as a three dimensional array, i.e., a matrix of triplicate numbers. This image is of size 368 x 400, so we can access pixels in x and y dimensions with indices up to those numbers! (Note: Our image object is only a generator, so the pixels are not actually retrieved unless they are loaded.)"
   ]
  },
  {
   "cell_type": "code",
   "execution_count": 98,
   "metadata": {
    "colab": {
     "base_uri": "https://localhost:8080/"
    },
    "executionInfo": {
     "elapsed": 2982,
     "status": "ok",
     "timestamp": 1618166751515,
     "user": {
      "displayName": "Harshit Geddam",
      "photoUrl": "https://lh3.googleusercontent.com/a-/AOh14GhXMfQTvrdrmiSk14MHOw41fxMIkB9FUlv_9nacgw=s64",
      "userId": "06261552780153453867"
     },
     "user_tz": -330
    },
    "id": "ma7oWxARG61H",
    "outputId": "0f4ee901-8bb7-4512-8149-6bddc4f4a183"
   },
   "outputs": [
    {
     "name": "stdout",
     "output_type": "stream",
     "text": [
      "(255, 255, 255)\n",
      "(20, 20, 12)\n",
      "(241, 240, 0)\n"
     ]
    }
   ],
   "source": [
    "px = image_object.load()\n",
    "print(px[0,0])\n",
    "print(px[183,199])\n",
    "print(px[183,100])"
   ]
  },
  {
   "cell_type": "markdown",
   "metadata": {
    "id": "iMLzTolkG61I"
   },
   "source": [
    "To change a pixel to black, all we have to do is zero-out each of the bytes. To change a pixel to white, all we have to do is 255 (recall: there are 256 ways to arrange a single byte). We can do these operations for a bunch of pixes by double looping. (Note: When we alter the pixels, the changes take effect in the image object.)"
   ]
  },
  {
   "cell_type": "code",
   "execution_count": 99,
   "metadata": {
    "colab": {
     "base_uri": "https://localhost:8080/",
     "height": 417
    },
    "executionInfo": {
     "elapsed": 2975,
     "status": "ok",
     "timestamp": 1618166751515,
     "user": {
      "displayName": "Harshit Geddam",
      "photoUrl": "https://lh3.googleusercontent.com/a-/AOh14GhXMfQTvrdrmiSk14MHOw41fxMIkB9FUlv_9nacgw=s64",
      "userId": "06261552780153453867"
     },
     "user_tz": -330
    },
    "id": "iWU3RaGqG61I",
    "outputId": "883a3d07-5243-4cc2-f702-d4209b65acbb"
   },
   "outputs": [
    {
     "data": {
      "image/png": "[encoded data removed]",
      "text/plain": [
       "<PIL.JpegImagePlugin.JpegImageFile image mode=RGB size=368x400 at 0x21FD4035A60>"
      ]
     },
     "metadata": {},
     "output_type": "display_data"
    }
   ],
   "source": [
    "for i in range(100):\n",
    "    for j in range(100):\n",
    "        px[i,j] = (0,0,0)\n",
    "        \n",
    "for i in range(200,301):\n",
    "    for j in range(200,301):\n",
    "        px[i,j] = (255,255,255)\n",
    "display(image_object)"
   ]
  },
  {
   "cell_type": "code",
   "execution_count": 100,
   "metadata": {
    "colab": {
     "base_uri": "https://localhost:8080/",
     "height": 417
    },
    "executionInfo": {
     "elapsed": 2967,
     "status": "ok",
     "timestamp": 1618166751516,
     "user": {
      "displayName": "Harshit Geddam",
      "photoUrl": "https://lh3.googleusercontent.com/a-/AOh14GhXMfQTvrdrmiSk14MHOw41fxMIkB9FUlv_9nacgw=s64",
      "userId": "06261552780153453867"
     },
     "user_tz": -330
    },
    "id": "iiyr6i5bG61I",
    "outputId": "5020cc2c-de16-40f3-e98e-dcf028749081"
   },
   "outputs": [
    {
     "data": {
      "image/png": "[encoded data removed]",
      "text/plain": [
       "<PIL.JpegImagePlugin.JpegImageFile image mode=RGB size=368x400 at 0x21FD4035A60>"
      ]
     },
     "metadata": {},
     "output_type": "display_data"
    }
   ],
   "source": [
    "for i in range(268,368):\n",
    "    for j in range(300,400):\n",
    "        px[i,j] = (0,0,0)\n",
    "display(image_object)"
   ]
  },
  {
   "cell_type": "markdown",
   "metadata": {
    "id": "JEEATL0XG61J"
   },
   "source": [
    "All you have to do is change the RBG intensities to make a variety of colors."
   ]
  },
  {
   "cell_type": "code",
   "execution_count": 101,
   "metadata": {
    "colab": {
     "base_uri": "https://localhost:8080/",
     "height": 417
    },
    "executionInfo": {
     "elapsed": 2959,
     "status": "ok",
     "timestamp": 1618166751516,
     "user": {
      "displayName": "Harshit Geddam",
      "photoUrl": "https://lh3.googleusercontent.com/a-/AOh14GhXMfQTvrdrmiSk14MHOw41fxMIkB9FUlv_9nacgw=s64",
      "userId": "06261552780153453867"
     },
     "user_tz": -330
    },
    "id": "AGkmGrmFG61J",
    "outputId": "2e4caa0c-025c-47f2-ff7d-10c52ed488a3"
   },
   "outputs": [
    {
     "data": {
      "image/png": "[encoded data removed]",
      "text/plain": [
       "<PIL.JpegImagePlugin.JpegImageFile image mode=RGB size=368x400 at 0x21FD4035A60>"
      ]
     },
     "metadata": {},
     "output_type": "display_data"
    }
   ],
   "source": [
    "for i in range(0,368):\n",
    "    for j in range(200,301):\n",
    "        px[i,j] = ((i + j) % 256,i % 256,j % 256)\n",
    "display(image_object)"
   ]
  },
  {
   "cell_type": "markdown",
   "metadata": {
    "id": "QBz0GaaLG61J"
   },
   "source": [
    "#### What about features here?\n",
    "Features in images take on physical meanings, perhaps related to how we recognize things. So, for faces this might be the distances between eyes. However this means figuring out where the eyes are first."
   ]
  },
  {
   "cell_type": "code",
   "execution_count": 103,
   "metadata": {
    "colab": {
     "base_uri": "https://localhost:8080/",
     "height": 417
    },
    "executionInfo": {
     "elapsed": 4369,
     "status": "ok",
     "timestamp": 1618166752933,
     "user": {
      "displayName": "Harshit Geddam",
      "photoUrl": "https://lh3.googleusercontent.com/a-/AOh14GhXMfQTvrdrmiSk14MHOw41fxMIkB9FUlv_9nacgw=s64",
      "userId": "06261552780153453867"
     },
     "user_tz": -330
    },
    "id": "UkzZ0JTRG61J",
    "outputId": "21107fc3-8699-4caa-c713-171bba018e76"
   },
   "outputs": [
    {
     "data": {
      "image/png": "[encoded data removed]",
      "text/plain": [
       "<PIL.JpegImagePlugin.JpegImageFile image mode=RGB size=368x400 at 0x21FD4035A60>"
      ]
     },
     "metadata": {},
     "output_type": "display_data"
    }
   ],
   "source": [
    "for i in range(166,206):\n",
    "    for j in range(101,141):\n",
    "        px[i,j] = px[i,j] = (0,0,0)\n",
    "        \n",
    "for i in range(246,286):\n",
    "    for j in range(101,141):\n",
    "        px[i,j] = px[i,j] = (0,0,0)\n",
    "display(image_object)"
   ]
  },
  {
   "cell_type": "markdown",
   "metadata": {
    "id": "L-Gd5GrlG61K"
   },
   "source": [
    "So, it looks like the eyes here are about 80 pixels apart. The measurement of this feature might discern our smile from other smiles whose eyes are wider apart. For fun, let's reload the data (since we kind of wrecked it) and give our smile some crazy eyes!"
   ]
  },
  {
   "cell_type": "code",
   "execution_count": 104,
   "metadata": {
    "colab": {
     "base_uri": "https://localhost:8080/",
     "height": 417
    },
    "executionInfo": {
     "elapsed": 4363,
     "status": "ok",
     "timestamp": 1618166752934,
     "user": {
      "displayName": "Harshit Geddam",
      "photoUrl": "https://lh3.googleusercontent.com/a-/AOh14GhXMfQTvrdrmiSk14MHOw41fxMIkB9FUlv_9nacgw=s64",
      "userId": "06261552780153453867"
     },
     "user_tz": -330
    },
    "id": "c875xW1bG61K",
    "outputId": "48712aa0-ce3c-49f0-bb17-8bed442fb316"
   },
   "outputs": [
    {
     "data": {
      "image/png": "[encoded data removed]",
      "text/plain": [
       "<PIL.JpegImagePlugin.JpegImageFile image mode=RGB size=368x400 at 0x21FE470B040>"
      ]
     },
     "metadata": {},
     "output_type": "display_data"
    }
   ],
   "source": [
    "with open(file_path_img, 'rb') as inf:\n",
    "    jpgdata = inf.read()\n",
    "image_object = Image.open(BytesIO(jpgdata))\n",
    "px = image_object.load()\n",
    "\n",
    "for i in range(166,206):\n",
    "    for j in range(101,141):\n",
    "        px[i,j] = ((i * j) % 256,(i + j) % 256,(i - j) % 256)\n",
    "        \n",
    "for i in range(246,286):\n",
    "    for j in range(101,141):\n",
    "        px[i,j] = ((i * j) % 256,(i + j) % 256,(i - j) % 256)\n",
    "display(image_object)"
   ]
  },
  {
   "cell_type": "markdown",
   "metadata": {
    "id": "R58huAvmG61K"
   },
   "source": [
    "### XML\n",
    "The Extended Markup Language (XML) format is a verbose type of associative data. It uses nested tags: <\\key> ...value... </\\key>. To associate values to keys. Here, we've got a restaurant menu in XML format."
   ]
  },
  {
   "cell_type": "code",
   "execution_count": 105,
   "metadata": {
    "executionInfo": {
     "elapsed": 4356,
     "status": "ok",
     "timestamp": 1618166752934,
     "user": {
      "displayName": "Harshit Geddam",
      "photoUrl": "https://lh3.googleusercontent.com/a-/AOh14GhXMfQTvrdrmiSk14MHOw41fxMIkB9FUlv_9nacgw=s64",
      "userId": "06261552780153453867"
     },
     "user_tz": -330
    },
    "id": "jTWNj9asOh0u"
   },
   "outputs": [],
   "source": [
    "file_path_xml = r'C:\\Users\\sharm\\Desktop\\Drexel\\Class-work-\\Spring 21-22\\INFO 103 - TA\\W2\\simple.xml'"
   ]
  },
  {
   "cell_type": "code",
   "execution_count": 106,
   "metadata": {
    "colab": {
     "base_uri": "https://localhost:8080/"
    },
    "executionInfo": {
     "elapsed": 4353,
     "status": "ok",
     "timestamp": 1618166752935,
     "user": {
      "displayName": "Harshit Geddam",
      "photoUrl": "https://lh3.googleusercontent.com/a-/AOh14GhXMfQTvrdrmiSk14MHOw41fxMIkB9FUlv_9nacgw=s64",
      "userId": "06261552780153453867"
     },
     "user_tz": -330
    },
    "id": "UvidUHCLG61L",
    "outputId": "57f69ed5-6dce-457e-8544-a2fc77230844"
   },
   "outputs": [
    {
     "name": "stdout",
     "output_type": "stream",
     "text": [
      "<?xml version=\"1.0\" encoding=\"UTF-8\"?>\n",
      "<breakfast_menu>\n",
      "  <food>\n",
      "    <name>Belgian Waffles</name>\n",
      "    <price>$5.95</price>\n",
      "    <description>Two of our famous Belgian Waffles with plenty of real maple syrup</description>\n",
      "    <calories>650</calories>\n",
      "  </food>\n",
      "  <food>\n",
      "    <name>Strawberry Belgian Waffles</name>\n",
      "    <price>$7.95</price>\n",
      "    <description>Light Belgian waffles covered with strawberries and whipped cream</description>\n",
      "    <calories>900</calories>\n",
      "  </food>\n",
      "  <food>\n",
      "    <name>Berry-Berry Belgian Waffles</name>\n",
      "    <price>$8.95</price>\n",
      "    <description>Light Belgian waffles covered with an assortment of fresh berries and whipped cream</description>\n",
      "    <calories>900</calories>\n",
      "  </food>\n",
      "  <food>\n",
      "    <name>French Toast</name>\n",
      "    <price>$4.50</price>\n",
      "    <description>Thick slices made from our homemade sourdough bread</description>\n",
      "    <calories>600</calories>\n",
      "  </food>\n",
      "  <food>\n",
      "    <name>Homestyle Breakfast</name>\n",
      "    <price>$6.95</price>\n",
      "    <description>Two eggs, bacon or sausage, toast, and our ever-popular hash browns</description>\n",
      "    <calories>950</calories>\n",
      "  </food>\n",
      "</breakfast_menu>\n",
      "\n"
     ]
    }
   ],
   "source": [
    "with open(file_path_xml, \"r\") as f:\n",
    "    menu = f.read()\n",
    "print(menu)"
   ]
  },
  {
   "cell_type": "markdown",
   "metadata": {
    "id": "mj29ChgNG61L"
   },
   "source": [
    "To get the keys and values out of the XML we will need to parse it. We could spend a long time cooking up our own regular expressions for this, but people have already done this quite well, and packed it into the BeautifulSoup module."
   ]
  },
  {
   "cell_type": "code",
   "execution_count": 109,
   "metadata": {
    "colab": {
     "base_uri": "https://localhost:8080/"
    },
    "executionInfo": {
     "elapsed": 4347,
     "status": "ok",
     "timestamp": 1618166752935,
     "user": {
      "displayName": "Harshit Geddam",
      "photoUrl": "https://lh3.googleusercontent.com/a-/AOh14GhXMfQTvrdrmiSk14MHOw41fxMIkB9FUlv_9nacgw=s64",
      "userId": "06261552780153453867"
     },
     "user_tz": -330
    },
    "id": "FhF-2fm1G61L",
    "outputId": "2556cfab-f45e-494e-dff2-343fa3a29dd4"
   },
   "outputs": [
    {
     "name": "stdout",
     "output_type": "stream",
     "text": [
      "<food>\n",
      "<name>Belgian Waffles</name>\n",
      "<price>$5.95</price>\n",
      "<description>Two of our famous Belgian Waffles with plenty of real maple syrup</description>\n",
      "<calories>650</calories>\n",
      "</food>\n"
     ]
    }
   ],
   "source": [
    "soup = BeautifulSoup(menu, 'lxml')\n",
    "print(soup.find('food'))"
   ]
  },
  {
   "cell_type": "markdown",
   "metadata": {
    "id": "d0hnS6XFG61L"
   },
   "source": [
    "It looks like the schema has each food with a name, price, description and calories. Let's code this into a nice python dict object so we could navigate it more easily."
   ]
  },
  {
   "cell_type": "code",
   "execution_count": 111,
   "metadata": {
    "colab": {
     "base_uri": "https://localhost:8080/"
    },
    "executionInfo": {
     "elapsed": 4340,
     "status": "ok",
     "timestamp": 1618166752936,
     "user": {
      "displayName": "Harshit Geddam",
      "photoUrl": "https://lh3.googleusercontent.com/a-/AOh14GhXMfQTvrdrmiSk14MHOw41fxMIkB9FUlv_9nacgw=s64",
      "userId": "06261552780153453867"
     },
     "user_tz": -330
    },
    "id": "AzM4CCXOG61M",
    "outputId": "75e3af3c-9570-4896-daf4-eb57bfd5e456"
   },
   "outputs": [
    {
     "name": "stdout",
     "output_type": "stream",
     "text": [
      "Here's what we've got not for Belgian Waffles:\n",
      "\n",
      "\n",
      "{'Belgian Waffles': {'name': 'Belgian Waffles', 'price': 5.95, 'description': 'Two of our famous Belgian Waffles with plenty of real maple syrup', 'calories': 650}, 'Strawberry Belgian Waffles': {'name': 'Strawberry Belgian Waffles', 'price': 7.95, 'description': 'Light Belgian waffles covered with strawberries and whipped cream', 'calories': 900}, 'Berry-Berry Belgian Waffles': {'name': 'Berry-Berry Belgian Waffles', 'price': 8.95, 'description': 'Light Belgian waffles covered with an assortment of fresh berries and whipped cream', 'calories': 900}, 'French Toast': {'name': 'French Toast', 'price': 4.5, 'description': 'Thick slices made from our homemade sourdough bread', 'calories': 600}, 'Homestyle Breakfast': {'name': 'Homestyle Breakfast', 'price': 6.95, 'description': 'Two eggs, bacon or sausage, toast, and our ever-popular hash browns', 'calories': 950}}\n"
     ]
    }
   ],
   "source": [
    "ourmenu = {}\n",
    "for food in soup.find_all('food'):\n",
    "    ourmenu[food.find(\"name\").text] = {\n",
    "        \"name\": food.find(\"name\").text,\n",
    "        \"price\": float(re.sub(\"\\$\",\"\",food.find(\"price\").text)),\n",
    "        \"description\": food.find(\"description\").text,\n",
    "        \"calories\": int(food.find(\"calories\").text)\n",
    "    }\n",
    "print(\"Here's what we've got not for Belgian Waffles:\\n\\n\")\n",
    "print(ourmenu)"
   ]
  },
  {
   "cell_type": "markdown",
   "metadata": {
    "id": "U8vSU2v1G61M"
   },
   "source": [
    "Since we've converted the prices and calories to floats and ints, respectively, we can now measure some totals for a given mean. For example, let's order a Homestyle Breakfast with a side of French Toast and check the damage."
   ]
  },
  {
   "cell_type": "code",
   "execution_count": 112,
   "metadata": {
    "colab": {
     "base_uri": "https://localhost:8080/"
    },
    "executionInfo": {
     "elapsed": 4335,
     "status": "ok",
     "timestamp": 1618166752937,
     "user": {
      "displayName": "Harshit Geddam",
      "photoUrl": "https://lh3.googleusercontent.com/a-/AOh14GhXMfQTvrdrmiSk14MHOw41fxMIkB9FUlv_9nacgw=s64",
      "userId": "06261552780153453867"
     },
     "user_tz": -330
    },
    "id": "c1k896mRG61M",
    "outputId": "a06b7f57-40c5-46c6-92b9-d97d451794c1"
   },
   "outputs": [
    {
     "name": "stdout",
     "output_type": "stream",
     "text": [
      "Name: Homestyle Breakfast\n",
      "Calories: 950\n",
      "Price: $6.95\n",
      "\n",
      "Name: French Toast\n",
      "Calories: 600\n",
      "Price: $4.5\n",
      "\n",
      "Total calories: 1550\n",
      "Total price: $11.45\n"
     ]
    }
   ],
   "source": [
    "price = 0.\n",
    "calories = 0\n",
    "for name in [\"Homestyle Breakfast\",\"French Toast\"]:\n",
    "    print(\"Name: \"+name)\n",
    "    print(\"Calories: \"+str(ourmenu[name][\"calories\"]))\n",
    "    print(\"Price: $\"+str(ourmenu[name][\"price\"]))\n",
    "    print(\"\")\n",
    "    price += ourmenu[name][\"price\"]\n",
    "    calories += ourmenu[name][\"calories\"]\n",
    "print(\"Total calories: \"+str(calories))\n",
    "print(\"Total price: $\"+str(price))"
   ]
  },
  {
   "cell_type": "markdown",
   "metadata": {
    "id": "gBqAeGlHG61M"
   },
   "source": [
    "### HTML\n",
    "HTML is just XML with a specific schema for encoding webpages. So, we can use BeautifulSoup just the same here to get text content and hyperlinks, etcetera."
   ]
  },
  {
   "cell_type": "code",
   "execution_count": 41,
   "metadata": {
    "executionInfo": {
     "elapsed": 4328,
     "status": "ok",
     "timestamp": 1618166752937,
     "user": {
      "displayName": "Harshit Geddam",
      "photoUrl": "https://lh3.googleusercontent.com/a-/AOh14GhXMfQTvrdrmiSk14MHOw41fxMIkB9FUlv_9nacgw=s64",
      "userId": "06261552780153453867"
     },
     "user_tz": -330
    },
    "id": "0hnaDqfgO7qk"
   },
   "outputs": [],
   "source": [
    "file_path_html = r'C:\\Users\\sharm\\Desktop\\Drexel\\Class-work-\\Spring 21-22\\INFO 103 - TA\\W2\\index.html'"
   ]
  },
  {
   "cell_type": "code",
   "execution_count": 42,
   "metadata": {
    "colab": {
     "base_uri": "https://localhost:8080/"
    },
    "executionInfo": {
     "elapsed": 4325,
     "status": "ok",
     "timestamp": 1618166752938,
     "user": {
      "displayName": "Harshit Geddam",
      "photoUrl": "https://lh3.googleusercontent.com/a-/AOh14GhXMfQTvrdrmiSk14MHOw41fxMIkB9FUlv_9nacgw=s64",
      "userId": "06261552780153453867"
     },
     "user_tz": -330
    },
    "id": "8nX163eHG61M",
    "outputId": "3434c144-220e-4193-c545-b551cbd40065"
   },
   "outputs": [
    {
     "name": "stdout",
     "output_type": "stream",
     "text": [
      "<!DOCTYPE html PUBLIC \"-//W3C//DTD HTML 4.01//EN\" \"http://www.w3.org/TR/html4/strict.dtd\">\n",
      "<!-- saved from url=(0205)https://alt-5a3199fc4282a.blackboard.com/bbcswebdav/pid-11684871-dt-content-rid-209812543_1/courses/32222.202135/index.html?one_hash=2567DC680B1C8590A2A7BF0AE6EDE63E&f_hash=D17101AFE089F4F92003D89216508C1C -->\n",
      "<html><head><meta http-equiv=\"Content-Type\" content=\"text/html; charset=UTF-8\">\n",
      "  \n",
      "  <meta http-equiv=\"Content-Style-Type\" content=\"text/css\">\n",
      "  <title></title>\n",
      "  <meta name=\"Generator\" content=\"Cocoa HTML Writer\">\n",
      "  <meta name=\"CocoaVersion\" content=\"1504.82\">\n",
      "  <style type=\"text/css\">\n",
      "    body {background-color: #f0f0f2}\n",
      "    p.p2 {margin: 0.0px 0.0px 12.0px 0.0px; line-height: 14.0px; font: 12.0px 'Helvetica Neue'; color: #000000; -webkit-text-stroke: #000000}\n",
      "    p.p3 {margin: 0.0px 0.0px 12.0px 0.0px; line-height: 14.0px; font: 12.0px 'Helvetica Neue'; color: #38488f; -webkit-text-stroke: #38488f}\n",
      "    span.s1 {font-kerning: none; background-color: #ffffff}\n",
      "    span.s2 {font: 12.0px 'Helvetica Neue'; font-kerning: none; color: #38488f; -webkit-text-stroke: 0px #38488f}\n",
      "  </style>\n",
      "<style></style><script async=\"\" src=\"./index_files/adblocker-chromeglobalinjectjs.js.download\"></script></head>\n",
      "<body data-new-gr-c-s-loaded=\"14.1055.0\">\n",
      "<h1 style=\"margin: 0.0px 0.0px 16.1px 0.0px; line-height: 29.0px; font: 24.0px &#39;Helvetica Neue&#39;; color: #000000; -webkit-text-stroke: #000000\"><span class=\"s1\"><b>Example Domain</b></span></h1>\n",
      "<p class=\"p2\"><span class=\"s1\">This domain is established to be used for illustrative examples in documents. You may use this domain in examples without prior coordination or asking for permission.</span></p>\n",
      "<p class=\"p3\"><span class=\"s1\"><a href=\"http://www.iana.org/domains/example\">More information...<span class=\"s2\"></span></a></span></p>\n",
      "\n",
      "\n",
      "</body><grammarly-desktop-integration data-grammarly-shadow-root=\"true\"></grammarly-desktop-integration></html>\n"
     ]
    }
   ],
   "source": [
    "with open(file_path_html, \"r\") as f:\n",
    "    webpage = f.read()\n",
    "print(webpage)"
   ]
  },
  {
   "cell_type": "markdown",
   "metadata": {
    "id": "kdHQsHXeG61N"
   },
   "source": [
    "Usually, content text lives in <\\p> tags in the <\\body>, and hyperlinks live in <\\a> tags."
   ]
  },
  {
   "cell_type": "code",
   "execution_count": 43,
   "metadata": {
    "colab": {
     "base_uri": "https://localhost:8080/"
    },
    "executionInfo": {
     "elapsed": 4320,
     "status": "ok",
     "timestamp": 1618166752939,
     "user": {
      "displayName": "Harshit Geddam",
      "photoUrl": "https://lh3.googleusercontent.com/a-/AOh14GhXMfQTvrdrmiSk14MHOw41fxMIkB9FUlv_9nacgw=s64",
      "userId": "06261552780153453867"
     },
     "user_tz": -330
    },
    "id": "f_gaW6-9G61N",
    "outputId": "cd7bff24-6f68-43c5-9005-3bc96dbce812"
   },
   "outputs": [
    {
     "name": "stdout",
     "output_type": "stream",
     "text": [
      "Here are any body paragraphs:\n",
      "\n",
      "Paragraph: This domain is established to be used for illustrative examples in documents. You may use this domain in examples without prior coordination or asking for permission.\n",
      "\n",
      "\n",
      "\n",
      "Here are any Hyperlink display texts and URLs:\n",
      "\n",
      "Hyperlink display text: More information...\n",
      "Hyperlink URL: http://www.iana.org/domains/example\n"
     ]
    }
   ],
   "source": [
    "websoup = BeautifulSoup(webpage, 'lxml')\n",
    "print(\"Here are any body paragraphs:\\n\")\n",
    "for paragraph in websoup.find_all(\"body\"):\n",
    "    print(\"Paragraph: \"+paragraph.find('p').text)\n",
    "    print(\"\")\n",
    "print(\"\\n\")\n",
    "print(\"Here are any Hyperlink display texts and URLs:\\n\")\n",
    "for hyperlink in websoup.find_all(\"a\"):\n",
    "    print(\"Hyperlink display text: \"+hyperlink.text)\n",
    "    print(\"Hyperlink URL: \"+hyperlink[\"href\"])"
   ]
  },
  {
   "cell_type": "markdown",
   "metadata": {
    "id": "es4acZmxG61N"
   },
   "source": [
    "### JSON\n",
    "JSON is probably the favorite associative array data type for most data scientists. In Python, it's very easy to load, and for its similarity to the Python dict object type can generally be navigated as such. Here, our json file is an example from YouTube's API."
   ]
  },
  {
   "cell_type": "code",
   "execution_count": 113,
   "metadata": {
    "executionInfo": {
     "elapsed": 4314,
     "status": "ok",
     "timestamp": 1618166752939,
     "user": {
      "displayName": "Harshit Geddam",
      "photoUrl": "https://lh3.googleusercontent.com/a-/AOh14GhXMfQTvrdrmiSk14MHOw41fxMIkB9FUlv_9nacgw=s64",
      "userId": "06261552780153453867"
     },
     "user_tz": -330
    },
    "id": "Md5Pf0YGPFrr"
   },
   "outputs": [],
   "source": [
    "file_path_json = r'C:\\Users\\sharm\\Desktop\\Drexel\\Class-work-\\Spring 21-22\\INFO 103 - TA\\W2\\youtube.json'"
   ]
  },
  {
   "cell_type": "code",
   "execution_count": 114,
   "metadata": {
    "colab": {
     "base_uri": "https://localhost:8080/"
    },
    "executionInfo": {
     "elapsed": 4311,
     "status": "ok",
     "timestamp": 1618166752940,
     "user": {
      "displayName": "Harshit Geddam",
      "photoUrl": "https://lh3.googleusercontent.com/a-/AOh14GhXMfQTvrdrmiSk14MHOw41fxMIkB9FUlv_9nacgw=s64",
      "userId": "06261552780153453867"
     },
     "user_tz": -330
    },
    "id": "gvFJ4_TBG61N",
    "outputId": "c23c73d6-2466-4cef-ef13-5d39d30172c8",
    "scrolled": true
   },
   "outputs": [
    {
     "name": "stdout",
     "output_type": "stream",
     "text": [
      "The data is actually one level into the schema:\n",
      "\n",
      "dict_keys(['apiVersion', 'data'])\n",
      "\n",
      "Here are the keys for the data on this video:\n",
      "\n",
      "dict_keys(['updated', 'totalItems', 'startIndex', 'itemsPerPage', 'items'])\n"
     ]
    }
   ],
   "source": [
    "with open(file_path_json, \"r\") as f:\n",
    "    video = json.loads(f.read())\n",
    "    \n",
    "    \n",
    "print(\"The data is actually one level into the schema:\\n\")\n",
    "print(video.keys())\n",
    "print(\"\")\n",
    "print(\"Here are the keys for the data on this video:\\n\")\n",
    "print(video[\"data\"].keys())"
   ]
  },
  {
   "cell_type": "markdown",
   "metadata": {
    "id": "axggDPzGG61O"
   },
   "source": [
    "Within a list, the individual items are a good place to start exploring. Let's look at the first (only) item. Note That the values that we are printing out must be converted to strings. This is actually awesome, because it means that the json format implicitly encodes the object types, even in a text serialization (unlike XML). This is a real advantage for convenience in working with data&mdash;you don't necessarily have to cast types!"
   ]
  },
  {
   "cell_type": "code",
   "execution_count": 46,
   "metadata": {
    "colab": {
     "base_uri": "https://localhost:8080/"
    },
    "executionInfo": {
     "elapsed": 4304,
     "status": "ok",
     "timestamp": 1618166752940,
     "user": {
      "displayName": "Harshit Geddam",
      "photoUrl": "https://lh3.googleusercontent.com/a-/AOh14GhXMfQTvrdrmiSk14MHOw41fxMIkB9FUlv_9nacgw=s64",
      "userId": "06261552780153453867"
     },
     "user_tz": -330
    },
    "id": "qJM3MTd0G61O",
    "outputId": "ee35a915-7c51-4b5e-b4c7-c480357e6814"
   },
   "outputs": [
    {
     "name": "stdout",
     "output_type": "stream",
     "text": [
      "id: hYB0mn5zh2c\n",
      "uploaded: 2007-06-05T22:07:03.000Z\n",
      "updated: 2010-01-07T13:26:50.000Z\n",
      "uploader: GoogleDeveloperDay\n",
      "category: News\n",
      "title: Google Developers Day US - Maps API Introduction\n",
      "description: Google Maps API Introduction ...\n",
      "tags: ['GDD07', 'GDD07US', 'Maps']\n",
      "thumbnail: {'default': 'http://i.ytimg.com/vi/hYB0mn5zh2c/default.jpg', 'hqDefault': 'http://i.ytimg.com/vi/hYB0mn5zh2c/hqdefault.jpg'}\n",
      "player: {'default': 'http://www.youtube.com/watch?vu003dhYB0mn5zh2c'}\n",
      "content: {'1': 'rtsp://v5.cache3.c.youtube.com/CiILENy.../0/0/0/video.3gp', '5': 'http://www.youtube.com/v/hYB0mn5zh2c?f...', '6': 'rtsp://v1.cache1.c.youtube.com/CiILENy.../0/0/0/video.3gp'}\n",
      "duration: 2840\n",
      "aspectRatio: widescreen\n",
      "rating: 4.63\n",
      "ratingCount: 68\n",
      "viewCount: 220101\n",
      "favoriteCount: 201\n",
      "commentCount: 22\n",
      "status: {'value': 'restricted', 'reason': 'limitedSyndication'}\n",
      "accessControl: {'syndicate': 'allowed', 'commentVote': 'allowed', 'rate': 'allowed', 'list': 'allowed', 'comment': 'allowed', 'embed': 'allowed', 'videoRespond': 'moderated'}\n"
     ]
    }
   ],
   "source": [
    "for key in video[\"data\"][\"items\"][0]:\n",
    "    print(key+\": \"+str(video[\"data\"][\"items\"][0][key]))"
   ]
  },
  {
   "cell_type": "markdown",
   "metadata": {
    "id": "svPX3gB9G61O"
   },
   "source": [
    "Creating your own json files is also quite easy because of the dict-json parallel. Let's take our converted restaurant menu and write out to a json file."
   ]
  },
  {
   "cell_type": "code",
   "execution_count": 47,
   "metadata": {
    "executionInfo": {
     "elapsed": 4297,
     "status": "ok",
     "timestamp": 1618166752940,
     "user": {
      "displayName": "Harshit Geddam",
      "photoUrl": "https://lh3.googleusercontent.com/a-/AOh14GhXMfQTvrdrmiSk14MHOw41fxMIkB9FUlv_9nacgw=s64",
      "userId": "06261552780153453867"
     },
     "user_tz": -330
    },
    "id": "SWvZeZQuPPfq"
   },
   "outputs": [],
   "source": [
    "file_path_json2 = r'C:\\Users\\sharm\\Desktop\\Drexel\\Class-work-\\Spring 21-22\\INFO 103 - TA\\W2\\simple.json'"
   ]
  },
  {
   "cell_type": "code",
   "execution_count": 48,
   "metadata": {
    "executionInfo": {
     "elapsed": 4294,
     "status": "ok",
     "timestamp": 1618166752941,
     "user": {
      "displayName": "Harshit Geddam",
      "photoUrl": "https://lh3.googleusercontent.com/a-/AOh14GhXMfQTvrdrmiSk14MHOw41fxMIkB9FUlv_9nacgw=s64",
      "userId": "06261552780153453867"
     },
     "user_tz": -330
    },
    "id": "yEIdVzU2G61O"
   },
   "outputs": [],
   "source": [
    "with open(file_path_json2, \"w+\") as f:\n",
    "    f.write(json.dumps(ourmenu))"
   ]
  },
  {
   "cell_type": "markdown",
   "metadata": {
    "id": "5m8uUyP_G61O"
   },
   "source": [
    "The really cool thing about writing out the menu to json format (as we did) is that the json (unlike XML) format will carry forward the object tupes in the file. So, just as our YouTube data came in as ints and floats, the type changes that we made to the menu will be preserved in the output format!"
   ]
  },
  {
   "cell_type": "code",
   "execution_count": null,
   "metadata": {},
   "outputs": [],
   "source": []
  }
 ],
 "metadata": {
  "colab": {
   "collapsed_sections": [],
   "name": "D2-DataTypes-python3.ipynb",
   "provenance": []
  },
  "kernelspec": {
   "display_name": "Python 3",
   "language": "python",
   "name": "python3"
  },
  "language_info": {
   "codemirror_mode": {
    "name": "ipython",
    "version": 3
   },
   "file_extension": ".py",
   "mimetype": "text/x-python",
   "name": "python",
   "nbconvert_exporter": "python",
   "pygments_lexer": "ipython3",
   "version": "3.8.8"
  }
 },
 "nbformat": 4,
 "nbformat_minor": 1
}
